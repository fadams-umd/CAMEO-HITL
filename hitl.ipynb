{
 "cells": [
  {
   "cell_type": "markdown",
   "metadata": {},
   "source": [
    "# Imports and Setup"
   ]
  },
  {
   "cell_type": "markdown",
   "metadata": {},
   "source": [
    "## Asynchronous Execution"
   ]
  },
  {
   "cell_type": "code",
   "execution_count": 1,
   "metadata": {},
   "outputs": [],
   "source": [
    "import threading"
   ]
  },
  {
   "cell_type": "code",
   "execution_count": 2,
   "metadata": {},
   "outputs": [],
   "source": [
    "# multithreading lock to pause experiment loop during user feedback collection\n",
    "experiment_lock = threading.Event()\n",
    "experiment_lock.set()"
   ]
  },
  {
   "cell_type": "code",
   "execution_count": 3,
   "metadata": {},
   "outputs": [],
   "source": [
    "# multithreading lock to terminate the experiment thread prematurely\n",
    "quit_lock = threading.Event()"
   ]
  },
  {
   "cell_type": "markdown",
   "metadata": {},
   "source": [
    "## Logging"
   ]
  },
  {
   "cell_type": "code",
   "execution_count": 4,
   "metadata": {},
   "outputs": [],
   "source": [
    "import logging\n",
    "import datetime"
   ]
  },
  {
   "cell_type": "markdown",
   "metadata": {},
   "source": [
    "## Graphical User Interface"
   ]
  },
  {
   "cell_type": "code",
   "execution_count": 5,
   "metadata": {},
   "outputs": [
    {
     "data": {
      "text/plain": [
       "<matplotlib.pyplot._IoffContext at 0x2851750a3a0>"
      ]
     },
     "execution_count": 5,
     "metadata": {},
     "output_type": "execute_result"
    }
   ],
   "source": [
    "import ipywidgets as ipw\n",
    "import matplotlib.pyplot as plt\n",
    "from matplotlib import path\n",
    "import ternary\n",
    "\n",
    "# enable ipympl\n",
    "%matplotlib widget\n",
    "\n",
    "# turn on interactive mode so that plots only appear where we want it to\n",
    "plt.ioff()"
   ]
  },
  {
   "cell_type": "code",
   "execution_count": 6,
   "metadata": {},
   "outputs": [],
   "source": [
    "# create the gui elements\n",
    "fig, tax = ternary.figure()\n",
    "\n",
    "pause_button = ipw.Button(description='Pause')\n",
    "undo_button = ipw.Button(description='Undo Point')\n",
    "continue_button = ipw.Button(description='Continue')\n",
    "quit_button = ipw.Button(description='Quit')\n",
    "\n",
    "output = ipw.Output()"
   ]
  },
  {
   "cell_type": "code",
   "execution_count": 7,
   "metadata": {},
   "outputs": [],
   "source": [
    "# assemble the gui elements\n",
    "buttons = ipw.HBox([pause_button, undo_button, continue_button, quit_button])\n",
    "gui = ipw.VBox([fig.canvas, buttons, output])"
   ]
  },
  {
   "cell_type": "code",
   "execution_count": 8,
   "metadata": {},
   "outputs": [],
   "source": [
    "# store a list of points where the user has clicked\n",
    "points = []"
   ]
  },
  {
   "cell_type": "markdown",
   "metadata": {},
   "source": [
    "### Plot Callbacks"
   ]
  },
  {
   "cell_type": "code",
   "execution_count": 9,
   "metadata": {},
   "outputs": [],
   "source": [
    "def draw_background_plot(tax):\n",
    "    '''\n",
    "    Plot the data from the current experiment loop.\n",
    "\n",
    "    Parameters\n",
    "    ----------\n",
    "    tax: the ternary axes on which to plot the data\n",
    "    '''\n",
    "\n",
    "    # empty the ternary plot\n",
    "    tax.get_axes().clear()\n",
    "    tax.set_background_color()\n",
    "\n",
    "    # plot previous points\n",
    "    tax.get_axes().scatter(cartesian[measured[:-1], 0],\n",
    "                           cartesian[measured[:-1], 1], c=labels)\n",
    "\n",
    "    # plot next point\n",
    "    tax.get_axes().scatter(cartesian[measured[-1], 0],\n",
    "                           cartesian[measured[-1], 1], \n",
    "                           marker='o', color='m')\n",
    "\n",
    "    logging.info('Background plot drawn')\n",
    "\n",
    "    plt.draw()\n"
   ]
  },
  {
   "cell_type": "code",
   "execution_count": 10,
   "metadata": {},
   "outputs": [],
   "source": [
    "def draw_user_points(tax):\n",
    "    '''\n",
    "    Draw the points where the user has clicked.\n",
    "\n",
    "    Parameters\n",
    "    ----------\n",
    "    tax: the ternary axes on which to draw the points\n",
    "    '''\n",
    "\n",
    "    # create separate x and y coordinate lists for every point in points\n",
    "    x, y = zip(*points)\n",
    "\n",
    "    tax.get_axes().plot(x, y, 'k*-')\n",
    "\n",
    "    logging.info('User points drawn')\n",
    "\n",
    "    plt.draw()"
   ]
  },
  {
   "cell_type": "code",
   "execution_count": 11,
   "metadata": {},
   "outputs": [],
   "source": [
    "def plot_callback(event):\n",
    "    '''\n",
    "    Store the point where the user clicked and add it to the plot.\n",
    "\n",
    "    Parameters\n",
    "    ----------\n",
    "    event: a structure which has information about the mouse event\n",
    "    '''\n",
    "\n",
    "    logging.debug('User clicked on plot')\n",
    "    \n",
    "    if not experiment_lock.is_set():\n",
    "        # add the mouse position (in data coordinates) to the points list\n",
    "        points.append([event.xdata, event.ydata])\n",
    "\n",
    "        logging.info('Point added')\n",
    "\n",
    "        draw_user_points(tax)\n",
    "\n",
    "cid = fig.canvas.mpl_connect('button_press_event', plot_callback)"
   ]
  },
  {
   "cell_type": "markdown",
   "metadata": {},
   "source": [
    "### Button Callbacks"
   ]
  },
  {
   "cell_type": "code",
   "execution_count": 12,
   "metadata": {},
   "outputs": [],
   "source": [
    "def pause_callback(button):\n",
    "    '''\n",
    "    Set the internal flag of the experiment loop threading Event object to false.\n",
    "\n",
    "    Parameters\n",
    "    ----------\n",
    "    button: the instance of button that was clicked\n",
    "    '''\n",
    "\n",
    "    logging.debug('User clicked pause button')\n",
    "    \n",
    "    if experiment_lock.is_set():\n",
    "        experiment_lock.clear()\n",
    "        output.append_stdout('user has paused\\n')\n",
    "\n",
    "        logging.info('Experiment lock cleared')\n",
    "\n",
    "pause_button.on_click(pause_callback)"
   ]
  },
  {
   "cell_type": "code",
   "execution_count": 13,
   "metadata": {},
   "outputs": [],
   "source": [
    "def undo_callback(button):\n",
    "    '''\n",
    "    Removes the last point where the user clicked and updates the plot.\n",
    "\n",
    "    Parameters\n",
    "    ----------\n",
    "    button: the instance of button that was clicked\n",
    "    '''\n",
    "\n",
    "    logging.debug('User clicked undo button')\n",
    "\n",
    "    removed = points.pop()\n",
    "\n",
    "    # empty the ternary plot\n",
    "    tax.get_axes().clear()\n",
    "    tax.set_background_color()\n",
    "\n",
    "    # re-draw without the deleted point\n",
    "    draw_background_plot(tax)\n",
    "    draw_user_points(tax)\n",
    "\n",
    "    logging.info('Removed point')\n",
    "\n",
    "undo_button.on_click(undo_callback)"
   ]
  },
  {
   "cell_type": "code",
   "execution_count": 14,
   "metadata": {},
   "outputs": [],
   "source": [
    "def continue_callback(button):\n",
    "    '''\n",
    "    Set the internal flag of the experiment loop threading Event object to true.\n",
    "\n",
    "    Parameters\n",
    "    ----------\n",
    "    button: the instance of button that was clicked\n",
    "    '''\n",
    "\n",
    "    logging.debug('User clicked continue button')\n",
    "    \n",
    "    if not experiment_lock.is_set():\n",
    "        experiment_lock.set()\n",
    "        output.append_stdout('user has unpaused\\n')\n",
    "\n",
    "        logging.info('Experiment lock set')\n",
    "\n",
    "continue_button.on_click(continue_callback)"
   ]
  },
  {
   "cell_type": "code",
   "execution_count": 15,
   "metadata": {},
   "outputs": [],
   "source": [
    "def quit_callback(button):\n",
    "    '''\n",
    "    Set the internal flag of the quit threading Event object to true, causing the experiment thread to terminate on the next time through the loop.\n",
    "\n",
    "    Parameters\n",
    "    ----------\n",
    "    button: the instance of button that was clicked\n",
    "    '''\n",
    "\n",
    "    logging.debug('User clicked quit button')\n",
    "\n",
    "    output.append_stdout('user has quitted\\n')\n",
    "    quit_lock.set()\n",
    "\n",
    "    logging.info('Quit lock set')\n",
    "\n",
    "quit_button.on_click(quit_callback)"
   ]
  },
  {
   "cell_type": "markdown",
   "metadata": {},
   "source": [
    "## CAMEO"
   ]
  },
  {
   "cell_type": "code",
   "execution_count": 16,
   "metadata": {},
   "outputs": [],
   "source": [
    "# get the simulation test data\n",
    "# !wget -O CAMEO2_support_files_220104a.zip https://drive.google.com/u/0/uc?id=1UnKijzN_6shj-T2r37Jm2V6PSqTJMO-6&export=download\n",
    "# !unzip -o CAMEO2_support_files_220104a.zip"
   ]
  },
  {
   "cell_type": "code",
   "execution_count": 17,
   "metadata": {},
   "outputs": [],
   "source": [
    "import numpy as np\n",
    "import gpflow\n",
    "from gpflow.ci_utils import ci_niter\n",
    "from sklearn.manifold import spectral_embedding\n",
    "from sklearn.mixture import GaussianMixture\n",
    "from scipy.spatial import Voronoi\n",
    "from scipy.spatial.distance import pdist, squareform\n",
    "from ternary.helpers import project_sequence\n",
    "from scipy.io import loadmat\n",
    "from scipy.stats import entropy"
   ]
  },
  {
   "cell_type": "code",
   "execution_count": 18,
   "metadata": {},
   "outputs": [],
   "source": [
    "def phase_mapping(X, num_clusters):\n",
    "    '''\n",
    "    Cluster data using spectral clustering and a Gaussian mixture model\n",
    "\n",
    "    Parameters\n",
    "    ----------\n",
    "    X: m x n matrix - m rows of n dimensional data\n",
    "    num_clusters: number of groups to cluster data into\n",
    "\n",
    "    Returns\n",
    "    -------\n",
    "    cl: clustering labels for each sample\n",
    "    cluster_prob: the probability for each sample to belong to each cluster\n",
    "    '''\n",
    "\n",
    "    K = similarity_matrix(X, 'cosine')\n",
    "\n",
    "    if X.shape[0] <= num_clusters:\n",
    "        # fewer data points than clusters, each point gets its own cluster\n",
    "        cluster_prob = np.eye(X.shape[0])\n",
    "    else:\n",
    "        x_se = spectral_embedding(adjacency=K, n_components=num_clusters)\n",
    "        model = GaussianMixture(n_components=num_clusters,\n",
    "                                covariance_type='diag',\n",
    "                                n_init=100).fit(x_se)\n",
    "\n",
    "        cluster_prob = model.predict_proba(x_se)\n",
    "\n",
    "    cl = np.argmax(cluster_prob, axis=1).flatten()\n",
    "    return cl, cluster_prob"
   ]
  },
  {
   "cell_type": "code",
   "execution_count": 19,
   "metadata": {},
   "outputs": [],
   "source": [
    "def composition_to_graph(T):\n",
    "    '''\n",
    "    Use the composition data to identify nearby neighbors graph in\n",
    "    composition-space.\n",
    "\n",
    "    Parameters\n",
    "    ----------\n",
    "    T: n x 3 matrix - n rows of composition data in ternary coordinate space\n",
    "\n",
    "    Returns\n",
    "    -------\n",
    "    S: n x n matrix - symmetric adjacency matrix\n",
    "    '''\n",
    "\n",
    "    N = T.shape[0]\n",
    "    XYc = np.array(list(zip(*project_sequence(T))))\n",
    "    vor = Voronoi(XYc)\n",
    "    points_separated = vor.ridge_points\n",
    "    S = np.zeros((N, N))\n",
    "    for i in range(points_separated.shape[0]):\n",
    "        S[points_separated[i, 0], points_separated[i, 1]] = 1\n",
    "        S[points_separated[i, 1], points_separated[i, 0]] = 1\n",
    "    return S"
   ]
  },
  {
   "cell_type": "code",
   "execution_count": 20,
   "metadata": {},
   "outputs": [],
   "source": [
    "def plot_graph(S, XY):\n",
    "    '''\n",
    "    Plot the graph learned from composition positions.\n",
    "\n",
    "    Parameters\n",
    "    ----------\n",
    "    S: n x n matrix - symmetric adjacency matrix\n",
    "    XY: n x 2 matrix - n rows of composition data in cartesian coordinates\n",
    "    '''\n",
    "\n",
    "    r, c = np.nonzero(S)\n",
    "    for i in range(r.shape[0]):\n",
    "        xx = [XY[r[i], 0], XY[c[i], 0]]\n",
    "        yy = [XY[r[i], 1], XY[c[i], 1]]\n",
    "        plt.plot(xx, yy, c=np.asarray([.8, .8, .8]))\n",
    "        plt.plot(xx, yy, 'k.')"
   ]
  },
  {
   "cell_type": "code",
   "execution_count": 21,
   "metadata": {},
   "outputs": [],
   "source": [
    "def prune_graph(S, XY, dist_ratio, num_nearest_neighbors):\n",
    "    '''\n",
    "    Remove edges from the graph that connect points which are too far away.\n",
    "\n",
    "    Parameters\n",
    "    ----------\n",
    "    S: n x n matrix - symmetric adjacency matrix\n",
    "    XY: n x 2 matrix - n rows of composition data in cartesian coordinates\n",
    "    dist_ratio: adjusts the cutoff distance\n",
    "    num_nearest_neighbors: desired degree for data vertices\n",
    "    '''\n",
    "\n",
    "    D = squareform(pdist(XY))\n",
    "    mD = np.sort(D, 0)\n",
    "    mD = mD[num_nearest_neighbors, :]\n",
    "    S_ = S.copy()\n",
    "    for i in range(S.shape[0]):\n",
    "        d = D[i, :]\n",
    "        S_[i, d > dist_ratio*mD[i]] = 0\n",
    "        S_[d > dist_ratio*mD[i], i] = 0\n",
    "    return S_"
   ]
  },
  {
   "cell_type": "code",
   "execution_count": 22,
   "metadata": {},
   "outputs": [],
   "source": [
    "def similarity_matrix(X, metric, sigma=1):\n",
    "    '''\n",
    "    Calculate and return the similarity matrix used in spectral clustering.\n",
    "\n",
    "    Parameters\n",
    "    ----------\n",
    "    X: m x n matrix - m rows of n dimensional data\n",
    "    metric: distance metric passed to scipy.spatial.distance.pdist()\n",
    "    sigma: scaling factor for Gaussian radial basis function (default=1)\n",
    "    '''\n",
    "\n",
    "    distance = squareform(pdist(X, metric))\n",
    "    W = np.exp(-(distance**2) / (2*sigma**2))\n",
    "    return W"
   ]
  },
  {
   "cell_type": "code",
   "execution_count": 23,
   "metadata": {},
   "outputs": [],
   "source": [
    "def gpc_phasemapping(xy_curr, labels_curr, xy_full, num_clusters,\n",
    "                     weight_prior=None):\n",
    "    '''\n",
    "    Take clustering labels for the samples and then extrapolate them throughout\n",
    "    composition space, segmenting the XY space into 'phase regions'.\n",
    "\n",
    "    Parameters\n",
    "    ----------\n",
    "    xy_curr: cartesian coordinates of measured data points\n",
    "    labels_curr: cluster labels for those data\n",
    "    xy_full: cartesian coordinates of measured and new, query data points\n",
    "    num_clusters: the number of clusters we're assuming exist\n",
    "    weight_prior: variance coefficient of (optional) prior kernel\n",
    "\n",
    "    Returns\n",
    "    -------\n",
    "    y_mean: data point label predictions\n",
    "    y_variance: data point label variances\n",
    "    f_mean: data point latent GP predictions\n",
    "    f_variance: data point latent GP variances\n",
    "    '''\n",
    "\n",
    "    data = (xy_curr, labels_curr)\n",
    "\n",
    "    if weight_prior is None:\n",
    "        kernel = gpflow.kernels.Matern32(lengthscales=[1, 1])\n",
    "    else:\n",
    "        prior_kernel = gpflow.kernels.SquaredExponential(active_dims=[2],\n",
    "                                                         lengthscales=0.001,\n",
    "                                                         variance=weight_prior)\n",
    "\n",
    "        # fix the prior kernel lengthscale and variance\n",
    "        gpflow.utilities.set_trainable(prior_kernel.parameters[1], False)\n",
    "        gpflow.utilities.set_trainable(prior_kernel.parameters[0], False)\n",
    "                                                         \n",
    "        kernel = gpflow.kernels.Matern32(active_dims=[0, 1]) + prior_kernel\n",
    "\n",
    "    invlink = gpflow.likelihoods.RobustMax(num_clusters)\n",
    "\n",
    "    likelihood = gpflow.likelihoods.MultiClass(num_clusters, invlink=invlink)\n",
    "\n",
    "    model = gpflow.models.VGP(data=data,\n",
    "                              kernel=kernel,\n",
    "                              likelihood=likelihood,\n",
    "                              num_latent_gps=num_clusters)\n",
    "\n",
    "    # hyperparameter optimization\n",
    "    opt = gpflow.optimizers.Scipy()\n",
    "    _ = opt.minimize(model.training_loss,\n",
    "                     model.trainable_variables,\n",
    "                     options={'maxiter': ci_niter(1000)})\n",
    "\n",
    "    # Poisson process for the full XY coordinates\n",
    "    y = model.predict_y(xy_full)\n",
    "    y_mean = y[0].numpy()\n",
    "    y_variance = y[1].numpy()\n",
    "\n",
    "    # (non-squeezed) probabilistic function for class labels\n",
    "    f = model.predict_f(xy_full)\n",
    "    f_mean = f[0].numpy()\n",
    "    f_variance = f[1].numpy()\n",
    "\n",
    "    return y_mean, y_variance, f_mean, f_variance"
   ]
  },
  {
   "cell_type": "markdown",
   "metadata": {},
   "source": [
    "## Experiment Loop"
   ]
  },
  {
   "cell_type": "code",
   "execution_count": 24,
   "metadata": {},
   "outputs": [],
   "source": [
    "data = loadmat('FeGaPd_full_data_220104a.mat')\n",
    "\n",
    "# composition data in cartesian coordinates\n",
    "composition = data['C']\n",
    "idx = [1, 2, 0]\n",
    "cartesian = np.array(list(zip(*project_sequence(composition[:, idx]))))\n",
    "\n",
    "# x ray diffraction data\n",
    "xrd = data['X'][:, 631:1181]\n",
    "\n",
    "# true phase mapping labels\n",
    "true_labels = data['labels_col']\n",
    "\n",
    "# list of all the predicted labels to compare to the true labels\n",
    "all_predicted_labels = []\n",
    "\n",
    "initial_num_measurements = 20\n",
    "num_clusters = 5\n",
    "num_total = cartesian.shape[0]"
   ]
  },
  {
   "cell_type": "code",
   "execution_count": 25,
   "metadata": {},
   "outputs": [],
   "source": [
    "# seed the numpy random number generation for reproducability\n",
    "rng = np.random.RandomState(1234567890)"
   ]
  },
  {
   "cell_type": "code",
   "execution_count": 26,
   "metadata": {},
   "outputs": [],
   "source": [
    "# initialize these variables so we can access them in the main thread\n",
    "measured = rng.permutation(num_total)[:initial_num_measurements]\n",
    "labels = []\n",
    "y_mean = []\n",
    "acquisition = []\n",
    "next_sample = None"
   ]
  },
  {
   "cell_type": "code",
   "execution_count": 27,
   "metadata": {},
   "outputs": [],
   "source": [
    "def main():\n",
    "    '''\n",
    "    Run the calculation loop while checking if the user is waiting to\n",
    "    provide input. If so, pause the loop, collect input, then resume.\n",
    "    '''\n",
    "\n",
    "    global all_predict_labels\n",
    "\n",
    "    global measured\n",
    "    global labels\n",
    "    global y_mean\n",
    "    global acquisition\n",
    "    global next_sample\n",
    "\n",
    "    global points\n",
    "\n",
    "    user_labels = None\n",
    "\n",
    "    for i in range(num_total - initial_num_measurements - 1):\n",
    "        if quit_lock.is_set():\n",
    "            logging.info(f'Experiment loop quit on iteration {i+1}')\n",
    "            break\n",
    "\n",
    "        logging.info(f'Begin experiment loop iteration {i+1}')\n",
    "\n",
    "        labels, _ = phase_mapping(xrd[measured, :], num_clusters)\n",
    "\n",
    "        if user_labels is None:\n",
    "            # user didn't provide input last iteration\n",
    "            y_mean, _, _, _ = gpc_phasemapping(cartesian[measured, :],\n",
    "                                               labels,\n",
    "                                               cartesian,\n",
    "                                               num_clusters)\n",
    "\n",
    "            logging.debug('GPC phasemapping WITHOUT user input complete')\n",
    "        else:\n",
    "            # use the user labels as input\n",
    "            data_with_prior = np.column_stack((cartesian, user_labels))\n",
    "\n",
    "            y_mean, _, _, _ = gpc_phasemapping(data_with_prior[measured, :],\n",
    "                                               labels,\n",
    "                                               data_with_prior,\n",
    "                                               num_clusters,\n",
    "                                               weight_prior=1)\n",
    "\n",
    "            logging.debug('GPC phasemapping WITH user input complete')\n",
    "\n",
    "            # reset the user labels for next iteration\n",
    "            user_labels = None\n",
    "        \n",
    "        # new row of predicted labels, with NaN in place of unmeasured samples\n",
    "        new_label_row = np.argmax(y_mean, 1)\n",
    "        all_predicted_labels.append(new_label_row)\n",
    "\n",
    "        # calculate the next sample point\n",
    "        acquisition = entropy(y_mean, axis=1)\n",
    "        next_sample = np.argmax(acquisition)\n",
    "        measured = np.append(measured, next_sample)\n",
    "        \n",
    "        draw_background_plot(tax)\n",
    "\n",
    "        if not experiment_lock.is_set():\n",
    "            logging.info('Experiment thread pausing')\n",
    "\n",
    "            experiment_lock.wait()\n",
    "\n",
    "            logging.info('Experiment thread continuing')\n",
    "\n",
    "            if len(points) < 2:\n",
    "                raise ValueError('User didn\\'t add enough points.')\n",
    "            elif len(points) == 2:\n",
    "                # user drew a line\n",
    "                x1, y1 = points[0]\n",
    "                x2, y2 = points[1]\n",
    "\n",
    "                # calculate the distance between each point the line\n",
    "                d = [(x-x1)*(y2-y1)-(y-y1)*(x2-x1) for (x, y) in cartesian]\n",
    "\n",
    "                user_labels = np.sign(d)\n",
    "            else:\n",
    "                # user draw a polygon\n",
    "                polygon = path.Path(points)\n",
    "\n",
    "                user_labels = polygon.contains_points(cartesian)"
   ]
  },
  {
   "cell_type": "markdown",
   "metadata": {},
   "source": [
    "## Data Analysis Utilities"
   ]
  },
  {
   "cell_type": "code",
   "execution_count": 28,
   "metadata": {},
   "outputs": [],
   "source": [
    "from sklearn.metrics import fowlkes_mallows_score"
   ]
  },
  {
   "cell_type": "markdown",
   "metadata": {},
   "source": [
    "# Putting It Together"
   ]
  },
  {
   "cell_type": "code",
   "execution_count": 29,
   "metadata": {},
   "outputs": [],
   "source": [
    "time_string = datetime.datetime.now().strftime('%Y-%m-%d-%H-%M')\n",
    "\n",
    "logging.basicConfig(filename=f'logs/hitl_{time_string}.log',\n",
    "                    format='%(levelname)-5s [%(asctime)s]: %(message)s',\n",
    "                    level=logging.INFO)\n"
   ]
  },
  {
   "cell_type": "code",
   "execution_count": 30,
   "metadata": {},
   "outputs": [],
   "source": [
    "# begin the experiment in a new thread\n",
    "output.clear_output()\n",
    "experiment_thread = threading.Thread(target=main,\n",
    "                                     name='experiment')\n",
    "experiment_thread.start()"
   ]
  },
  {
   "cell_type": "code",
   "execution_count": 31,
   "metadata": {},
   "outputs": [
    {
     "data": {
      "application/vnd.jupyter.widget-view+json": {
       "model_id": "ccc78fedab4f4513affcb155912fb87d",
       "version_major": 2,
       "version_minor": 0
      },
      "text/plain": [
       "VBox(children=(Canvas(toolbar=Toolbar(toolitems=[('Home', 'Reset original view', 'home', 'home'), ('Back', 'Ba…"
      ]
     },
     "metadata": {},
     "output_type": "display_data"
    }
   ],
   "source": [
    "# start the gui\n",
    "gui"
   ]
  },
  {
   "cell_type": "code",
   "execution_count": null,
   "metadata": {},
   "outputs": [],
   "source": [
    "logging.debug('Checking if experiment thread is alive...')\n",
    "\n",
    "result = 'alive' if experiment_thread.is_alive() else 'dead'\n",
    "\n",
    "logging.debug(f'Experiment thread is {result}')\n",
    "\n",
    "print(result)"
   ]
  },
  {
   "cell_type": "markdown",
   "metadata": {},
   "source": [
    "# Data Analysis"
   ]
  },
  {
   "cell_type": "code",
   "execution_count": null,
   "metadata": {},
   "outputs": [],
   "source": [
    "# save predicted labels for later comparison\n",
    "np.savetxt('predicted_labels.txt', all_predicted_labels)"
   ]
  },
  {
   "cell_type": "code",
   "execution_count": 34,
   "metadata": {},
   "outputs": [
    {
     "name": "stderr",
     "output_type": "stream",
     "text": [
      "C:\\Users\\felix\\AppData\\Local\\Temp\\ipykernel_9784\\3074451272.py:2: UserWarning: loadtxt: Empty input file: \"predicted_labels.txt\"\n",
      "  all_predicted_labels = np.loadtxt('predicted_labels.txt')\n"
     ]
    }
   ],
   "source": [
    "# load predicted labels for analysis\n",
    "all_predicted_labels = np.loadtxt('predicted_labels.txt')"
   ]
  },
  {
   "cell_type": "code",
   "execution_count": 35,
   "metadata": {},
   "outputs": [],
   "source": [
    "all_predicted_labels = np.array(all_predicted_labels)"
   ]
  },
  {
   "cell_type": "code",
   "execution_count": 36,
   "metadata": {},
   "outputs": [],
   "source": [
    "# pick one of the 'true' labels to use for comparison\n",
    "true_labels_set = true_labels[0][0].flatten()"
   ]
  },
  {
   "cell_type": "code",
   "execution_count": 37,
   "metadata": {},
   "outputs": [],
   "source": [
    "num_experiments = len(all_predicted_labels)\n",
    "\n",
    "scores = np.zeros(num_experiments)\n",
    "\n",
    "for i in range(num_experiments):\n",
    "    scores[i] = fowlkes_mallows_score(true_labels_set, all_predicted_labels[i])\n"
   ]
  },
  {
   "cell_type": "code",
   "execution_count": 38,
   "metadata": {},
   "outputs": [
    {
     "data": {
      "application/vnd.jupyter.widget-view+json": {
       "model_id": "3f049b9f05764d1c9cd3b16b490f725e",
       "version_major": 2,
       "version_minor": 0
      },
      "image/png": "[encoded data removed]",
      "text/html": [
       "\n",
       "            <div style=\"display: inline-block;\">\n",
       "                <div class=\"jupyter-widgets widget-label\" style=\"text-align: center;\">\n",
       "                    Figure\n",
       "                </div>\n",
       "                <img src='data:image/png;base64,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' width=640.0/>\n",
       "            </div>\n",
       "        "
      ],
      "text/plain": [
       "Canvas(toolbar=Toolbar(toolitems=[('Home', 'Reset original view', 'home', 'home'), ('Back', 'Back to previous …"
      ]
     },
     "metadata": {},
     "output_type": "display_data"
    }
   ],
   "source": [
    "fig, ax = plt.subplots()\n",
    "ax.plot(scores, '.')\n",
    "ax.set_ylim([0, 1])\n",
    "plt.show()"
   ]
  }
 ],
 "metadata": {
  "interpreter": {
   "hash": "d782e3369a9c649e580e37cdd6febd5b59d5ba3ca94b62266a945741e1c35eee"
  },
  "kernelspec": {
   "display_name": "Python 3.9.13 ('hitl')",
   "language": "python",
   "name": "python3"
  },
  "language_info": {
   "codemirror_mode": {
    "name": "ipython",
    "version": 3
   },
   "file_extension": ".py",
   "mimetype": "text/x-python",
   "name": "python",
   "nbconvert_exporter": "python",
   "pygments_lexer": "ipython3",
   "version": "3.9.13"
  }
 },
 "nbformat": 4,
 "nbformat_minor": 2
}
