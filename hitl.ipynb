{
 "cells": [
  {
   "cell_type": "markdown",
   "metadata": {},
   "source": [
    "# Imports and Setup"
   ]
  },
  {
   "cell_type": "markdown",
   "metadata": {},
   "source": [
    "## Asynchronous Execution"
   ]
  },
  {
   "cell_type": "code",
   "execution_count": 1,
   "metadata": {},
   "outputs": [],
   "source": [
    "import threading"
   ]
  },
  {
   "cell_type": "code",
   "execution_count": 2,
   "metadata": {},
   "outputs": [],
   "source": [
    "# multithreading lock to pause experiment loop during user feedback collection\n",
    "experiment_lock = threading.Event()\n",
    "experiment_lock.set()"
   ]
  },
  {
   "cell_type": "code",
   "execution_count": 3,
   "metadata": {},
   "outputs": [],
   "source": [
    "# multithreading lock to terminate the experiment thread prematurely\n",
    "quit_lock = threading.Event()"
   ]
  },
  {
   "cell_type": "markdown",
   "metadata": {},
   "source": [
    "## Logging"
   ]
  },
  {
   "cell_type": "code",
   "execution_count": 4,
   "metadata": {},
   "outputs": [],
   "source": [
    "import logging\n",
    "import datetime"
   ]
  },
  {
   "cell_type": "markdown",
   "metadata": {},
   "source": [
    "## Graphical User Interface"
   ]
  },
  {
   "cell_type": "code",
   "execution_count": 5,
   "metadata": {},
   "outputs": [
    {
     "data": {
      "text/plain": [
       "<matplotlib.pyplot._IoffContext at 0x253429e6610>"
      ]
     },
     "execution_count": 5,
     "metadata": {},
     "output_type": "execute_result"
    }
   ],
   "source": [
    "import ipywidgets as ipw\n",
    "import matplotlib.pyplot as plt\n",
    "from matplotlib import path\n",
    "import ternary\n",
    "\n",
    "# enable ipympl\n",
    "%matplotlib widget\n",
    "\n",
    "# turn on interactive mode so that plots only appear where we want it to\n",
    "plt.ioff()"
   ]
  },
  {
   "cell_type": "code",
   "execution_count": 6,
   "metadata": {},
   "outputs": [],
   "source": [
    "# create the gui elements\n",
    "fig, tax = ternary.figure()\n",
    "\n",
    "pause_button = ipw.Button(description='Pause')\n",
    "undo_button = ipw.Button(description='Undo Point')\n",
    "continue_button = ipw.Button(description='Continue')\n",
    "quit_button = ipw.Button(description='Quit')"
   ]
  },
  {
   "cell_type": "code",
   "execution_count": 7,
   "metadata": {},
   "outputs": [],
   "source": [
    "# assemble the gui elements\n",
    "buttons = ipw.HBox([pause_button, undo_button, continue_button, quit_button])\n",
    "gui = ipw.VBox([fig.canvas, buttons])"
   ]
  },
  {
   "cell_type": "code",
   "execution_count": 8,
   "metadata": {},
   "outputs": [],
   "source": [
    "# store a list of points where the user has clicked\n",
    "points = []"
   ]
  },
  {
   "cell_type": "markdown",
   "metadata": {},
   "source": [
    "### Plot Callbacks"
   ]
  },
  {
   "cell_type": "code",
   "execution_count": 9,
   "metadata": {},
   "outputs": [],
   "source": [
    "def draw_background_plot(tax):\n",
    "    '''\n",
    "    Plot the data from the current experiment loop.\n",
    "\n",
    "    Parameters\n",
    "    ----------\n",
    "    tax: the ternary axes on which to plot the data\n",
    "    '''\n",
    "\n",
    "    # empty the ternary plot\n",
    "    tax.get_axes().clear()\n",
    "    tax.set_background_color()\n",
    "\n",
    "    # plot previous points\n",
    "    tax.get_axes().scatter(cartesian[measured[:-1], 0],\n",
    "                           cartesian[measured[:-1], 1], c=labels)\n",
    "\n",
    "    # plot next point\n",
    "    tax.get_axes().scatter(cartesian[measured[-1], 0],\n",
    "                           cartesian[measured[-1], 1], \n",
    "                           marker='o', color='m')\n",
    "\n",
    "    logging.info('Background plot drawn')\n",
    "\n",
    "    plt.draw()\n"
   ]
  },
  {
   "cell_type": "code",
   "execution_count": 10,
   "metadata": {},
   "outputs": [],
   "source": [
    "def draw_user_points(tax):\n",
    "    '''\n",
    "    Draw the points where the user has clicked.\n",
    "\n",
    "    Parameters\n",
    "    ----------\n",
    "    tax: the ternary axes on which to draw the points\n",
    "    '''\n",
    "\n",
    "    # create separate x and y coordinate lists for every point in points\n",
    "    x, y = zip(*points)\n",
    "\n",
    "    tax.get_axes().plot(x, y, 'k*-')\n",
    "\n",
    "    logging.info('User points drawn')\n",
    "\n",
    "    plt.draw()"
   ]
  },
  {
   "cell_type": "code",
   "execution_count": 11,
   "metadata": {},
   "outputs": [],
   "source": [
    "def plot_callback(event):\n",
    "    '''\n",
    "    Store the point where the user clicked and add it to the plot.\n",
    "\n",
    "    Parameters\n",
    "    ----------\n",
    "    event: a structure which has information about the mouse event\n",
    "    '''\n",
    "\n",
    "    logging.debug('User clicked on plot')\n",
    "    \n",
    "    if not experiment_lock.is_set():\n",
    "        # add the mouse position (in data coordinates) to the points list\n",
    "        points.append([event.xdata, event.ydata])\n",
    "\n",
    "        logging.info('Point added')\n",
    "\n",
    "        draw_user_points(tax)\n",
    "\n",
    "cid = fig.canvas.mpl_connect('button_press_event', plot_callback)"
   ]
  },
  {
   "cell_type": "markdown",
   "metadata": {},
   "source": [
    "### Button Callbacks"
   ]
  },
  {
   "cell_type": "code",
   "execution_count": 12,
   "metadata": {},
   "outputs": [],
   "source": [
    "def pause_callback(button):\n",
    "    '''\n",
    "    Set the internal flag of the experiment loop threading Event object to false.\n",
    "\n",
    "    Parameters\n",
    "    ----------\n",
    "    button: the instance of button that was clicked\n",
    "    '''\n",
    "\n",
    "    logging.debug('User clicked pause button')\n",
    "    \n",
    "    if experiment_lock.is_set():\n",
    "        experiment_lock.clear()\n",
    "\n",
    "        logging.info('Experiment lock cleared')\n",
    "\n",
    "pause_button.on_click(pause_callback)"
   ]
  },
  {
   "cell_type": "code",
   "execution_count": 13,
   "metadata": {},
   "outputs": [],
   "source": [
    "def undo_callback(button):\n",
    "    '''\n",
    "    Removes the last point where the user clicked and updates the plot.\n",
    "\n",
    "    Parameters\n",
    "    ----------\n",
    "    button: the instance of button that was clicked\n",
    "    '''\n",
    "\n",
    "    logging.debug('User clicked undo button')\n",
    "\n",
    "    # removed = points.pop()\n",
    "\n",
    "    # empty the ternary plot\n",
    "    tax.get_axes().clear()\n",
    "    tax.set_background_color()\n",
    "\n",
    "    # re-draw without the deleted point\n",
    "    draw_background_plot(tax)\n",
    "    draw_user_points(tax)\n",
    "\n",
    "    logging.info('Removed point')\n",
    "\n",
    "undo_button.on_click(undo_callback)"
   ]
  },
  {
   "cell_type": "code",
   "execution_count": 14,
   "metadata": {},
   "outputs": [],
   "source": [
    "def continue_callback(button):\n",
    "    '''\n",
    "    Set the internal flag of the experiment loop threading Event object to true.\n",
    "\n",
    "    Parameters\n",
    "    ----------\n",
    "    button: the instance of button that was clicked\n",
    "    '''\n",
    "\n",
    "    logging.debug('User clicked continue button')\n",
    "    \n",
    "    if not experiment_lock.is_set():\n",
    "        experiment_lock.set()\n",
    "\n",
    "        logging.info('Experiment lock set')\n",
    "\n",
    "continue_button.on_click(continue_callback)"
   ]
  },
  {
   "cell_type": "code",
   "execution_count": 15,
   "metadata": {},
   "outputs": [],
   "source": [
    "def quit_callback(button):\n",
    "    '''\n",
    "    Set the internal flag of the quit threading Event object to true, causing the experiment thread to terminate on the next time through the loop.\n",
    "\n",
    "    Parameters\n",
    "    ----------\n",
    "    button: the instance of button that was clicked\n",
    "    '''\n",
    "\n",
    "    logging.debug('User clicked quit button')\n",
    "\n",
    "    quit_lock.set()\n",
    "\n",
    "    logging.info('Quit lock set')\n",
    "\n",
    "quit_button.on_click(quit_callback)"
   ]
  },
  {
   "cell_type": "markdown",
   "metadata": {},
   "source": [
    "## CAMEO"
   ]
  },
  {
   "cell_type": "code",
   "execution_count": 16,
   "metadata": {},
   "outputs": [],
   "source": [
    "# get the simulation test data\n",
    "# !wget -O CAMEO2_support_files_220104a.zip https://drive.google.com/u/0/uc?id=1UnKijzN_6shj-T2r37Jm2V6PSqTJMO-6&export=download\n",
    "# !unzip -o CAMEO2_support_files_220104a.zip"
   ]
  },
  {
   "cell_type": "code",
   "execution_count": 17,
   "metadata": {},
   "outputs": [],
   "source": [
    "import numpy as np\n",
    "import tensorflow as tf\n",
    "import gpflow\n",
    "from gpflow.ci_utils import ci_niter\n",
    "from sklearn.manifold import spectral_embedding\n",
    "from sklearn.mixture import GaussianMixture\n",
    "from scipy.spatial import Voronoi\n",
    "from scipy.spatial.distance import pdist, squareform\n",
    "from ternary.helpers import project_sequence\n",
    "from scipy.io import loadmat\n",
    "from scipy.stats import entropy"
   ]
  },
  {
   "cell_type": "code",
   "execution_count": 18,
   "metadata": {},
   "outputs": [],
   "source": [
    "def phase_mapping(X, num_clusters, random_state):\n",
    "    '''\n",
    "    Cluster data using spectral clustering and a Gaussian mixture model\n",
    "\n",
    "    Parameters\n",
    "    ----------\n",
    "    X: m x n matrix - m rows of n dimensional data\n",
    "    num_clusters: number of groups to cluster data into\n",
    "\n",
    "    Returns\n",
    "    -------\n",
    "    cl: clustering labels for each sample\n",
    "    cluster_prob: the probability for each sample to belong to each cluster\n",
    "    '''\n",
    "\n",
    "    K = similarity_matrix(X, 'cosine')\n",
    "\n",
    "    if X.shape[0] <= num_clusters:\n",
    "        # fewer data points than clusters, each point gets its own cluster\n",
    "        cluster_prob = np.eye(X.shape[0])\n",
    "    else:\n",
    "        x_se = spectral_embedding(adjacency=K,\n",
    "                                  n_components=num_clusters,\n",
    "                                  random_state=random_state)\n",
    "        model = GaussianMixture(n_components=num_clusters,\n",
    "                                covariance_type='diag',\n",
    "                                n_init=10,\n",
    "                                random_state=random_state).fit(x_se)\n",
    "\n",
    "        cluster_prob = model.predict_proba(x_se)\n",
    "\n",
    "    cl = np.argmax(cluster_prob, axis=1).flatten()\n",
    "    return cl, cluster_prob\n"
   ]
  },
  {
   "cell_type": "code",
   "execution_count": 19,
   "metadata": {},
   "outputs": [],
   "source": [
    "def composition_to_graph(T):\n",
    "    '''\n",
    "    Use the composition data to identify nearby neighbors graph in\n",
    "    composition-space.\n",
    "\n",
    "    Parameters\n",
    "    ----------\n",
    "    T: n x 3 matrix - n rows of composition data in ternary coordinate space\n",
    "\n",
    "    Returns\n",
    "    -------\n",
    "    S: n x n matrix - symmetric adjacency matrix\n",
    "    '''\n",
    "\n",
    "    N = T.shape[0]\n",
    "    XYc = np.array(list(zip(*project_sequence(T))))\n",
    "    vor = Voronoi(XYc)\n",
    "    points_separated = vor.ridge_points\n",
    "    S = np.zeros((N, N))\n",
    "    for i in range(points_separated.shape[0]):\n",
    "        S[points_separated[i, 0], points_separated[i, 1]] = 1\n",
    "        S[points_separated[i, 1], points_separated[i, 0]] = 1\n",
    "    return S"
   ]
  },
  {
   "cell_type": "code",
   "execution_count": 20,
   "metadata": {},
   "outputs": [],
   "source": [
    "def plot_graph(S, XY):\n",
    "    '''\n",
    "    Plot the graph learned from composition positions.\n",
    "\n",
    "    Parameters\n",
    "    ----------\n",
    "    S: n x n matrix - symmetric adjacency matrix\n",
    "    XY: n x 2 matrix - n rows of composition data in cartesian coordinates\n",
    "    '''\n",
    "\n",
    "    r, c = np.nonzero(S)\n",
    "    for i in range(r.shape[0]):\n",
    "        xx = [XY[r[i], 0], XY[c[i], 0]]\n",
    "        yy = [XY[r[i], 1], XY[c[i], 1]]\n",
    "        plt.plot(xx, yy, c=np.asarray([.8, .8, .8]))\n",
    "        plt.plot(xx, yy, 'k.')"
   ]
  },
  {
   "cell_type": "code",
   "execution_count": 21,
   "metadata": {},
   "outputs": [],
   "source": [
    "def prune_graph(S, XY, dist_ratio, num_nearest_neighbors):\n",
    "    '''\n",
    "    Remove edges from the graph that connect points which are too far away.\n",
    "\n",
    "    Parameters\n",
    "    ----------\n",
    "    S: n x n matrix - symmetric adjacency matrix\n",
    "    XY: n x 2 matrix - n rows of composition data in cartesian coordinates\n",
    "    dist_ratio: adjusts the cutoff distance\n",
    "    num_nearest_neighbors: desired degree for data vertices\n",
    "    '''\n",
    "\n",
    "    D = squareform(pdist(XY))\n",
    "    mD = np.sort(D, 0)\n",
    "    mD = mD[num_nearest_neighbors, :]\n",
    "    S_ = S.copy()\n",
    "    for i in range(S.shape[0]):\n",
    "        d = D[i, :]\n",
    "        S_[i, d > dist_ratio*mD[i]] = 0\n",
    "        S_[d > dist_ratio*mD[i], i] = 0\n",
    "    return S_"
   ]
  },
  {
   "cell_type": "code",
   "execution_count": 22,
   "metadata": {},
   "outputs": [],
   "source": [
    "def similarity_matrix(X, metric, sigma=1):\n",
    "    '''\n",
    "    Calculate and return the similarity matrix used in spectral clustering.\n",
    "\n",
    "    Parameters\n",
    "    ----------\n",
    "    X: m x n matrix - m rows of n dimensional data\n",
    "    metric: distance metric passed to scipy.spatial.distance.pdist()\n",
    "    sigma: scaling factor for Gaussian radial basis function (default=1)\n",
    "    '''\n",
    "\n",
    "    distance = squareform(pdist(X, metric))\n",
    "    W = np.exp(-(distance**2) / (2*sigma**2))\n",
    "    return W"
   ]
  },
  {
   "cell_type": "code",
   "execution_count": 23,
   "metadata": {},
   "outputs": [],
   "source": [
    "def gpc_phasemapping(xy_curr, labels_curr, xy_full, num_clusters,\n",
    "                     weight_prior=None):\n",
    "    '''\n",
    "    Take clustering labels for the samples and then extrapolate them throughout\n",
    "    composition space, segmenting the XY space into 'phase regions'.\n",
    "\n",
    "    Parameters\n",
    "    ----------\n",
    "    xy_curr: cartesian coordinates of measured data points\n",
    "    labels_curr: cluster labels for those data\n",
    "    xy_full: cartesian coordinates of measured and new, query data points\n",
    "    num_clusters: the number of clusters we're assuming exist\n",
    "    weight_prior: variance coefficient of (optional) prior kernel\n",
    "\n",
    "    Returns\n",
    "    -------\n",
    "    y_mean: data point label predictions\n",
    "    y_variance: data point label variances\n",
    "    f_mean: data point latent GP predictions\n",
    "    f_variance: data point latent GP variances\n",
    "    '''\n",
    "\n",
    "    data = (xy_curr, labels_curr)\n",
    "\n",
    "    if weight_prior is None:\n",
    "        kernel = gpflow.kernels.Matern32(lengthscales=[1, 1])\n",
    "    else:\n",
    "        prior_kernel = gpflow.kernels.SquaredExponential(active_dims=[2],\n",
    "                                                         lengthscales=0.001,\n",
    "                                                         variance=weight_prior)\n",
    "\n",
    "        # fix the prior kernel lengthscale and variance\n",
    "        gpflow.utilities.set_trainable(prior_kernel.parameters[1], False)\n",
    "        gpflow.utilities.set_trainable(prior_kernel.parameters[0], False)\n",
    "                                                         \n",
    "        kernel = gpflow.kernels.Matern32(active_dims=[0, 1]) + prior_kernel\n",
    "\n",
    "    invlink = gpflow.likelihoods.RobustMax(num_clusters)\n",
    "\n",
    "    likelihood = gpflow.likelihoods.MultiClass(num_clusters, invlink=invlink)\n",
    "\n",
    "    model = gpflow.models.VGP(data=data,\n",
    "                              kernel=kernel,\n",
    "                              likelihood=likelihood,\n",
    "                              num_latent_gps=num_clusters)\n",
    "\n",
    "    # hyperparameter optimization\n",
    "    opt = gpflow.optimizers.Scipy()\n",
    "    _ = opt.minimize(model.training_loss,\n",
    "                     model.trainable_variables,\n",
    "                     options={'maxiter': ci_niter(1000)})\n",
    "\n",
    "    # Poisson process for the full XY coordinates\n",
    "    y = model.predict_y(xy_full)\n",
    "    y_mean = y[0].numpy()\n",
    "    y_variance = y[1].numpy()\n",
    "\n",
    "    # (non-squeezed) probabilistic function for class labels\n",
    "    f = model.predict_f(xy_full)\n",
    "    f_mean = f[0].numpy()\n",
    "    f_variance = f[1].numpy()\n",
    "\n",
    "    return y_mean, y_variance, f_mean, f_variance"
   ]
  },
  {
   "cell_type": "markdown",
   "metadata": {},
   "source": [
    "## Experiment Loop"
   ]
  },
  {
   "cell_type": "code",
   "execution_count": 24,
   "metadata": {},
   "outputs": [],
   "source": [
    "data = loadmat('FeGaPd_full_data_220104a.mat')\n",
    "\n",
    "# composition data in cartesian coordinates\n",
    "composition = data['C']\n",
    "idx = [1, 2, 0]\n",
    "cartesian = np.array(list(zip(*project_sequence(composition[:, idx]))))\n",
    "\n",
    "# x ray diffraction data\n",
    "xrd = data['X'][:, 631:1181]\n",
    "\n",
    "# true phase mapping labels\n",
    "true_labels = data['labels_col']\n",
    "\n",
    "# list of all the predicted labels to compare to the true labels\n",
    "all_predicted_labels = []\n",
    "\n",
    "initial_num_measurements = 20\n",
    "num_clusters = 5\n",
    "num_total = cartesian.shape[0]"
   ]
  },
  {
   "cell_type": "code",
   "execution_count": 25,
   "metadata": {},
   "outputs": [],
   "source": [
    "# seed the numpy random number generation for reproducability\n",
    "seed = 0\n",
    "rng = np.random.RandomState(seed)\n",
    "tf.random.set_seed(seed)"
   ]
  },
  {
   "cell_type": "code",
   "execution_count": 26,
   "metadata": {},
   "outputs": [],
   "source": [
    "# initialize these variables so we can access them in the main thread\n",
    "measured = rng.permutation(num_total)[:initial_num_measurements]\n",
    "labels = []\n",
    "y_mean = []\n",
    "acquisition = []\n",
    "next_sample = None"
   ]
  },
  {
   "cell_type": "code",
   "execution_count": 27,
   "metadata": {},
   "outputs": [],
   "source": [
    "def main():\n",
    "    '''\n",
    "    Run the calculation loop while checking if the user is waiting to\n",
    "    provide input. If so, pause the loop, collect input, then resume.\n",
    "    '''\n",
    "\n",
    "    global all_predict_labels\n",
    "\n",
    "    global measured\n",
    "    global labels\n",
    "    global y_mean\n",
    "    global acquisition\n",
    "    global next_sample\n",
    "\n",
    "    global points\n",
    "\n",
    "    user_labels = None\n",
    "\n",
    "    for i in range(num_total - initial_num_measurements - 1):\n",
    "        if quit_lock.is_set():\n",
    "            logging.info(f'Experiment loop quit on iteration {i+1}')\n",
    "            break\n",
    "\n",
    "        logging.info(f'Begin experiment loop iteration {i+1}')\n",
    "\n",
    "        labels, _ = phase_mapping(xrd[measured, :], num_clusters, rng)\n",
    "\n",
    "        if user_labels is None:\n",
    "            # user didn't provide input last iteration\n",
    "            y_mean, _, _, _ = gpc_phasemapping(cartesian[measured, :],\n",
    "                                               labels,\n",
    "                                               cartesian,\n",
    "                                               num_clusters)\n",
    "\n",
    "            logging.debug('GPC phasemapping WITHOUT user input complete')\n",
    "        else:\n",
    "            # use the user labels as input\n",
    "            data_with_prior = np.column_stack((cartesian, user_labels))\n",
    "\n",
    "            y_mean, _, _, _ = gpc_phasemapping(data_with_prior[measured, :],\n",
    "                                               labels,\n",
    "                                               data_with_prior,\n",
    "                                               num_clusters,\n",
    "                                               weight_prior=1)\n",
    "\n",
    "            logging.debug('GPC phasemapping WITH user input complete')\n",
    "\n",
    "            # reset the user labels for next iteration\n",
    "            user_labels = None\n",
    "        \n",
    "        # new row of predicted labels, with NaN in place of unmeasured samples\n",
    "        new_label_row = np.argmax(y_mean, 1)\n",
    "        all_predicted_labels.append(new_label_row)\n",
    "\n",
    "        # calculate the next sample point\n",
    "        acquisition = entropy(y_mean, axis=1)\n",
    "        next_sample = np.argmax(acquisition)\n",
    "        measured = np.append(measured, next_sample)\n",
    "        \n",
    "        draw_background_plot(tax)\n",
    "\n",
    "        if not experiment_lock.is_set():\n",
    "            logging.info('Experiment thread pausing')\n",
    "\n",
    "            experiment_lock.wait()\n",
    "\n",
    "            logging.info('Experiment thread continuing')\n",
    "\n",
    "            if len(points) < 2:\n",
    "                raise ValueError('User didn\\'t add enough points.')\n",
    "            elif len(points) == 2:\n",
    "                # user drew a line\n",
    "                x1, y1 = points[0]\n",
    "                x2, y2 = points[1]\n",
    "\n",
    "                # calculate the distance between each point the line\n",
    "                d = [(x-x1)*(y2-y1)-(y-y1)*(x2-x1) for (x, y) in cartesian]\n",
    "\n",
    "                user_labels = np.sign(d)\n",
    "            else:\n",
    "                # user draw a polygon\n",
    "                polygon = path.Path(points)\n",
    "\n",
    "                user_labels = polygon.contains_points(cartesian)"
   ]
  },
  {
   "cell_type": "markdown",
   "metadata": {},
   "source": [
    "## Data Analysis Utilities"
   ]
  },
  {
   "cell_type": "code",
   "execution_count": 28,
   "metadata": {},
   "outputs": [],
   "source": [
    "from sklearn.metrics import fowlkes_mallows_score"
   ]
  },
  {
   "cell_type": "markdown",
   "metadata": {},
   "source": [
    "# Putting It Together"
   ]
  },
  {
   "cell_type": "code",
   "execution_count": 29,
   "metadata": {},
   "outputs": [],
   "source": [
    "time_string = datetime.datetime.now().strftime('%Y-%m-%d-%H-%M')\n",
    "\n",
    "logging.basicConfig(filename=f'logs/hitl_{time_string}.log',\n",
    "                    format='%(levelname)-5s [%(asctime)s]: %(message)s',\n",
    "                    level=logging.INFO)"
   ]
  },
  {
   "cell_type": "code",
   "execution_count": 30,
   "metadata": {},
   "outputs": [],
   "source": [
    "# begin the experiment in a new thread\n",
    "experiment_thread = threading.Thread(target=main,\n",
    "                                     name='experiment')\n",
    "experiment_thread.start()"
   ]
  },
  {
   "cell_type": "code",
   "execution_count": 31,
   "metadata": {},
   "outputs": [
    {
     "data": {
      "application/vnd.jupyter.widget-view+json": {
       "model_id": "bd7c64b74913457fa1d3e6bdee887ff8",
       "version_major": 2,
       "version_minor": 0
      },
      "text/plain": [
       "VBox(children=(Canvas(toolbar=Toolbar(toolitems=[('Home', 'Reset original view', 'home', 'home'), ('Back', 'Ba…"
      ]
     },
     "metadata": {},
     "output_type": "display_data"
    }
   ],
   "source": [
    "# start the gui\n",
    "gui"
   ]
  },
  {
   "cell_type": "code",
   "execution_count": 66,
   "metadata": {},
   "outputs": [
    {
     "name": "stdout",
     "output_type": "stream",
     "text": [
      "dead\n"
     ]
    }
   ],
   "source": [
    "logging.debug('Checking if experiment thread is alive...')\n",
    "\n",
    "result = 'alive' if experiment_thread.is_alive() else 'dead'\n",
    "\n",
    "logging.debug(f'Experiment thread is {result}')\n",
    "\n",
    "print(result)"
   ]
  },
  {
   "cell_type": "markdown",
   "metadata": {},
   "source": [
    "# Data Analysis"
   ]
  },
  {
   "cell_type": "code",
   "execution_count": null,
   "metadata": {},
   "outputs": [],
   "source": [
    "# save predicted labels for later comparison\n",
    "np.savetxt('predicted_labels.txt', all_predicted_labels)"
   ]
  },
  {
   "cell_type": "code",
   "execution_count": null,
   "metadata": {},
   "outputs": [],
   "source": [
    "# load predicted labels for analysis\n",
    "all_predicted_labels = np.loadtxt('predicted_labels.txt')"
   ]
  },
  {
   "cell_type": "code",
   "execution_count": 40,
   "metadata": {},
   "outputs": [],
   "source": [
    "all_predicted_labels = np.array(all_predicted_labels)"
   ]
  },
  {
   "cell_type": "code",
   "execution_count": 41,
   "metadata": {},
   "outputs": [],
   "source": [
    "# pick one of the 'true' labels to use for comparison\n",
    "true_labels_set = true_labels[0][0].flatten()"
   ]
  },
  {
   "cell_type": "code",
   "execution_count": 42,
   "metadata": {},
   "outputs": [],
   "source": [
    "num_experiments = len(all_predicted_labels)\n",
    "\n",
    "scores = np.zeros(num_experiments)\n",
    "\n",
    "for i in range(num_experiments):\n",
    "    scores[i] = fowlkes_mallows_score(true_labels_set, all_predicted_labels[i])\n"
   ]
  },
  {
   "cell_type": "code",
   "execution_count": 43,
   "metadata": {},
   "outputs": [
    {
     "data": {
      "application/vnd.jupyter.widget-view+json": {
       "model_id": "e436eb1f4c124c5a9ead714cd0c827c7",
       "version_major": 2,
       "version_minor": 0
      },
      "image/png": "[encoded data removed]",
      "text/html": [
       "\n",
       "            <div style=\"display: inline-block;\">\n",
       "                <div class=\"jupyter-widgets widget-label\" style=\"text-align: center;\">\n",
       "                    Figure\n",
       "                </div>\n",
       "                <img src='data:image/png;base64,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' width=640.0/>\n",
       "            </div>\n",
       "        "
      ],
      "text/plain": [
       "Canvas(toolbar=Toolbar(toolitems=[('Home', 'Reset original view', 'home', 'home'), ('Back', 'Back to previous …"
      ]
     },
     "metadata": {},
     "output_type": "display_data"
    }
   ],
   "source": [
    "fig, ax = plt.subplots()\n",
    "ax.plot(scores, '.')\n",
    "ax.set_ylim([0, 1])\n",
    "plt.show()"
   ]
  }
 ],
 "metadata": {
  "interpreter": {
   "hash": "d782e3369a9c649e580e37cdd6febd5b59d5ba3ca94b62266a945741e1c35eee"
  },
  "kernelspec": {
   "display_name": "Python 3.9.13 ('hitl')",
   "language": "python",
   "name": "python3"
  },
  "language_info": {
   "codemirror_mode": {
    "name": "ipython",
    "version": 3
   },
   "file_extension": ".py",
   "mimetype": "text/x-python",
   "name": "python",
   "nbconvert_exporter": "python",
   "pygments_lexer": "ipython3",
   "version": "3.9.13"
  }
 },
 "nbformat": 4,
 "nbformat_minor": 2
}
