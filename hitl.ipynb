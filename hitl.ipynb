{
 "cells": [
  {
   "cell_type": "markdown",
   "metadata": {},
   "source": [
    "# Imports and Setup"
   ]
  },
  {
   "cell_type": "markdown",
   "metadata": {},
   "source": [
    "## Asynchronous Execution"
   ]
  },
  {
   "cell_type": "code",
   "execution_count": 1,
   "metadata": {},
   "outputs": [],
   "source": [
    "import threading"
   ]
  },
  {
   "cell_type": "code",
   "execution_count": 2,
   "metadata": {},
   "outputs": [],
   "source": [
    "# multithreading lock to pause experiment loop during user feedback collection\n",
    "experiment_lock = threading.Event()\n",
    "experiment_lock.set()"
   ]
  },
  {
   "cell_type": "markdown",
   "metadata": {},
   "source": [
    "## Graphical User Interface"
   ]
  },
  {
   "cell_type": "code",
   "execution_count": 3,
   "metadata": {},
   "outputs": [],
   "source": [
    "import ipywidgets as ipw\n",
    "import matplotlib.pyplot as plt\n",
    "import ternary\n",
    "\n",
    "# enable ipympl\n",
    "%matplotlib widget\n",
    "\n",
    "# turn on interactive mode so that plots only appear where we want it to\n",
    "plt.ioff()"
   ]
  },
  {
   "cell_type": "code",
   "execution_count": 4,
   "metadata": {},
   "outputs": [],
   "source": [
    "# create the gui elements\n",
    "fig, tax = ternary.figure()\n",
    "\n",
    "pause_button = ipw.Button(description='Pause')\n",
    "undo_button = ipw.Button(description='Undo Point')\n",
    "continue_button = ipw.Button(description='Continue')\n",
    "\n",
    "output = ipw.Output()"
   ]
  },
  {
   "cell_type": "code",
   "execution_count": 5,
   "metadata": {},
   "outputs": [],
   "source": [
    "# store a list of points where the user has clicked\n",
    "points = []"
   ]
  },
  {
   "cell_type": "code",
   "execution_count": 6,
   "metadata": {},
   "outputs": [],
   "source": [
    "def draw_background_plot(tax):\n",
    "    '''\n",
    "    Plot the data from the current experiment loop.\n",
    "\n",
    "    Parameters\n",
    "    ----------\n",
    "    tax: ternary axes on which to plot the data\n",
    "    '''\n",
    "\n",
    "    pass"
   ]
  },
  {
   "cell_type": "code",
   "execution_count": 7,
   "metadata": {},
   "outputs": [],
   "source": [
    "def draw_user_points(ax):\n",
    "    '''\n",
    "    Draw the points where the user has clicked.\n",
    "\n",
    "    Parameters\n",
    "    ----------\n",
    "    ax: the axes on which to draw the points\n",
    "    '''\n",
    "\n",
    "    # create separate x and y coordinate lists for every point in points\n",
    "    x, y = zip(*points)\n",
    "\n",
    "    ax.plot(x, y, 'k*-')\n",
    "\n",
    "    plt.draw()"
   ]
  },
  {
   "cell_type": "code",
   "execution_count": 8,
   "metadata": {},
   "outputs": [],
   "source": [
    "def plot_callback(event):\n",
    "    '''\n",
    "    Store the point where the user clicked and add it to the plot.\n",
    "\n",
    "    Parameters\n",
    "    ----------\n",
    "    event: a structure which has information about the mouse event\n",
    "    '''\n",
    "    \n",
    "    if not experiment_lock.is_set():\n",
    "        # add the mouse position (in data coordinates) to the points list\n",
    "        points.append([event.xdata, event.ydata])\n",
    "\n",
    "        draw_user_points(tax.get_axes())\n",
    "\n",
    "cid = fig.canvas.mpl_connect('button_press_event', plot_callback)"
   ]
  },
  {
   "cell_type": "code",
   "execution_count": 9,
   "metadata": {},
   "outputs": [],
   "source": [
    "def pause_callback(button):\n",
    "    '''\n",
    "    Set the internal flag of the threading Event object to false.\n",
    "\n",
    "    Parameters\n",
    "    ----------\n",
    "    button: the instance of button that was clicked\n",
    "    '''\n",
    "    \n",
    "    if experiment_lock.is_set():\n",
    "        output.append_stdout('user has paused')\n",
    "        experiment_lock.clear()\n",
    "\n",
    "pause_button.on_click(pause_callback)"
   ]
  },
  {
   "cell_type": "code",
   "execution_count": 10,
   "metadata": {},
   "outputs": [],
   "source": [
    "def continue_callback(button):\n",
    "    '''\n",
    "    Set the internal flag of the threading Event object to true\n",
    "\n",
    "    Parameters\n",
    "    ----------\n",
    "    button: the instance of button that was clicked\n",
    "    '''\n",
    "    \n",
    "    if not experiment_lock.is_set():\n",
    "        output.append_stdout('user has unpaused')\n",
    "        experiment_lock.set()\n",
    "\n",
    "continue_button.on_click(continue_callback)"
   ]
  },
  {
   "cell_type": "code",
   "execution_count": 11,
   "metadata": {},
   "outputs": [],
   "source": [
    "# assemble the gui elements\n",
    "buttons = ipw.HBox([pause_button, undo_button, continue_button])\n",
    "gui = ipw.VBox([fig.canvas, buttons, output])"
   ]
  },
  {
   "cell_type": "markdown",
   "metadata": {},
   "source": [
    "## CAMEO"
   ]
  },
  {
   "cell_type": "code",
   "execution_count": 12,
   "metadata": {},
   "outputs": [],
   "source": [
    "# get the simulation test data\n",
    "# !wget -O CAMEO2_support_files_220104a.zip https://drive.google.com/u/0/uc?id=1UnKijzN_6shj-T2r37Jm2V6PSqTJMO-6&export=download\n",
    "# !unzip -o CAMEO2_support_files_220104a.zip"
   ]
  },
  {
   "cell_type": "code",
   "execution_count": 27,
   "metadata": {},
   "outputs": [],
   "source": [
    "import numpy as np\n",
    "import gpflow\n",
    "from gpflow.ci_utils import ci_niter\n",
    "from sklearn.manifold import spectral_embedding\n",
    "from sklearn.mixture import GaussianMixture\n",
    "from scipy.spatial import Voronoi\n",
    "from scipy.spatial.distance import pdist, squareform\n",
    "from ternary.helpers import project_sequence\n",
    "from scipy.io import loadmat\n",
    "from scipy.stats import entropy"
   ]
  },
  {
   "cell_type": "code",
   "execution_count": 14,
   "metadata": {},
   "outputs": [],
   "source": [
    "def phase_mapping(X, num_clusters):\n",
    "    '''\n",
    "    Cluster data using spectral clustering and a Gaussian mixture model\n",
    "\n",
    "    Parameters\n",
    "    ----------\n",
    "    X: m x n matrix - m rows of n dimensional data\n",
    "    num_clusters: number of groups to cluster data into\n",
    "\n",
    "    Returns\n",
    "    -------\n",
    "    cl: clustering labels for each sample\n",
    "    cluster_prob: the probability for each sample to belong to each cluster\n",
    "    '''\n",
    "\n",
    "    K = similarity_matrix(X, 'cosine')\n",
    "\n",
    "    if X.shape[0] <= num_clusters:\n",
    "        # fewer data points than clusters, each point gets its own cluster\n",
    "        cluster_prob = np.eye(X.shape[0])\n",
    "    else:\n",
    "        x_se = spectral_embedding(adjacency=K, n_components=num_clusters)\n",
    "        model = GaussianMixture(n_components=num_clusters,\n",
    "                                covariance_type='diag',\n",
    "                                n_init=100).fit(x_se)\n",
    "\n",
    "        cluster_prob = model.predict_proba(x_se)\n",
    "\n",
    "    cl = np.argmax(cluster_prob, axis=1).flatten()\n",
    "    return cl, cluster_prob"
   ]
  },
  {
   "cell_type": "code",
   "execution_count": 15,
   "metadata": {},
   "outputs": [],
   "source": [
    "def composition_to_graph(T):\n",
    "    '''\n",
    "    Use the composition data to identify nearby neighbors graph in\n",
    "    composition-space.\n",
    "\n",
    "    Parameters\n",
    "    ----------\n",
    "    T: n x 3 matrix - n rows of composition data in ternary coordinate space\n",
    "\n",
    "    Returns\n",
    "    -------\n",
    "    S: n x n matrix - symmetric adjacency matrix\n",
    "    '''\n",
    "\n",
    "    N = T.shape[0]\n",
    "    XYc = np.array(list(zip(*project_sequence(T))))\n",
    "    vor = Voronoi(XYc)\n",
    "    points_separated = vor.ridge_points\n",
    "    S = np.zeros((N, N))\n",
    "    for i in range(points_separated.shape[0]):\n",
    "        S[points_separated[i, 0], points_separated[i, 1]] = 1\n",
    "        S[points_separated[i, 1], points_separated[i, 0]] = 1\n",
    "    return S"
   ]
  },
  {
   "cell_type": "code",
   "execution_count": 16,
   "metadata": {},
   "outputs": [],
   "source": [
    "def plot_graph(S, XY):\n",
    "    '''\n",
    "    Plot the graph learned from composition positions.\n",
    "\n",
    "    Parameters\n",
    "    ----------\n",
    "    S: n x n matrix - symmetric adjacency matrix\n",
    "    XY: n x 2 matrix - n rows of composition data in cartesian coordinates\n",
    "    '''\n",
    "\n",
    "    r, c = np.nonzero(S)\n",
    "    for i in range(r.shape[0]):\n",
    "        xx = [XY[r[i], 0], XY[c[i], 0]]\n",
    "        yy = [XY[r[i], 1], XY[c[i], 1]]\n",
    "        plt.plot(xx, yy, c=np.asarray([.8, .8, .8]))\n",
    "        plt.plot(xx, yy, 'k.')"
   ]
  },
  {
   "cell_type": "code",
   "execution_count": 17,
   "metadata": {},
   "outputs": [],
   "source": [
    "def prune_graph(S, XY, dist_ratio, num_nearest_neighbors):\n",
    "    '''\n",
    "    Remove edges from the graph that connect points which are too far away.\n",
    "\n",
    "    Parameters\n",
    "    ----------\n",
    "    S: n x n matrix - symmetric adjacency matrix\n",
    "    XY: n x 2 matrix - n rows of composition data in cartesian coordinates\n",
    "    dist_ratio: adjusts the cutoff distance\n",
    "    num_nearest_neighbors: desired degree for data vertices\n",
    "    '''\n",
    "\n",
    "    D = squareform(pdist(XY))\n",
    "    mD = np.sort(D, 0)\n",
    "    mD = mD[num_nearest_neighbors, :]\n",
    "    S_ = S.copy()\n",
    "    for i in range(S.shape[0]):\n",
    "        d = D[i, :]\n",
    "        S_[i, d > dist_ratio*mD[i]] = 0\n",
    "        S_[d > dist_ratio*mD[i], i] = 0\n",
    "    return S_"
   ]
  },
  {
   "cell_type": "code",
   "execution_count": 18,
   "metadata": {},
   "outputs": [],
   "source": [
    "def similarity_matrix(X, metric, sigma=1):\n",
    "    '''\n",
    "    Calculate and return the similarity matrix used in spectral clustering.\n",
    "\n",
    "    Parameters\n",
    "    ----------\n",
    "    X: m x n matrix - m rows of n dimensional data\n",
    "    metric: distance metric passed to scipy.spatial.distance.pdist()\n",
    "    sigma: scaling factor for Gaussian radial basis function (default=1)\n",
    "    '''\n",
    "\n",
    "    distance = squareform(pdist(X, metric))\n",
    "    W = np.exp(-(distance**2) / (2*sigma**2))\n",
    "    return W"
   ]
  },
  {
   "cell_type": "code",
   "execution_count": 28,
   "metadata": {},
   "outputs": [],
   "source": [
    "def gpc_phasemapping(xy_curr, labels_curr, xy_full, num_clusters,\n",
    "                     weight_prior=None):\n",
    "    '''\n",
    "    Take clustering labels for the samples and then extrapolate them throughout\n",
    "    composition space, segmenting the XY space into 'phase regions'.\n",
    "\n",
    "    Parameters\n",
    "    ----------\n",
    "    xy_curr: cartesian coordinates of measured data points\n",
    "    labels_curr: cluster labels for those data\n",
    "    xy_full: cartesian coordinates of measured and new, query data points\n",
    "    num_clusters: the number of clusters we're assuming exist\n",
    "    weight_prior: variance coefficient of (optional) prior kernel\n",
    "\n",
    "    Returns\n",
    "    -------\n",
    "    y_mean: data point label predictions\n",
    "    y_variance: data point label variances\n",
    "    f_mean: data point latent GP predictions\n",
    "    f_variance: data point latent GP variances\n",
    "    '''\n",
    "\n",
    "    data = (xy_curr, labels_curr)\n",
    "\n",
    "    if weight_prior is None:\n",
    "        kernel = gpflow.kernels.Matern32(lengthscales=[1, 1])\n",
    "    else:\n",
    "        prior_kernel = gpflow.kernels.SquaredExponential(active_dims=[2],\n",
    "                                                         lengthscales=0.001,\n",
    "                                                         variance=weight_prior)\n",
    "\n",
    "        # fix the prior kernel lengthscale and variance\n",
    "        gpflow.utilities.set_trainable(prior_kernel.parameters[1], False)\n",
    "        gpflow.utilities.set_trainable(prior_kernel.parameters[0], False)\n",
    "                                                         \n",
    "        kernel = gpflow.kernels.Matern32(active_dims=[0, 1]) + prior_kernel\n",
    "\n",
    "    invlink = gpflow.likelihoods.RobustMax(num_clusters)\n",
    "\n",
    "    likelihood = gpflow.likelihoods.MultiClass(num_clusters, invlink=invlink)\n",
    "\n",
    "    model = gpflow.models.VGP(data=data,\n",
    "                              kernel=kernel,\n",
    "                              likelihood=likelihood,\n",
    "                              num_latent_gps=num_clusters)\n",
    "\n",
    "    # hyperparameter optimization\n",
    "    opt = gpflow.optimizers.Scipy()\n",
    "    _ = opt.minimize(model.training_loss,\n",
    "                     model.trainable_variables,\n",
    "                     options={'maxiter': ci_niter(1000)})\n",
    "\n",
    "    # Poisson process for the full XY coordinates\n",
    "    y = model.predict_y(xy_full)\n",
    "    y_mean = y[0].numpy()\n",
    "    y_variance = y[1].numpy()\n",
    "\n",
    "    # (non-squeezed) probabilistic function for class labels\n",
    "    f = model.predict_f(xy_full)\n",
    "    f_mean = f[0].numpy()\n",
    "    f_variance = f[1].numpy()\n",
    "\n",
    "    return y_mean, y_variance, f_mean, f_variance"
   ]
  },
  {
   "cell_type": "markdown",
   "metadata": {},
   "source": [
    "## Experiment Loop"
   ]
  },
  {
   "cell_type": "code",
   "execution_count": 33,
   "metadata": {},
   "outputs": [],
   "source": [
    "def main(output):\n",
    "    '''\n",
    "    Run the calculation loop while checking if the user is waiting to\n",
    "    provide input. If so, pause the loop, collect input, then resume.\n",
    "\n",
    "    Parameters\n",
    "    ----------\n",
    "    output: the ipywidgets Output widget to print messages\n",
    "    '''\n",
    "    output.append_stdout('starting experiment\\n')\n",
    "\n",
    "    data = loadmat('FeGaPd_full_data_220104a.mat')\n",
    "\n",
    "    # composition data in cartesian coordinates\n",
    "    composition = data['C']\n",
    "    idx = [1, 2, 0]\n",
    "    cartesian = np.array(list(zip(*project_sequence(composition[:, idx]))))\n",
    "\n",
    "    # x ray diffraction data\n",
    "    xrd = data['X'][:, 631:1181]\n",
    "\n",
    "    num_measurements = 20\n",
    "    num_clusters = 5\n",
    "    num_total = cartesian.shape[0]\n",
    "\n",
    "    measured = np.random.permutation(num_total)[:num_measurements]\n",
    "\n",
    "    for i in range(10):\n",
    "        labels, _ = phase_mapping(xrd[measured, :], num_clusters)\n",
    "\n",
    "        y_mean, _, _, _ = gpc_phasemapping(cartesian[measured, :],\n",
    "                                           labels,\n",
    "                                           cartesian,\n",
    "                                           num_clusters)\n",
    "\n",
    "        acquisition = entropy(y_mean, axis=1)\n",
    "\n",
    "        next_sample = np.argmax(acquisition)\n",
    "\n",
    "        measured = np.append(measured, next_sample)\n",
    "\n",
    "        output.append_stdout(f'iteration {i} chose sample {next_sample}\\n')\n",
    "\n",
    "        if not experiment_lock.is_set():\n",
    "            experiment_lock.wait()\n",
    "\n",
    "    output.append_stdout('all done\\n')\n"
   ]
  },
  {
   "cell_type": "markdown",
   "metadata": {},
   "source": [
    "# Putting It Together"
   ]
  },
  {
   "cell_type": "code",
   "execution_count": 34,
   "metadata": {},
   "outputs": [],
   "source": [
    "# begin the experiment in a new thread\n",
    "output.clear_output()\n",
    "experiment_thread = threading.Thread(target=main,\n",
    "                                     args=(output,),\n",
    "                                     name='experiment')\n",
    "experiment_thread.start()"
   ]
  },
  {
   "cell_type": "code",
   "execution_count": 35,
   "metadata": {},
   "outputs": [
    {
     "data": {
      "application/vnd.jupyter.widget-view+json": {
       "model_id": "661b157297aa43a8a894555c0d312763",
       "version_major": 2,
       "version_minor": 0
      },
      "text/plain": [
       "VBox(children=(Canvas(toolbar=Toolbar(toolitems=[('Home', 'Reset original view', 'home', 'home'), ('Back', 'Ba…"
      ]
     },
     "metadata": {},
     "output_type": "display_data"
    }
   ],
   "source": [
    "# start the gui\n",
    "gui"
   ]
  },
  {
   "cell_type": "code",
   "execution_count": 32,
   "metadata": {},
   "outputs": [
    {
     "data": {
      "text/plain": [
       "False"
      ]
     },
     "execution_count": 32,
     "metadata": {},
     "output_type": "execute_result"
    }
   ],
   "source": [
    "experiment_thread.is_alive()"
   ]
  }
 ],
 "metadata": {
  "interpreter": {
   "hash": "cca9709ade13d1845170bf721b4f5aa5be8f7155f4e404d395c21441a7fc75f5"
  },
  "kernelspec": {
   "display_name": "Python 3.9.2 64-bit",
   "language": "python",
   "name": "python3"
  },
  "language_info": {
   "codemirror_mode": {
    "name": "ipython",
    "version": 3
   },
   "file_extension": ".py",
   "mimetype": "text/x-python",
   "name": "python",
   "nbconvert_exporter": "python",
   "pygments_lexer": "ipython3",
   "version": "3.9.2"
  },
  "orig_nbformat": 4
 },
 "nbformat": 4,
 "nbformat_minor": 2
}
