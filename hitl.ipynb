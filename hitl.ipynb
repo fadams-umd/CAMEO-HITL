{
 "cells": [
  {
   "cell_type": "markdown",
   "metadata": {},
   "source": [
    "# Imports and Setup"
   ]
  },
  {
   "cell_type": "markdown",
   "metadata": {},
   "source": [
    "## Asynchronous Execution"
   ]
  },
  {
   "cell_type": "code",
   "execution_count": 1,
   "metadata": {},
   "outputs": [],
   "source": [
    "import threading"
   ]
  },
  {
   "cell_type": "code",
   "execution_count": null,
   "metadata": {},
   "outputs": [],
   "source": [
    "# multithreading lock to pause experiment loop during user feedback collection\n",
    "experiment_lock = threading.Event()\n",
    "experiment_lock.set()"
   ]
  },
  {
   "cell_type": "markdown",
   "metadata": {},
   "source": [
    "## Graphical User Interface"
   ]
  },
  {
   "cell_type": "code",
   "execution_count": null,
   "metadata": {},
   "outputs": [],
   "source": [
    "import ipywidgets as ipw\n",
    "import matplotlib.pyplot as plt\n",
    "import ternary\n",
    "\n",
    "# enable ipympl\n",
    "%matplotlib widget\n",
    "\n",
    "# turn on interactive mode so that plots only appear where we want it to\n",
    "plt.ioff()"
   ]
  },
  {
   "cell_type": "code",
   "execution_count": null,
   "metadata": {},
   "outputs": [],
   "source": [
    "# create the gui elements\n",
    "fig, tax = ternary.figure()\n",
    "\n",
    "pause_button = ipw.Button(description='Pause')\n",
    "undo_button = ipw.Button(description='Undo Point')\n",
    "continue_button = ipw.Button(description='Continue')\n",
    "\n",
    "output = ipw.Output()"
   ]
  },
  {
   "cell_type": "code",
   "execution_count": null,
   "metadata": {},
   "outputs": [],
   "source": [
    "# store a list of points where the user has clicked\n",
    "points = []"
   ]
  },
  {
   "cell_type": "code",
   "execution_count": null,
   "metadata": {},
   "outputs": [],
   "source": [
    "def draw_background_plot(tax):\n",
    "    '''\n",
    "    Plot the data from the current experiment loop.\n",
    "\n",
    "    Parameters\n",
    "    ----------\n",
    "    tax: ternary axes on which to plot the data\n",
    "    '''\n",
    "\n",
    "    pass"
   ]
  },
  {
   "cell_type": "code",
   "execution_count": null,
   "metadata": {},
   "outputs": [],
   "source": [
    "def draw_user_points(ax):\n",
    "    '''\n",
    "    Draw the points where the user has clicked.\n",
    "\n",
    "    Parameters\n",
    "    ----------\n",
    "    ax: the axes on which to draw the points\n",
    "    '''\n",
    "\n",
    "    # create separate x and y coordinate lists for every point in points\n",
    "    x, y = zip(*points)\n",
    "\n",
    "    ax.plot(x, y, 'k*-')\n",
    "\n",
    "    plt.draw()"
   ]
  },
  {
   "cell_type": "code",
   "execution_count": null,
   "metadata": {},
   "outputs": [],
   "source": [
    "def plot_callback(event):\n",
    "    '''\n",
    "    Store the point where the user clicked and add it to the plot.\n",
    "\n",
    "    Parameters\n",
    "    ----------\n",
    "    event: a structure which has information about the mouse event\n",
    "    '''\n",
    "    \n",
    "    if not experiment_lock.is_set():\n",
    "        # add the mouse position (in data coordinates) to the points list\n",
    "        points.append([event.xdata, event.ydata])\n",
    "\n",
    "        draw_user_points(tax.get_axes())\n",
    "\n",
    "cid = fig.canvas.mpl_connect('button_press_event', plot_callback)"
   ]
  },
  {
   "cell_type": "code",
   "execution_count": null,
   "metadata": {},
   "outputs": [],
   "source": [
    "def pause_callback(button):\n",
    "    '''\n",
    "    Set the internal flag of the threading Event object to false.\n",
    "\n",
    "    Parameters\n",
    "    ----------\n",
    "    button: the instance of button that was clicked\n",
    "    '''\n",
    "    \n",
    "    if experiment_lock.is_set():\n",
    "        output.append_stdout('user has paused')\n",
    "        experiment_lock.clear()\n",
    "\n",
    "pause_button.on_click(pause_callback)"
   ]
  },
  {
   "cell_type": "code",
   "execution_count": null,
   "metadata": {},
   "outputs": [],
   "source": [
    "def continue_callback(button):\n",
    "    '''\n",
    "    Set the internal flag of the threading Event object to true\n",
    "\n",
    "    Parameters\n",
    "    ----------\n",
    "    button: the instance of button that was clicked\n",
    "    '''\n",
    "    \n",
    "    if not experiment_lock.is_set():\n",
    "        output.append_stdout('user has unpaused')\n",
    "        experiment_lock.set()\n",
    "\n",
    "continue_button.on_click(continue_callback)"
   ]
  },
  {
   "cell_type": "code",
   "execution_count": null,
   "metadata": {},
   "outputs": [],
   "source": [
    "# assemble the gui elements\n",
    "buttons = ipw.HBox([pause_button, undo_button, continue_button])\n",
    "gui = ipw.VBox([fig.canvas, buttons, output])"
   ]
  },
  {
   "cell_type": "markdown",
   "metadata": {},
   "source": [
    "## Experiment Loop"
   ]
  },
  {
   "cell_type": "code",
   "execution_count": null,
   "metadata": {},
   "outputs": [],
   "source": [
    "def main(output):\n",
    "    '''\n",
    "    Run the calculation loop while checking if the user is waiting to\n",
    "    provide input. If so, pause the loop, collect input, then resume.\n",
    "\n",
    "    Parameters\n",
    "    ----------\n",
    "    output: the ipywidgets Output widget to print messages to \n",
    "    '''\n",
    "    \n",
    "    for i in range(5):\n",
    "        # here's where the actual experiment code goes\n",
    "        pass\n",
    "\n",
    "        if not experiment_lock.is_set():\n",
    "            experiment_lock.wait()\n",
    "    \n",
    "    output.append_stdout('all done')\n"
   ]
  },
  {
   "cell_type": "markdown",
   "metadata": {},
   "source": [
    "# Putting It Together"
   ]
  },
  {
   "cell_type": "code",
   "execution_count": null,
   "metadata": {},
   "outputs": [],
   "source": [
    "# begin the experiment in a new thread\n",
    "experiment_thread = threading.Thread(target=main,\n",
    "                                     args=(output,),\n",
    "                                     name='experiment')\n",
    "experiment_thread.start()"
   ]
  },
  {
   "cell_type": "code",
   "execution_count": null,
   "metadata": {},
   "outputs": [],
   "source": [
    "# start the gui\n",
    "gui"
   ]
  }
 ],
 "metadata": {
  "interpreter": {
   "hash": "cca9709ade13d1845170bf721b4f5aa5be8f7155f4e404d395c21441a7fc75f5"
  },
  "kernelspec": {
   "display_name": "Python 3.9.2 64-bit",
   "language": "python",
   "name": "python3"
  },
  "language_info": {
   "codemirror_mode": {
    "name": "ipython",
    "version": 3
   },
   "file_extension": ".py",
   "mimetype": "text/x-python",
   "name": "python",
   "nbconvert_exporter": "python",
   "pygments_lexer": "ipython3",
   "version": "3.9.2"
  },
  "orig_nbformat": 4
 },
 "nbformat": 4,
 "nbformat_minor": 2
}
