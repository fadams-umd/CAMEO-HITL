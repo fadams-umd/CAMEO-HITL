{
 "cells": [
  {
   "cell_type": "markdown",
   "metadata": {},
   "source": [
    "# Imports and Setup"
   ]
  },
  {
   "cell_type": "markdown",
   "metadata": {},
   "source": [
    "## Asynchronous Execution"
   ]
  },
  {
   "cell_type": "code",
   "execution_count": 1,
   "metadata": {},
   "outputs": [],
   "source": [
    "import threading"
   ]
  },
  {
   "cell_type": "code",
   "execution_count": 2,
   "metadata": {},
   "outputs": [],
   "source": [
    "# multithreading lock to pause experiment loop during user feedback collection\n",
    "experiment_lock = threading.Event()\n",
    "experiment_lock.set()"
   ]
  },
  {
   "cell_type": "code",
   "execution_count": 3,
   "metadata": {},
   "outputs": [],
   "source": [
    "# multithreading lock to terminate the experiment thread prematurely\n",
    "quit_lock = threading.Event()"
   ]
  },
  {
   "cell_type": "markdown",
   "metadata": {},
   "source": [
    "## Logging"
   ]
  },
  {
   "cell_type": "code",
   "execution_count": 4,
   "metadata": {},
   "outputs": [],
   "source": [
    "import logging\n",
    "from traceback import format_exception\n",
    "import datetime"
   ]
  },
  {
   "cell_type": "code",
   "execution_count": 5,
   "metadata": {},
   "outputs": [],
   "source": [
    "time_string = datetime.datetime.now().strftime('%Y-%m-%d-%H-%M')\n",
    "\n",
    "logging.basicConfig(filename=f'logs/hitl_{time_string}.log',\n",
    "                    format='%(levelname)-8s [%(asctime)s]: %(message)s',\n",
    "                    level=logging.INFO)"
   ]
  },
  {
   "cell_type": "code",
   "execution_count": 6,
   "metadata": {},
   "outputs": [],
   "source": [
    "def my_excepthook(args):\n",
    "    '''\n",
    "    Override the function threading.excepthook(), which handles uncaught \n",
    "    exceptions from threads, with a version that prints the thread information \n",
    "    to the log instead of stderr (because that behavior is a little weird in \n",
    "    notebooks).\n",
    "\n",
    "    Parameters\n",
    "    ----------\n",
    "    args: a structure defined in the threading.excepthook documentation\n",
    "    '''\n",
    "\n",
    "    string = ''.join(format_exception(etype=args.exc_type,\n",
    "                                      value=args.exc_value,\n",
    "                                      tb=args.exc_traceback))\n",
    "\n",
    "    logging.critical(string)\n",
    "\n",
    "\n",
    "threading.excepthook = my_excepthook\n"
   ]
  },
  {
   "cell_type": "markdown",
   "metadata": {},
   "source": [
    "## Graphical User Interface"
   ]
  },
  {
   "cell_type": "code",
   "execution_count": 7,
   "metadata": {},
   "outputs": [
    {
     "data": {
      "text/plain": [
       "<matplotlib.pyplot._IoffContext at 0x226407e5e80>"
      ]
     },
     "execution_count": 7,
     "metadata": {},
     "output_type": "execute_result"
    }
   ],
   "source": [
    "import ipywidgets as ipw\n",
    "import matplotlib.pyplot as plt\n",
    "from matplotlib import path\n",
    "from matplotlib.colors import Normalize\n",
    "import ternary\n",
    "\n",
    "# enable ipympl\n",
    "%matplotlib widget\n",
    "\n",
    "# turn on interactive mode so that plots only appear where we want it to\n",
    "plt.ioff()"
   ]
  },
  {
   "cell_type": "code",
   "execution_count": 8,
   "metadata": {},
   "outputs": [],
   "source": [
    "# create the gui elements\n",
    "fig, tax = ternary.figure(scale=0.6)\n",
    "\n",
    "pause_button = ipw.Button(description='Pause')\n",
    "undo_button = ipw.Button(description='Undo Point')\n",
    "continue_button = ipw.Button(description='Continue')\n",
    "quit_button = ipw.Button(description='Quit')"
   ]
  },
  {
   "cell_type": "code",
   "execution_count": 9,
   "metadata": {},
   "outputs": [],
   "source": [
    "# assemble the gui elements\n",
    "buttons = ipw.HBox([pause_button, undo_button, continue_button, quit_button])\n",
    "gui = ipw.VBox([fig.canvas, buttons])"
   ]
  },
  {
   "cell_type": "code",
   "execution_count": 10,
   "metadata": {},
   "outputs": [],
   "source": [
    "# store a list of points where the user has clicked\n",
    "points = []"
   ]
  },
  {
   "cell_type": "markdown",
   "metadata": {},
   "source": [
    "### Plot Callbacks"
   ]
  },
  {
   "cell_type": "code",
   "execution_count": 11,
   "metadata": {},
   "outputs": [],
   "source": [
    "def draw_background_plot(tax):\n",
    "    '''\n",
    "    Plot the data from the current experiment loop.\n",
    "\n",
    "    Parameters\n",
    "    ----------\n",
    "    tax: the ternary axes on which to plot the data\n",
    "    '''\n",
    "\n",
    "    # empty the ternary plot\n",
    "    tax.get_axes().clear()\n",
    "    tax.set_background_color('white')\n",
    "\n",
    "    # plot decoration\n",
    "    tax.right_corner_label(\"$Fe_{0.4}Ga_{0.6}$\", fontsize=20)\n",
    "    tax.top_corner_label(\"$Fe_{0.4}Pd_{0.6}$\", fontsize=20)\n",
    "    tax.left_corner_label(\"$Fe$\", fontsize=20)\n",
    "\n",
    "    tax.get_axes().axis('off')\n",
    "    tax.clear_matplotlib_ticks()\n",
    "\n",
    "    tax.boundary()\n",
    "\n",
    "    # get all the point colors in advance because the \"edgecolors\" parameter \n",
    "    # doesn't accept a list of values like the parameters \"c\" does\n",
    "    point_colors = plt.cm.get_cmap()(Normalize()(all_predicted_labels[-1]))\n",
    "\n",
    "    # plot all points as empty circles\n",
    "    tax.get_axes().scatter(cartesian[:, 0],\n",
    "                           cartesian[:, 1], \n",
    "                           edgecolors=point_colors,\n",
    "                           facecolors='none',\n",
    "                           marker='o')\n",
    "\n",
    "    # fill measured points\n",
    "    tax.get_axes().scatter(cartesian[measured[:-1], 0],\n",
    "                           cartesian[measured[:-1], 1], \n",
    "                           c=point_colors[measured[:-1]],\n",
    "                           marker='o')\n",
    "\n",
    "    # plot next point\n",
    "    tax.get_axes().scatter(cartesian[measured[-1], 0],\n",
    "                           cartesian[measured[-1], 1], \n",
    "                           marker='x', color='m')\n",
    "\n",
    "    logging.info('Background plot drawn')\n",
    "\n",
    "    plt.draw()\n"
   ]
  },
  {
   "cell_type": "code",
   "execution_count": 12,
   "metadata": {},
   "outputs": [],
   "source": [
    "def draw_user_points(tax):\n",
    "    '''\n",
    "    Draw the points where the user has clicked.\n",
    "\n",
    "    Parameters\n",
    "    ----------\n",
    "    tax: the ternary axes on which to draw the points\n",
    "    '''\n",
    "\n",
    "    # create separate x and y coordinate lists for every point in points\n",
    "    x, y = zip(*points)\n",
    "\n",
    "    tax.get_axes().plot(x, y, 'k*-')\n",
    "\n",
    "    logging.info('User points drawn')\n",
    "\n",
    "    plt.draw()"
   ]
  },
  {
   "cell_type": "code",
   "execution_count": 13,
   "metadata": {},
   "outputs": [],
   "source": [
    "def plot_callback(event):\n",
    "    '''\n",
    "    Store the point where the user clicked and add it to the plot.\n",
    "\n",
    "    Parameters\n",
    "    ----------\n",
    "    event: a structure which has information about the mouse event\n",
    "    '''\n",
    "\n",
    "    logging.debug('User clicked on plot')\n",
    "    \n",
    "    if not experiment_lock.is_set():\n",
    "        # add the mouse position (in data coordinates) to the points list\n",
    "        points.append([event.xdata, event.ydata])\n",
    "\n",
    "        logging.info('Point added')\n",
    "\n",
    "        draw_user_points(tax)\n",
    "\n",
    "cid = fig.canvas.mpl_connect('button_press_event', plot_callback)"
   ]
  },
  {
   "cell_type": "markdown",
   "metadata": {},
   "source": [
    "### Button Callbacks"
   ]
  },
  {
   "cell_type": "code",
   "execution_count": 14,
   "metadata": {},
   "outputs": [],
   "source": [
    "def pause_callback(button):\n",
    "    '''\n",
    "    Set the internal flag of the experiment loop threading Event object to false.\n",
    "\n",
    "    Parameters\n",
    "    ----------\n",
    "    button: the instance of button that was clicked\n",
    "    '''\n",
    "\n",
    "    logging.debug('User clicked pause button')\n",
    "    \n",
    "    if experiment_lock.is_set():\n",
    "        experiment_lock.clear()\n",
    "\n",
    "        logging.info('Experiment lock cleared')\n",
    "\n",
    "pause_button.on_click(pause_callback)"
   ]
  },
  {
   "cell_type": "code",
   "execution_count": 15,
   "metadata": {},
   "outputs": [],
   "source": [
    "def undo_callback(button):\n",
    "    '''\n",
    "    Removes the last point where the user clicked and updates the plot.\n",
    "\n",
    "    Parameters\n",
    "    ----------\n",
    "    button: the instance of button that was clicked\n",
    "    '''\n",
    "\n",
    "    logging.debug('User clicked undo button')\n",
    "\n",
    "    removed = points.pop()\n",
    "\n",
    "    # empty the ternary plot\n",
    "    tax.get_axes().clear()\n",
    "    tax.set_background_color()\n",
    "\n",
    "    # re-draw without the deleted point\n",
    "    draw_background_plot(tax)\n",
    "    draw_user_points(tax)\n",
    "\n",
    "    logging.info('Removed point')\n",
    "\n",
    "undo_button.on_click(undo_callback)"
   ]
  },
  {
   "cell_type": "code",
   "execution_count": 16,
   "metadata": {},
   "outputs": [],
   "source": [
    "def continue_callback(button):\n",
    "    '''\n",
    "    Set the internal flag of the experiment loop threading Event object to true.\n",
    "\n",
    "    Parameters\n",
    "    ----------\n",
    "    button: the instance of button that was clicked\n",
    "    '''\n",
    "\n",
    "    logging.debug('User clicked continue button')\n",
    "    \n",
    "    if not experiment_lock.is_set():\n",
    "        experiment_lock.set()\n",
    "\n",
    "        logging.info('Experiment lock set')\n",
    "\n",
    "continue_button.on_click(continue_callback)"
   ]
  },
  {
   "cell_type": "code",
   "execution_count": 17,
   "metadata": {},
   "outputs": [],
   "source": [
    "def quit_callback(button):\n",
    "    '''\n",
    "    Set the internal flag of the quit threading Event object to true, causing the experiment thread to terminate on the next time through the loop.\n",
    "\n",
    "    Parameters\n",
    "    ----------\n",
    "    button: the instance of button that was clicked\n",
    "    '''\n",
    "\n",
    "    logging.debug('User clicked quit button')\n",
    "\n",
    "    quit_lock.set()\n",
    "\n",
    "    logging.info('Quit lock set')\n",
    "\n",
    "quit_button.on_click(quit_callback)"
   ]
  },
  {
   "cell_type": "markdown",
   "metadata": {},
   "source": [
    "## CAMEO"
   ]
  },
  {
   "cell_type": "code",
   "execution_count": 18,
   "metadata": {},
   "outputs": [],
   "source": [
    "# get the simulation test data\n",
    "# !wget -O CAMEO2_support_files_220104a.zip https://drive.google.com/u/0/uc?id=1UnKijzN_6shj-T2r37Jm2V6PSqTJMO-6&export=download\n",
    "# !unzip -o CAMEO2_support_files_220104a.zip"
   ]
  },
  {
   "cell_type": "code",
   "execution_count": 19,
   "metadata": {},
   "outputs": [],
   "source": [
    "import numpy as np\n",
    "import tensorflow as tf\n",
    "import gpflow\n",
    "from gpflow.ci_utils import ci_niter\n",
    "from sklearn.manifold import spectral_embedding\n",
    "from sklearn.mixture import GaussianMixture\n",
    "from scipy.spatial import Voronoi\n",
    "from scipy.spatial.distance import pdist, squareform\n",
    "from ternary.helpers import project_sequence\n",
    "from scipy.io import loadmat\n",
    "from scipy.stats import entropy"
   ]
  },
  {
   "cell_type": "code",
   "execution_count": 20,
   "metadata": {},
   "outputs": [],
   "source": [
    "def phase_mapping(X, num_clusters, random_state):\n",
    "    '''\n",
    "    Cluster data using spectral clustering and a Gaussian mixture model\n",
    "\n",
    "    Parameters\n",
    "    ----------\n",
    "    X: m x n matrix - m rows of n dimensional data\n",
    "    num_clusters: number of groups to cluster data into\n",
    "\n",
    "    Returns\n",
    "    -------\n",
    "    cl: clustering labels for each sample\n",
    "    cluster_prob: the probability for each sample to belong to each cluster\n",
    "    '''\n",
    "\n",
    "    K = similarity_matrix(X, 'cosine')\n",
    "\n",
    "    if X.shape[0] <= num_clusters:\n",
    "        # fewer data points than clusters, each point gets its own cluster\n",
    "        cluster_prob = np.eye(X.shape[0])\n",
    "    else:\n",
    "        x_se = spectral_embedding(adjacency=K,\n",
    "                                  n_components=num_clusters,\n",
    "                                  random_state=random_state)\n",
    "        model = GaussianMixture(n_components=num_clusters,\n",
    "                                covariance_type='diag',\n",
    "                                n_init=10,\n",
    "                                random_state=random_state).fit(x_se)\n",
    "\n",
    "        cluster_prob = model.predict_proba(x_se)\n",
    "\n",
    "    cl = np.argmax(cluster_prob, axis=1).flatten()\n",
    "    return cl, cluster_prob\n"
   ]
  },
  {
   "cell_type": "code",
   "execution_count": 21,
   "metadata": {},
   "outputs": [],
   "source": [
    "def composition_to_graph(T):\n",
    "    '''\n",
    "    Use the composition data to identify nearby neighbors graph in\n",
    "    composition-space.\n",
    "\n",
    "    Parameters\n",
    "    ----------\n",
    "    T: n x 3 matrix - n rows of composition data in ternary coordinate space\n",
    "\n",
    "    Returns\n",
    "    -------\n",
    "    S: n x n matrix - symmetric adjacency matrix\n",
    "    '''\n",
    "\n",
    "    N = T.shape[0]\n",
    "    XYc = np.array(list(zip(*project_sequence(T))))\n",
    "    vor = Voronoi(XYc)\n",
    "    points_separated = vor.ridge_points\n",
    "    S = np.zeros((N, N))\n",
    "    for i in range(points_separated.shape[0]):\n",
    "        S[points_separated[i, 0], points_separated[i, 1]] = 1\n",
    "        S[points_separated[i, 1], points_separated[i, 0]] = 1\n",
    "    return S"
   ]
  },
  {
   "cell_type": "code",
   "execution_count": 22,
   "metadata": {},
   "outputs": [],
   "source": [
    "def plot_graph(S, XY):\n",
    "    '''\n",
    "    Plot the graph learned from composition positions.\n",
    "\n",
    "    Parameters\n",
    "    ----------\n",
    "    S: n x n matrix - symmetric adjacency matrix\n",
    "    XY: n x 2 matrix - n rows of composition data in cartesian coordinates\n",
    "    '''\n",
    "\n",
    "    r, c = np.nonzero(S)\n",
    "    for i in range(r.shape[0]):\n",
    "        xx = [XY[r[i], 0], XY[c[i], 0]]\n",
    "        yy = [XY[r[i], 1], XY[c[i], 1]]\n",
    "        plt.plot(xx, yy, c=np.asarray([.8, .8, .8]))\n",
    "        plt.plot(xx, yy, 'k.')"
   ]
  },
  {
   "cell_type": "code",
   "execution_count": 23,
   "metadata": {},
   "outputs": [],
   "source": [
    "def prune_graph(S, XY, dist_ratio, num_nearest_neighbors):\n",
    "    '''\n",
    "    Remove edges from the graph that connect points which are too far away.\n",
    "\n",
    "    Parameters\n",
    "    ----------\n",
    "    S: n x n matrix - symmetric adjacency matrix\n",
    "    XY: n x 2 matrix - n rows of composition data in cartesian coordinates\n",
    "    dist_ratio: adjusts the cutoff distance\n",
    "    num_nearest_neighbors: desired degree for data vertices\n",
    "    '''\n",
    "\n",
    "    D = squareform(pdist(XY))\n",
    "    mD = np.sort(D, 0)\n",
    "    mD = mD[num_nearest_neighbors, :]\n",
    "    S_ = S.copy()\n",
    "    for i in range(S.shape[0]):\n",
    "        d = D[i, :]\n",
    "        S_[i, d > dist_ratio*mD[i]] = 0\n",
    "        S_[d > dist_ratio*mD[i], i] = 0\n",
    "    return S_"
   ]
  },
  {
   "cell_type": "code",
   "execution_count": 24,
   "metadata": {},
   "outputs": [],
   "source": [
    "def similarity_matrix(X, metric, sigma=1):\n",
    "    '''\n",
    "    Calculate and return the similarity matrix used in spectral clustering.\n",
    "\n",
    "    Parameters\n",
    "    ----------\n",
    "    X: m x n matrix - m rows of n dimensional data\n",
    "    metric: distance metric passed to scipy.spatial.distance.pdist()\n",
    "    sigma: scaling factor for Gaussian radial basis function (default=1)\n",
    "    '''\n",
    "\n",
    "    distance = squareform(pdist(X, metric))\n",
    "    W = np.exp(-(distance**2) / (2*sigma**2))\n",
    "    return W"
   ]
  },
  {
   "cell_type": "code",
   "execution_count": 25,
   "metadata": {},
   "outputs": [],
   "source": [
    "def gpc_phasemapping(xy_curr, labels_curr, xy_full, num_clusters,\n",
    "                     weight_prior=None):\n",
    "    '''\n",
    "    Take clustering labels for the samples and then extrapolate them throughout\n",
    "    composition space, segmenting the XY space into 'phase regions'.\n",
    "\n",
    "    Parameters\n",
    "    ----------\n",
    "    xy_curr: cartesian coordinates of measured data points\n",
    "    labels_curr: cluster labels for those data\n",
    "    xy_full: cartesian coordinates of measured and new, query data points\n",
    "    num_clusters: the number of clusters we're assuming exist\n",
    "    weight_prior: variance coefficient of (optional) prior kernel\n",
    "\n",
    "    Returns\n",
    "    -------\n",
    "    y_mean: data point label predictions\n",
    "    y_variance: data point label variances\n",
    "    f_mean: data point latent GP predictions\n",
    "    f_variance: data point latent GP variances\n",
    "    '''\n",
    "\n",
    "    data = (xy_curr, labels_curr)\n",
    "\n",
    "    if weight_prior is None:\n",
    "        kernel = gpflow.kernels.Matern32(lengthscales=[1, 1])\n",
    "    else:\n",
    "        prior_kernel = gpflow.kernels.SquaredExponential(active_dims=[2],\n",
    "                                                         lengthscales=0.001,\n",
    "                                                         variance=weight_prior)\n",
    "\n",
    "        # fix the prior kernel lengthscale and variance\n",
    "        gpflow.utilities.set_trainable(prior_kernel.parameters[1], False)\n",
    "        gpflow.utilities.set_trainable(prior_kernel.parameters[0], False)\n",
    "                                                         \n",
    "        kernel = gpflow.kernels.Matern32(active_dims=[0, 1]) + prior_kernel\n",
    "\n",
    "    invlink = gpflow.likelihoods.RobustMax(num_clusters)\n",
    "\n",
    "    likelihood = gpflow.likelihoods.MultiClass(num_clusters, invlink=invlink)\n",
    "\n",
    "    model = gpflow.models.VGP(data=data,\n",
    "                              kernel=kernel,\n",
    "                              likelihood=likelihood,\n",
    "                              num_latent_gps=num_clusters)\n",
    "\n",
    "    # hyperparameter optimization\n",
    "    opt = gpflow.optimizers.Scipy()\n",
    "    _ = opt.minimize(model.training_loss,\n",
    "                     model.trainable_variables,\n",
    "                     options={'maxiter': ci_niter(1000)})\n",
    "\n",
    "    # Poisson process for the full XY coordinates\n",
    "    y = model.predict_y(xy_full)\n",
    "    y_mean = y[0].numpy()\n",
    "    y_variance = y[1].numpy()\n",
    "\n",
    "    # (non-squeezed) probabilistic function for class labels\n",
    "    f = model.predict_f(xy_full)\n",
    "    f_mean = f[0].numpy()\n",
    "    f_variance = f[1].numpy()\n",
    "\n",
    "    return y_mean, y_variance, f_mean, f_variance"
   ]
  },
  {
   "cell_type": "markdown",
   "metadata": {},
   "source": [
    "## Experiment Loop"
   ]
  },
  {
   "cell_type": "code",
   "execution_count": 26,
   "metadata": {},
   "outputs": [],
   "source": [
    "data = loadmat('FeGaPd_full_data_220104a.mat')\n",
    "\n",
    "# composition data in cartesian coordinates\n",
    "composition = data['C']\n",
    "idx = [1, 2, 0]\n",
    "cartesian = np.array(list(zip(*project_sequence(composition[:, idx]))))\n",
    "\n",
    "# x ray diffraction data\n",
    "xrd = data['X'][:, 631:1181]\n",
    "\n",
    "# true phase mapping labels\n",
    "true_labels = data['labels_col']\n",
    "\n",
    "# list of all the predicted labels to compare to the true labels\n",
    "all_predicted_labels = []\n",
    "\n",
    "measured = [163]\n",
    "initial_num_measurements = len(measured)\n",
    "num_clusters = 5\n",
    "num_total = cartesian.shape[0]"
   ]
  },
  {
   "cell_type": "code",
   "execution_count": 27,
   "metadata": {},
   "outputs": [],
   "source": [
    "# seed the numpy random number generation for reproducability\n",
    "seed = 1\n",
    "rng = np.random.RandomState(seed)\n",
    "tf.random.set_seed(seed)"
   ]
  },
  {
   "cell_type": "code",
   "execution_count": 28,
   "metadata": {},
   "outputs": [],
   "source": [
    "# initialize these variables so we can access them in the main thread\n",
    "labels = []\n",
    "y_mean = []\n",
    "acquisition = []\n",
    "next_sample = None"
   ]
  },
  {
   "cell_type": "code",
   "execution_count": 29,
   "metadata": {},
   "outputs": [],
   "source": [
    "def main():\n",
    "    '''\n",
    "    Run the calculation loop while checking if the user is waiting to\n",
    "    provide input. If so, pause the loop, collect input, then resume.\n",
    "    '''\n",
    "\n",
    "    global all_predict_labels\n",
    "\n",
    "    global measured\n",
    "    global labels\n",
    "    global y_mean\n",
    "    global acquisition\n",
    "    global next_sample\n",
    "\n",
    "    global points\n",
    "\n",
    "    user_labels = None\n",
    "\n",
    "    for i in range(num_total - initial_num_measurements - 1):\n",
    "        if quit_lock.is_set():\n",
    "            logging.info(f'Experiment loop quit on iteration {i+1}')\n",
    "            break\n",
    "\n",
    "        logging.info(f'Begin experiment loop iteration {i+1}')\n",
    "\n",
    "        labels, _ = phase_mapping(xrd[measured, :], num_clusters, rng)\n",
    "\n",
    "        if user_labels is None:\n",
    "            # user didn't provide input last iteration\n",
    "            y_mean, _, _, _ = gpc_phasemapping(cartesian[measured, :],\n",
    "                                               labels,\n",
    "                                               cartesian,\n",
    "                                               num_clusters)\n",
    "\n",
    "            logging.debug('GPC phasemapping WITHOUT user input complete')\n",
    "        else:\n",
    "            # use the user labels as input\n",
    "            data_with_prior = np.column_stack((cartesian, user_labels))\n",
    "\n",
    "            y_mean, _, _, _ = gpc_phasemapping(data_with_prior[measured, :],\n",
    "                                               labels,\n",
    "                                               data_with_prior,\n",
    "                                               num_clusters,\n",
    "                                               weight_prior=1)\n",
    "\n",
    "            logging.debug('GPC phasemapping WITH user input complete')\n",
    "\n",
    "            # reset the user labels for next iteration\n",
    "            user_labels = None\n",
    "        \n",
    "        # new row of predicted labels, with NaN in place of unmeasured samples\n",
    "        new_label_row = np.argmax(y_mean, 1)\n",
    "        all_predicted_labels.append(new_label_row)\n",
    "\n",
    "        # calculate the next sample point\n",
    "        acquisition = entropy(y_mean, axis=1)\n",
    "        next_sample = np.argmax(acquisition)\n",
    "        measured = np.append(measured, next_sample)\n",
    "        \n",
    "        draw_background_plot(tax)\n",
    "\n",
    "        if not experiment_lock.is_set():\n",
    "            logging.info('Experiment thread pausing')\n",
    "\n",
    "            experiment_lock.wait()\n",
    "\n",
    "            logging.info('Experiment thread continuing')\n",
    "\n",
    "            if len(points) < 2:\n",
    "                raise ValueError('User didn\\'t add enough points.')\n",
    "            elif len(points) == 2:\n",
    "                # user drew a line\n",
    "                x1, y1 = points[0]\n",
    "                x2, y2 = points[1]\n",
    "\n",
    "                # calculate the distance between each point the line\n",
    "                d = [(x-x1)*(y2-y1)-(y-y1)*(x2-x1) for (x, y) in cartesian]\n",
    "\n",
    "                user_labels = np.sign(d)\n",
    "            else:\n",
    "                # user draw a polygon\n",
    "                polygon = path.Path(points)\n",
    "\n",
    "                user_labels = polygon.contains_points(cartesian)\n",
    "            \n",
    "            # clear user points\n",
    "            points = []"
   ]
  },
  {
   "cell_type": "markdown",
   "metadata": {},
   "source": [
    "## Data Analysis Utilities"
   ]
  },
  {
   "cell_type": "code",
   "execution_count": 30,
   "metadata": {},
   "outputs": [],
   "source": [
    "from sklearn.metrics import fowlkes_mallows_score"
   ]
  },
  {
   "cell_type": "markdown",
   "metadata": {},
   "source": [
    "# Putting It Together"
   ]
  },
  {
   "cell_type": "code",
   "execution_count": 31,
   "metadata": {},
   "outputs": [],
   "source": [
    "# begin the experiment in a new thread\n",
    "experiment_thread = threading.Thread(target=main,\n",
    "                                     name='experiment')\n",
    "experiment_thread.start()"
   ]
  },
  {
   "cell_type": "code",
   "execution_count": 32,
   "metadata": {},
   "outputs": [
    {
     "data": {
      "application/vnd.jupyter.widget-view+json": {
       "model_id": "3c56c183d2094182b0105621343dcf89",
       "version_major": 2,
       "version_minor": 0
      },
      "text/plain": [
       "VBox(children=(Canvas(toolbar=Toolbar(toolitems=[('Home', 'Reset original view', 'home', 'home'), ('Back', 'Ba…"
      ]
     },
     "metadata": {},
     "output_type": "display_data"
    }
   ],
   "source": [
    "# start the gui\n",
    "gui"
   ]
  },
  {
   "cell_type": "code",
   "execution_count": 33,
   "metadata": {},
   "outputs": [
    {
     "name": "stdout",
     "output_type": "stream",
     "text": [
      "dead\n"
     ]
    }
   ],
   "source": [
    "logging.debug('Checking if experiment thread is alive...')\n",
    "\n",
    "result = 'alive' if experiment_thread.is_alive() else 'dead'\n",
    "\n",
    "logging.debug(f'Experiment thread is {result}')\n",
    "\n",
    "print(result)"
   ]
  },
  {
   "cell_type": "markdown",
   "metadata": {},
   "source": [
    "# Data Analysis"
   ]
  },
  {
   "cell_type": "code",
   "execution_count": 50,
   "metadata": {},
   "outputs": [],
   "source": [
    "# save predicted labels for later comparison\n",
    "header = ['sample order', ' '.join([str(m) for m in measured]), 'labels']\n",
    "np.savetxt(fname=f'labels/predicted_labels_{time_string}.txt',\n",
    "           X=all_predicted_labels, \n",
    "           fmt='%d', \n",
    "           header='\\n'.join(header),\n",
    "           comments='')"
   ]
  },
  {
   "cell_type": "code",
   "execution_count": 37,
   "metadata": {},
   "outputs": [],
   "source": [
    "all_predicted_labels = np.array(all_predicted_labels)"
   ]
  },
  {
   "cell_type": "code",
   "execution_count": 35,
   "metadata": {},
   "outputs": [],
   "source": [
    "# pick one of the 'true' labels to use for comparison\n",
    "true_labels_set = true_labels[0][0].flatten()"
   ]
  },
  {
   "cell_type": "code",
   "execution_count": 36,
   "metadata": {},
   "outputs": [],
   "source": [
    "num_experiments = len(all_predicted_labels)\n",
    "\n",
    "scores = np.zeros(num_experiments)\n",
    "\n",
    "for i in range(num_experiments):\n",
    "    scores[i] = fowlkes_mallows_score(true_labels_set, all_predicted_labels[i])\n"
   ]
  },
  {
   "cell_type": "code",
   "execution_count": 37,
   "metadata": {},
   "outputs": [
    {
     "data": {
      "application/vnd.jupyter.widget-view+json": {
       "model_id": "df11c345dd224b20aff3549dd6208db3",
       "version_major": 2,
       "version_minor": 0
      },
      "image/png": "[encoded data removed]",
      "text/html": [
       "\n",
       "            <div style=\"display: inline-block;\">\n",
       "                <div class=\"jupyter-widgets widget-label\" style=\"text-align: center;\">\n",
       "                    Figure\n",
       "                </div>\n",
       "                <img src='data:image/png;base64,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' width=640.0/>\n",
       "            </div>\n",
       "        "
      ],
      "text/plain": [
       "Canvas(toolbar=Toolbar(toolitems=[('Home', 'Reset original view', 'home', 'home'), ('Back', 'Back to previous …"
      ]
     },
     "metadata": {},
     "output_type": "display_data"
    }
   ],
   "source": [
    "fig, ax = plt.subplots()\n",
    "ax.plot(scores, '.')\n",
    "ax.set_ylim([0, 1])\n",
    "ax.set_ylabel('FMI')\n",
    "plt.show()"
   ]
  }
 ],
 "metadata": {
  "interpreter": {
   "hash": "d782e3369a9c649e580e37cdd6febd5b59d5ba3ca94b62266a945741e1c35eee"
  },
  "kernelspec": {
   "display_name": "Python 3.9.13 ('hitl')",
   "language": "python",
   "name": "python3"
  },
  "language_info": {
   "codemirror_mode": {
    "name": "ipython",
    "version": 3
   },
   "file_extension": ".py",
   "mimetype": "text/x-python",
   "name": "python",
   "nbconvert_exporter": "python",
   "pygments_lexer": "ipython3",
   "version": "3.9.13"
  }
 },
 "nbformat": 4,
 "nbformat_minor": 2
}
