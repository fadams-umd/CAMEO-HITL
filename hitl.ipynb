{
 "cells": [
  {
   "cell_type": "markdown",
   "metadata": {},
   "source": [
    "# Imports and Setup"
   ]
  },
  {
   "cell_type": "markdown",
   "metadata": {},
   "source": [
    "## Asynchronous Execution"
   ]
  },
  {
   "cell_type": "code",
   "execution_count": 34,
   "metadata": {},
   "outputs": [],
   "source": [
    "import threading"
   ]
  },
  {
   "cell_type": "code",
   "execution_count": 35,
   "metadata": {},
   "outputs": [],
   "source": [
    "# multithreading lock to pause experiment loop during user feedback collection\n",
    "experiment_lock = threading.Event()\n",
    "experiment_lock.set()"
   ]
  },
  {
   "cell_type": "code",
   "execution_count": 36,
   "metadata": {},
   "outputs": [],
   "source": [
    "# multithreading lock to terminate the experiment thread prematurely\n",
    "quit_lock = threading.Event()"
   ]
  },
  {
   "cell_type": "markdown",
   "metadata": {},
   "source": [
    "## Logging"
   ]
  },
  {
   "cell_type": "code",
   "execution_count": 37,
   "metadata": {},
   "outputs": [],
   "source": [
    "import logging\n",
    "import datetime"
   ]
  },
  {
   "cell_type": "markdown",
   "metadata": {},
   "source": [
    "## Graphical User Interface"
   ]
  },
  {
   "cell_type": "code",
   "execution_count": 38,
   "metadata": {},
   "outputs": [
    {
     "data": {
      "text/plain": [
       "<matplotlib.pyplot._IoffContext at 0x269f21d6580>"
      ]
     },
     "execution_count": 38,
     "metadata": {},
     "output_type": "execute_result"
    }
   ],
   "source": [
    "import ipywidgets as ipw\n",
    "import matplotlib.pyplot as plt\n",
    "from matplotlib import path\n",
    "from matplotlib.colors import Normalize\n",
    "import ternary\n",
    "\n",
    "# enable ipympl\n",
    "%matplotlib widget\n",
    "\n",
    "# turn on interactive mode so that plots only appear where we want it to\n",
    "plt.ioff()"
   ]
  },
  {
   "cell_type": "code",
   "execution_count": 39,
   "metadata": {},
   "outputs": [],
   "source": [
    "# create the gui elements\n",
    "fig, tax = ternary.figure(scale=0.6)\n",
    "\n",
    "pause_button = ipw.Button(description='Pause')\n",
    "undo_button = ipw.Button(description='Undo Point')\n",
    "continue_button = ipw.Button(description='Continue')\n",
    "quit_button = ipw.Button(description='Quit')"
   ]
  },
  {
   "cell_type": "code",
   "execution_count": 40,
   "metadata": {},
   "outputs": [],
   "source": [
    "# assemble the gui elements\n",
    "buttons = ipw.HBox([pause_button, undo_button, continue_button, quit_button])\n",
    "gui = ipw.VBox([fig.canvas, buttons])"
   ]
  },
  {
   "cell_type": "code",
   "execution_count": 41,
   "metadata": {},
   "outputs": [],
   "source": [
    "# store a list of points where the user has clicked\n",
    "points = []"
   ]
  },
  {
   "cell_type": "markdown",
   "metadata": {},
   "source": [
    "### Plot Callbacks"
   ]
  },
  {
   "cell_type": "code",
   "execution_count": 42,
   "metadata": {},
   "outputs": [],
   "source": [
    "def draw_background_plot(tax):\n",
    "    '''\n",
    "    Plot the data from the current experiment loop.\n",
    "\n",
    "    Parameters\n",
    "    ----------\n",
    "    tax: the ternary axes on which to plot the data\n",
    "    '''\n",
    "\n",
    "    # empty the ternary plot\n",
    "    tax.get_axes().clear()\n",
    "    tax.set_background_color('white')\n",
    "\n",
    "    # plot decoration\n",
    "    tax.right_corner_label(\"$Fe_{0.4}Ga_{0.6}$\", fontsize=20)\n",
    "    tax.top_corner_label(\"$Fe_{0.4}Pd_{0.6}$\", fontsize=20)\n",
    "    tax.left_corner_label(\"$Fe$\", fontsize=20)\n",
    "\n",
    "    tax.get_axes().axis('off')\n",
    "    tax.clear_matplotlib_ticks()\n",
    "\n",
    "    tax.boundary()\n",
    "\n",
    "    # get all the point colors in advance because the \"edgecolors\" parameter \n",
    "    # doesn't accept a list of values like the parameters \"c\" does\n",
    "    point_colors = plt.cm.get_cmap()(Normalize()(all_predicted_labels[-1]))\n",
    "\n",
    "    # plot all points as empty circles\n",
    "    tax.get_axes().scatter(cartesian[:, 0],\n",
    "                           cartesian[:, 1], \n",
    "                           edgecolors=point_colors,\n",
    "                           facecolors='none',\n",
    "                           marker='o')\n",
    "\n",
    "    # fill measured points\n",
    "    tax.get_axes().scatter(cartesian[measured[:-1], 0],\n",
    "                           cartesian[measured[:-1], 1], \n",
    "                           c=point_colors[measured[:-1]],\n",
    "                           marker='o')\n",
    "\n",
    "    # plot next point\n",
    "    tax.get_axes().scatter(cartesian[measured[-1], 0],\n",
    "                           cartesian[measured[-1], 1], \n",
    "                           marker='x', color='m')\n",
    "\n",
    "    logging.info('Background plot drawn')\n",
    "\n",
    "    plt.draw()\n"
   ]
  },
  {
   "cell_type": "code",
   "execution_count": 43,
   "metadata": {},
   "outputs": [],
   "source": [
    "def draw_user_points(tax):\n",
    "    '''\n",
    "    Draw the points where the user has clicked.\n",
    "\n",
    "    Parameters\n",
    "    ----------\n",
    "    tax: the ternary axes on which to draw the points\n",
    "    '''\n",
    "\n",
    "    # create separate x and y coordinate lists for every point in points\n",
    "    x, y = zip(*points)\n",
    "\n",
    "    tax.get_axes().plot(x, y, 'k*-')\n",
    "\n",
    "    logging.info('User points drawn')\n",
    "\n",
    "    plt.draw()"
   ]
  },
  {
   "cell_type": "code",
   "execution_count": 44,
   "metadata": {},
   "outputs": [],
   "source": [
    "def plot_callback(event):\n",
    "    '''\n",
    "    Store the point where the user clicked and add it to the plot.\n",
    "\n",
    "    Parameters\n",
    "    ----------\n",
    "    event: a structure which has information about the mouse event\n",
    "    '''\n",
    "\n",
    "    logging.debug('User clicked on plot')\n",
    "    \n",
    "    if not experiment_lock.is_set():\n",
    "        # add the mouse position (in data coordinates) to the points list\n",
    "        points.append([event.xdata, event.ydata])\n",
    "\n",
    "        logging.info('Point added')\n",
    "\n",
    "        draw_user_points(tax)\n",
    "\n",
    "cid = fig.canvas.mpl_connect('button_press_event', plot_callback)"
   ]
  },
  {
   "cell_type": "markdown",
   "metadata": {},
   "source": [
    "### Button Callbacks"
   ]
  },
  {
   "cell_type": "code",
   "execution_count": 45,
   "metadata": {},
   "outputs": [],
   "source": [
    "def pause_callback(button):\n",
    "    '''\n",
    "    Set the internal flag of the experiment loop threading Event object to false.\n",
    "\n",
    "    Parameters\n",
    "    ----------\n",
    "    button: the instance of button that was clicked\n",
    "    '''\n",
    "\n",
    "    logging.debug('User clicked pause button')\n",
    "    \n",
    "    if experiment_lock.is_set():\n",
    "        experiment_lock.clear()\n",
    "\n",
    "        logging.info('Experiment lock cleared')\n",
    "\n",
    "pause_button.on_click(pause_callback)"
   ]
  },
  {
   "cell_type": "code",
   "execution_count": 46,
   "metadata": {},
   "outputs": [],
   "source": [
    "def undo_callback(button):\n",
    "    '''\n",
    "    Removes the last point where the user clicked and updates the plot.\n",
    "\n",
    "    Parameters\n",
    "    ----------\n",
    "    button: the instance of button that was clicked\n",
    "    '''\n",
    "\n",
    "    logging.debug('User clicked undo button')\n",
    "\n",
    "    # removed = points.pop()\n",
    "\n",
    "    # empty the ternary plot\n",
    "    tax.get_axes().clear()\n",
    "    tax.set_background_color()\n",
    "\n",
    "    # re-draw without the deleted point\n",
    "    draw_background_plot(tax)\n",
    "    draw_user_points(tax)\n",
    "\n",
    "    logging.info('Removed point')\n",
    "\n",
    "undo_button.on_click(undo_callback)"
   ]
  },
  {
   "cell_type": "code",
   "execution_count": 47,
   "metadata": {},
   "outputs": [],
   "source": [
    "def continue_callback(button):\n",
    "    '''\n",
    "    Set the internal flag of the experiment loop threading Event object to true.\n",
    "\n",
    "    Parameters\n",
    "    ----------\n",
    "    button: the instance of button that was clicked\n",
    "    '''\n",
    "\n",
    "    logging.debug('User clicked continue button')\n",
    "    \n",
    "    if not experiment_lock.is_set():\n",
    "        experiment_lock.set()\n",
    "\n",
    "        logging.info('Experiment lock set')\n",
    "\n",
    "continue_button.on_click(continue_callback)"
   ]
  },
  {
   "cell_type": "code",
   "execution_count": 48,
   "metadata": {},
   "outputs": [],
   "source": [
    "def quit_callback(button):\n",
    "    '''\n",
    "    Set the internal flag of the quit threading Event object to true, causing the experiment thread to terminate on the next time through the loop.\n",
    "\n",
    "    Parameters\n",
    "    ----------\n",
    "    button: the instance of button that was clicked\n",
    "    '''\n",
    "\n",
    "    logging.debug('User clicked quit button')\n",
    "\n",
    "    quit_lock.set()\n",
    "\n",
    "    logging.info('Quit lock set')\n",
    "\n",
    "quit_button.on_click(quit_callback)"
   ]
  },
  {
   "cell_type": "markdown",
   "metadata": {},
   "source": [
    "## CAMEO"
   ]
  },
  {
   "cell_type": "code",
   "execution_count": 49,
   "metadata": {},
   "outputs": [],
   "source": [
    "# get the simulation test data\n",
    "# !wget -O CAMEO2_support_files_220104a.zip https://drive.google.com/u/0/uc?id=1UnKijzN_6shj-T2r37Jm2V6PSqTJMO-6&export=download\n",
    "# !unzip -o CAMEO2_support_files_220104a.zip"
   ]
  },
  {
   "cell_type": "code",
   "execution_count": 50,
   "metadata": {},
   "outputs": [],
   "source": [
    "import numpy as np\n",
    "import tensorflow as tf\n",
    "import gpflow\n",
    "from gpflow.ci_utils import ci_niter\n",
    "from sklearn.manifold import spectral_embedding\n",
    "from sklearn.mixture import GaussianMixture\n",
    "from scipy.spatial import Voronoi\n",
    "from scipy.spatial.distance import pdist, squareform\n",
    "from ternary.helpers import project_sequence\n",
    "from scipy.io import loadmat\n",
    "from scipy.stats import entropy"
   ]
  },
  {
   "cell_type": "code",
   "execution_count": 51,
   "metadata": {},
   "outputs": [],
   "source": [
    "def phase_mapping(X, num_clusters, random_state):\n",
    "    '''\n",
    "    Cluster data using spectral clustering and a Gaussian mixture model\n",
    "\n",
    "    Parameters\n",
    "    ----------\n",
    "    X: m x n matrix - m rows of n dimensional data\n",
    "    num_clusters: number of groups to cluster data into\n",
    "\n",
    "    Returns\n",
    "    -------\n",
    "    cl: clustering labels for each sample\n",
    "    cluster_prob: the probability for each sample to belong to each cluster\n",
    "    '''\n",
    "\n",
    "    K = similarity_matrix(X, 'cosine')\n",
    "\n",
    "    if X.shape[0] <= num_clusters:\n",
    "        # fewer data points than clusters, each point gets its own cluster\n",
    "        cluster_prob = np.eye(X.shape[0])\n",
    "    else:\n",
    "        x_se = spectral_embedding(adjacency=K,\n",
    "                                  n_components=num_clusters,\n",
    "                                  random_state=random_state)\n",
    "        model = GaussianMixture(n_components=num_clusters,\n",
    "                                covariance_type='diag',\n",
    "                                n_init=10,\n",
    "                                random_state=random_state).fit(x_se)\n",
    "\n",
    "        cluster_prob = model.predict_proba(x_se)\n",
    "\n",
    "    cl = np.argmax(cluster_prob, axis=1).flatten()\n",
    "    return cl, cluster_prob\n"
   ]
  },
  {
   "cell_type": "code",
   "execution_count": 52,
   "metadata": {},
   "outputs": [],
   "source": [
    "def composition_to_graph(T):\n",
    "    '''\n",
    "    Use the composition data to identify nearby neighbors graph in\n",
    "    composition-space.\n",
    "\n",
    "    Parameters\n",
    "    ----------\n",
    "    T: n x 3 matrix - n rows of composition data in ternary coordinate space\n",
    "\n",
    "    Returns\n",
    "    -------\n",
    "    S: n x n matrix - symmetric adjacency matrix\n",
    "    '''\n",
    "\n",
    "    N = T.shape[0]\n",
    "    XYc = np.array(list(zip(*project_sequence(T))))\n",
    "    vor = Voronoi(XYc)\n",
    "    points_separated = vor.ridge_points\n",
    "    S = np.zeros((N, N))\n",
    "    for i in range(points_separated.shape[0]):\n",
    "        S[points_separated[i, 0], points_separated[i, 1]] = 1\n",
    "        S[points_separated[i, 1], points_separated[i, 0]] = 1\n",
    "    return S"
   ]
  },
  {
   "cell_type": "code",
   "execution_count": 53,
   "metadata": {},
   "outputs": [],
   "source": [
    "def plot_graph(S, XY):\n",
    "    '''\n",
    "    Plot the graph learned from composition positions.\n",
    "\n",
    "    Parameters\n",
    "    ----------\n",
    "    S: n x n matrix - symmetric adjacency matrix\n",
    "    XY: n x 2 matrix - n rows of composition data in cartesian coordinates\n",
    "    '''\n",
    "\n",
    "    r, c = np.nonzero(S)\n",
    "    for i in range(r.shape[0]):\n",
    "        xx = [XY[r[i], 0], XY[c[i], 0]]\n",
    "        yy = [XY[r[i], 1], XY[c[i], 1]]\n",
    "        plt.plot(xx, yy, c=np.asarray([.8, .8, .8]))\n",
    "        plt.plot(xx, yy, 'k.')"
   ]
  },
  {
   "cell_type": "code",
   "execution_count": 54,
   "metadata": {},
   "outputs": [],
   "source": [
    "def prune_graph(S, XY, dist_ratio, num_nearest_neighbors):\n",
    "    '''\n",
    "    Remove edges from the graph that connect points which are too far away.\n",
    "\n",
    "    Parameters\n",
    "    ----------\n",
    "    S: n x n matrix - symmetric adjacency matrix\n",
    "    XY: n x 2 matrix - n rows of composition data in cartesian coordinates\n",
    "    dist_ratio: adjusts the cutoff distance\n",
    "    num_nearest_neighbors: desired degree for data vertices\n",
    "    '''\n",
    "\n",
    "    D = squareform(pdist(XY))\n",
    "    mD = np.sort(D, 0)\n",
    "    mD = mD[num_nearest_neighbors, :]\n",
    "    S_ = S.copy()\n",
    "    for i in range(S.shape[0]):\n",
    "        d = D[i, :]\n",
    "        S_[i, d > dist_ratio*mD[i]] = 0\n",
    "        S_[d > dist_ratio*mD[i], i] = 0\n",
    "    return S_"
   ]
  },
  {
   "cell_type": "code",
   "execution_count": 55,
   "metadata": {},
   "outputs": [],
   "source": [
    "def similarity_matrix(X, metric, sigma=1):\n",
    "    '''\n",
    "    Calculate and return the similarity matrix used in spectral clustering.\n",
    "\n",
    "    Parameters\n",
    "    ----------\n",
    "    X: m x n matrix - m rows of n dimensional data\n",
    "    metric: distance metric passed to scipy.spatial.distance.pdist()\n",
    "    sigma: scaling factor for Gaussian radial basis function (default=1)\n",
    "    '''\n",
    "\n",
    "    distance = squareform(pdist(X, metric))\n",
    "    W = np.exp(-(distance**2) / (2*sigma**2))\n",
    "    return W"
   ]
  },
  {
   "cell_type": "code",
   "execution_count": 56,
   "metadata": {},
   "outputs": [],
   "source": [
    "def gpc_phasemapping(xy_curr, labels_curr, xy_full, num_clusters,\n",
    "                     weight_prior=None):\n",
    "    '''\n",
    "    Take clustering labels for the samples and then extrapolate them throughout\n",
    "    composition space, segmenting the XY space into 'phase regions'.\n",
    "\n",
    "    Parameters\n",
    "    ----------\n",
    "    xy_curr: cartesian coordinates of measured data points\n",
    "    labels_curr: cluster labels for those data\n",
    "    xy_full: cartesian coordinates of measured and new, query data points\n",
    "    num_clusters: the number of clusters we're assuming exist\n",
    "    weight_prior: variance coefficient of (optional) prior kernel\n",
    "\n",
    "    Returns\n",
    "    -------\n",
    "    y_mean: data point label predictions\n",
    "    y_variance: data point label variances\n",
    "    f_mean: data point latent GP predictions\n",
    "    f_variance: data point latent GP variances\n",
    "    '''\n",
    "\n",
    "    data = (xy_curr, labels_curr)\n",
    "\n",
    "    if weight_prior is None:\n",
    "        kernel = gpflow.kernels.Matern32(lengthscales=[1, 1])\n",
    "    else:\n",
    "        prior_kernel = gpflow.kernels.SquaredExponential(active_dims=[2],\n",
    "                                                         lengthscales=0.001,\n",
    "                                                         variance=weight_prior)\n",
    "\n",
    "        # fix the prior kernel lengthscale and variance\n",
    "        gpflow.utilities.set_trainable(prior_kernel.parameters[1], False)\n",
    "        gpflow.utilities.set_trainable(prior_kernel.parameters[0], False)\n",
    "                                                         \n",
    "        kernel = gpflow.kernels.Matern32(active_dims=[0, 1]) + prior_kernel\n",
    "\n",
    "    invlink = gpflow.likelihoods.RobustMax(num_clusters)\n",
    "\n",
    "    likelihood = gpflow.likelihoods.MultiClass(num_clusters, invlink=invlink)\n",
    "\n",
    "    model = gpflow.models.VGP(data=data,\n",
    "                              kernel=kernel,\n",
    "                              likelihood=likelihood,\n",
    "                              num_latent_gps=num_clusters)\n",
    "\n",
    "    # hyperparameter optimization\n",
    "    opt = gpflow.optimizers.Scipy()\n",
    "    _ = opt.minimize(model.training_loss,\n",
    "                     model.trainable_variables,\n",
    "                     options={'maxiter': ci_niter(1000)})\n",
    "\n",
    "    # Poisson process for the full XY coordinates\n",
    "    y = model.predict_y(xy_full)\n",
    "    y_mean = y[0].numpy()\n",
    "    y_variance = y[1].numpy()\n",
    "\n",
    "    # (non-squeezed) probabilistic function for class labels\n",
    "    f = model.predict_f(xy_full)\n",
    "    f_mean = f[0].numpy()\n",
    "    f_variance = f[1].numpy()\n",
    "\n",
    "    return y_mean, y_variance, f_mean, f_variance"
   ]
  },
  {
   "cell_type": "markdown",
   "metadata": {},
   "source": [
    "## Experiment Loop"
   ]
  },
  {
   "cell_type": "code",
   "execution_count": 57,
   "metadata": {},
   "outputs": [],
   "source": [
    "data = loadmat('FeGaPd_full_data_220104a.mat')\n",
    "\n",
    "# composition data in cartesian coordinates\n",
    "composition = data['C']\n",
    "idx = [1, 2, 0]\n",
    "cartesian = np.array(list(zip(*project_sequence(composition[:, idx]))))\n",
    "\n",
    "# x ray diffraction data\n",
    "xrd = data['X'][:, 631:1181]\n",
    "\n",
    "# true phase mapping labels\n",
    "true_labels = data['labels_col']\n",
    "\n",
    "# list of all the predicted labels to compare to the true labels\n",
    "all_predicted_labels = []\n",
    "\n",
    "initial_num_measurements = 20\n",
    "num_clusters = 5\n",
    "num_total = cartesian.shape[0]"
   ]
  },
  {
   "cell_type": "code",
   "execution_count": 58,
   "metadata": {},
   "outputs": [],
   "source": [
    "# seed the numpy random number generation for reproducability\n",
    "seed = 0\n",
    "rng = np.random.RandomState(seed)\n",
    "tf.random.set_seed(seed)"
   ]
  },
  {
   "cell_type": "code",
   "execution_count": 59,
   "metadata": {},
   "outputs": [],
   "source": [
    "# initialize these variables so we can access them in the main thread\n",
    "# measured = rng.permutation(num_total)[:initial_num_measurements]\n",
    "measured = [163]\n",
    "labels = []\n",
    "y_mean = []\n",
    "acquisition = []\n",
    "next_sample = None"
   ]
  },
  {
   "cell_type": "code",
   "execution_count": 60,
   "metadata": {},
   "outputs": [],
   "source": [
    "def main():\n",
    "    '''\n",
    "    Run the calculation loop while checking if the user is waiting to\n",
    "    provide input. If so, pause the loop, collect input, then resume.\n",
    "    '''\n",
    "\n",
    "    global all_predict_labels\n",
    "\n",
    "    global measured\n",
    "    global labels\n",
    "    global y_mean\n",
    "    global acquisition\n",
    "    global next_sample\n",
    "\n",
    "    global points\n",
    "\n",
    "    user_labels = None\n",
    "\n",
    "    for i in range(num_total - initial_num_measurements - 1):\n",
    "        if quit_lock.is_set():\n",
    "            logging.info(f'Experiment loop quit on iteration {i+1}')\n",
    "            break\n",
    "\n",
    "        logging.info(f'Begin experiment loop iteration {i+1}')\n",
    "\n",
    "        labels, _ = phase_mapping(xrd[measured, :], num_clusters, rng)\n",
    "\n",
    "        if user_labels is None:\n",
    "            # user didn't provide input last iteration\n",
    "            y_mean, _, _, _ = gpc_phasemapping(cartesian[measured, :],\n",
    "                                               labels,\n",
    "                                               cartesian,\n",
    "                                               num_clusters)\n",
    "\n",
    "            logging.debug('GPC phasemapping WITHOUT user input complete')\n",
    "        else:\n",
    "            # use the user labels as input\n",
    "            data_with_prior = np.column_stack((cartesian, user_labels))\n",
    "\n",
    "            y_mean, _, _, _ = gpc_phasemapping(data_with_prior[measured, :],\n",
    "                                               labels,\n",
    "                                               data_with_prior,\n",
    "                                               num_clusters,\n",
    "                                               weight_prior=1)\n",
    "\n",
    "            logging.debug('GPC phasemapping WITH user input complete')\n",
    "\n",
    "            # reset the user labels for next iteration\n",
    "            user_labels = None\n",
    "        \n",
    "        # new row of predicted labels, with NaN in place of unmeasured samples\n",
    "        new_label_row = np.argmax(y_mean, 1)\n",
    "        all_predicted_labels.append(new_label_row)\n",
    "\n",
    "        # calculate the next sample point\n",
    "        acquisition = entropy(y_mean, axis=1)\n",
    "        next_sample = np.argmax(acquisition)\n",
    "        measured = np.append(measured, next_sample)\n",
    "        \n",
    "        draw_background_plot(tax)\n",
    "\n",
    "        if not experiment_lock.is_set():\n",
    "            logging.info('Experiment thread pausing')\n",
    "\n",
    "            experiment_lock.wait()\n",
    "\n",
    "            logging.info('Experiment thread continuing')\n",
    "\n",
    "            if len(points) < 2:\n",
    "                raise ValueError('User didn\\'t add enough points.')\n",
    "            elif len(points) == 2:\n",
    "                # user drew a line\n",
    "                x1, y1 = points[0]\n",
    "                x2, y2 = points[1]\n",
    "\n",
    "                # calculate the distance between each point the line\n",
    "                d = [(x-x1)*(y2-y1)-(y-y1)*(x2-x1) for (x, y) in cartesian]\n",
    "\n",
    "                user_labels = np.sign(d)\n",
    "            else:\n",
    "                # user draw a polygon\n",
    "                polygon = path.Path(points)\n",
    "\n",
    "                user_labels = polygon.contains_points(cartesian)"
   ]
  },
  {
   "cell_type": "markdown",
   "metadata": {},
   "source": [
    "## Data Analysis Utilities"
   ]
  },
  {
   "cell_type": "code",
   "execution_count": 61,
   "metadata": {},
   "outputs": [],
   "source": [
    "from sklearn.metrics import fowlkes_mallows_score"
   ]
  },
  {
   "cell_type": "markdown",
   "metadata": {},
   "source": [
    "# Putting It Together"
   ]
  },
  {
   "cell_type": "code",
   "execution_count": 62,
   "metadata": {},
   "outputs": [],
   "source": [
    "time_string = datetime.datetime.now().strftime('%Y-%m-%d-%H-%M')\n",
    "\n",
    "logging.basicConfig(filename=f'logs/hitl_{time_string}.log',\n",
    "                    format='%(levelname)-5s [%(asctime)s]: %(message)s',\n",
    "                    level=logging.INFO)"
   ]
  },
  {
   "cell_type": "code",
   "execution_count": 63,
   "metadata": {},
   "outputs": [],
   "source": [
    "# begin the experiment in a new thread\n",
    "experiment_thread = threading.Thread(target=main,\n",
    "                                     name='experiment')\n",
    "experiment_thread.start()"
   ]
  },
  {
   "cell_type": "code",
   "execution_count": 64,
   "metadata": {},
   "outputs": [
    {
     "data": {
      "application/vnd.jupyter.widget-view+json": {
       "model_id": "1e633232031742298b09db82cf154969",
       "version_major": 2,
       "version_minor": 0
      },
      "text/plain": [
       "VBox(children=(Canvas(toolbar=Toolbar(toolitems=[('Home', 'Reset original view', 'home', 'home'), ('Back', 'Ba…"
      ]
     },
     "metadata": {},
     "output_type": "display_data"
    }
   ],
   "source": [
    "# start the gui\n",
    "gui"
   ]
  },
  {
   "cell_type": "code",
   "execution_count": 32,
   "metadata": {},
   "outputs": [
    {
     "name": "stdout",
     "output_type": "stream",
     "text": [
      "dead\n"
     ]
    }
   ],
   "source": [
    "logging.debug('Checking if experiment thread is alive...')\n",
    "\n",
    "result = 'alive' if experiment_thread.is_alive() else 'dead'\n",
    "\n",
    "logging.debug(f'Experiment thread is {result}')\n",
    "\n",
    "print(result)"
   ]
  },
  {
   "cell_type": "markdown",
   "metadata": {},
   "source": [
    "# Data Analysis"
   ]
  },
  {
   "cell_type": "code",
   "execution_count": null,
   "metadata": {},
   "outputs": [],
   "source": [
    "# save predicted labels for later comparison\n",
    "np.savetxt('predicted_labels.txt', all_predicted_labels)"
   ]
  },
  {
   "cell_type": "code",
   "execution_count": null,
   "metadata": {},
   "outputs": [],
   "source": [
    "# load predicted labels for analysis\n",
    "all_predicted_labels = np.loadtxt('predicted_labels.txt')"
   ]
  },
  {
   "cell_type": "code",
   "execution_count": 65,
   "metadata": {},
   "outputs": [],
   "source": [
    "all_predicted_labels = np.array(all_predicted_labels)"
   ]
  },
  {
   "cell_type": "code",
   "execution_count": 66,
   "metadata": {},
   "outputs": [],
   "source": [
    "# pick one of the 'true' labels to use for comparison\n",
    "true_labels_set = true_labels[0][0].flatten()"
   ]
  },
  {
   "cell_type": "code",
   "execution_count": 67,
   "metadata": {},
   "outputs": [],
   "source": [
    "num_experiments = len(all_predicted_labels)\n",
    "\n",
    "scores = np.zeros(num_experiments)\n",
    "\n",
    "for i in range(num_experiments):\n",
    "    scores[i] = fowlkes_mallows_score(true_labels_set, all_predicted_labels[i])\n"
   ]
  },
  {
   "cell_type": "code",
   "execution_count": 68,
   "metadata": {},
   "outputs": [
    {
     "data": {
      "application/vnd.jupyter.widget-view+json": {
       "model_id": "f8f015b28f9c449db78bcfb59b07c6fe",
       "version_major": 2,
       "version_minor": 0
      },
      "image/png": "[encoded data removed]",
      "text/html": [
       "\n",
       "            <div style=\"display: inline-block;\">\n",
       "                <div class=\"jupyter-widgets widget-label\" style=\"text-align: center;\">\n",
       "                    Figure\n",
       "                </div>\n",
       "                <img src='data:image/png;base64,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' width=640.0/>\n",
       "            </div>\n",
       "        "
      ],
      "text/plain": [
       "Canvas(toolbar=Toolbar(toolitems=[('Home', 'Reset original view', 'home', 'home'), ('Back', 'Back to previous …"
      ]
     },
     "metadata": {},
     "output_type": "display_data"
    }
   ],
   "source": [
    "fig, ax = plt.subplots()\n",
    "ax.plot(scores, '.')\n",
    "ax.set_ylim([0, 1])\n",
    "plt.show()"
   ]
  }
 ],
 "metadata": {
  "interpreter": {
   "hash": "d782e3369a9c649e580e37cdd6febd5b59d5ba3ca94b62266a945741e1c35eee"
  },
  "kernelspec": {
   "display_name": "Python 3.9.13 ('hitl')",
   "language": "python",
   "name": "python3"
  },
  "language_info": {
   "codemirror_mode": {
    "name": "ipython",
    "version": 3
   },
   "file_extension": ".py",
   "mimetype": "text/x-python",
   "name": "python",
   "nbconvert_exporter": "python",
   "pygments_lexer": "ipython3",
   "version": "3.9.13"
  }
 },
 "nbformat": 4,
 "nbformat_minor": 2
}
