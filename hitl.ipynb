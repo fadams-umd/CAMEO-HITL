{
 "cells": [
  {
   "cell_type": "markdown",
   "metadata": {},
   "source": [
    "# Imports and Setup"
   ]
  },
  {
   "cell_type": "markdown",
   "metadata": {},
   "source": [
    "## Asynchronous Execution"
   ]
  },
  {
   "cell_type": "code",
   "execution_count": 1,
   "metadata": {},
   "outputs": [],
   "source": [
    "import threading"
   ]
  },
  {
   "cell_type": "code",
   "execution_count": 2,
   "metadata": {},
   "outputs": [],
   "source": [
    "# multithreading lock to pause experiment loop during user feedback collection\n",
    "experiment_lock = threading.Event()\n",
    "experiment_lock.set()"
   ]
  },
  {
   "cell_type": "code",
   "execution_count": 3,
   "metadata": {},
   "outputs": [],
   "source": [
    "# multithreading lock to terminate the experiment thread prematurely\n",
    "quit_lock = threading.Event()"
   ]
  },
  {
   "cell_type": "markdown",
   "metadata": {},
   "source": [
    "## Logging"
   ]
  },
  {
   "cell_type": "code",
   "execution_count": 4,
   "metadata": {},
   "outputs": [],
   "source": [
    "import logging\n",
    "from traceback import format_exception\n",
    "import datetime"
   ]
  },
  {
   "cell_type": "code",
   "execution_count": 5,
   "metadata": {},
   "outputs": [],
   "source": [
    "time_string = datetime.datetime.now().strftime('%Y-%m-%d-%H-%M')\n",
    "\n",
    "logging.basicConfig(filename=f'logs/hitl_{time_string}.log',\n",
    "                    format='%(levelname)-8s [%(asctime)s]: %(message)s',\n",
    "                    level=logging.INFO)"
   ]
  },
  {
   "cell_type": "code",
   "execution_count": 6,
   "metadata": {},
   "outputs": [],
   "source": [
    "def my_excepthook(args):\n",
    "    '''\n",
    "    Override the function threading.excepthook(), which handles uncaught \n",
    "    exceptions from threads, with a version that prints the thread information \n",
    "    to the log instead of stderr (because that behavior is a little weird in \n",
    "    notebooks).\n",
    "\n",
    "    Parameters\n",
    "    ----------\n",
    "    args: a structure defined in the threading.excepthook documentation\n",
    "    '''\n",
    "\n",
    "    string = ''.join(format_exception(etype=args.exc_type,\n",
    "                                      value=args.exc_value,\n",
    "                                      tb=args.exc_traceback))\n",
    "\n",
    "    logging.critical(string)\n",
    "\n",
    "\n",
    "threading.excepthook = my_excepthook\n"
   ]
  },
  {
   "cell_type": "markdown",
   "metadata": {},
   "source": [
    "## Graphical User Interface"
   ]
  },
  {
   "cell_type": "code",
   "execution_count": 7,
   "metadata": {},
   "outputs": [
    {
     "data": {
      "text/plain": [
       "<matplotlib.pyplot._IoffContext at 0x19d1d0d0b80>"
      ]
     },
     "execution_count": 7,
     "metadata": {},
     "output_type": "execute_result"
    }
   ],
   "source": [
    "import ipywidgets as ipw\n",
    "import matplotlib.pyplot as plt\n",
    "from matplotlib import path\n",
    "from matplotlib.colors import Normalize\n",
    "import ternary\n",
    "\n",
    "# enable ipympl\n",
    "%matplotlib widget\n",
    "\n",
    "# turn on interactive mode so that plots only appear where we want it to\n",
    "plt.ioff()"
   ]
  },
  {
   "cell_type": "code",
   "execution_count": 8,
   "metadata": {},
   "outputs": [],
   "source": [
    "# create the gui elements\n",
    "fig, tax = ternary.figure(scale=0.6)\n",
    "\n",
    "pause_button = ipw.Button(description='Pause')\n",
    "undo_button = ipw.Button(description='Undo Point')\n",
    "continue_button = ipw.Button(description='Continue')\n",
    "quit_button = ipw.Button(description='Quit')"
   ]
  },
  {
   "cell_type": "code",
   "execution_count": 9,
   "metadata": {},
   "outputs": [],
   "source": [
    "# assemble the gui elements\n",
    "buttons = ipw.HBox([pause_button, undo_button, continue_button, quit_button])\n",
    "gui = ipw.VBox([fig.canvas, buttons])"
   ]
  },
  {
   "cell_type": "code",
   "execution_count": 10,
   "metadata": {},
   "outputs": [],
   "source": [
    "# store a list of points where the user has clicked\n",
    "points = []"
   ]
  },
  {
   "cell_type": "markdown",
   "metadata": {},
   "source": [
    "### Plot Callbacks"
   ]
  },
  {
   "cell_type": "code",
   "execution_count": 11,
   "metadata": {},
   "outputs": [],
   "source": [
    "def draw_background_plot(tax):\n",
    "    '''\n",
    "    Plot the data from the current experiment loop.\n",
    "\n",
    "    Parameters\n",
    "    ----------\n",
    "    tax: the ternary axes on which to plot the data\n",
    "    '''\n",
    "\n",
    "    # empty the ternary plot\n",
    "    tax.get_axes().clear()\n",
    "    tax.set_background_color('white')\n",
    "\n",
    "    # plot decoration\n",
    "    tax.right_corner_label(\"$Fe_{0.4}Ga_{0.6}$\", fontsize=20)\n",
    "    tax.top_corner_label(\"$Fe_{0.4}Pd_{0.6}$\", fontsize=20)\n",
    "    tax.left_corner_label(\"$Fe$\", fontsize=20)\n",
    "\n",
    "    tax.get_axes().axis('off')\n",
    "    tax.clear_matplotlib_ticks()\n",
    "\n",
    "    tax.boundary()\n",
    "\n",
    "    # get all the point colors in advance because the \"edgecolors\" parameter \n",
    "    # doesn't accept a list of values like the parameters \"c\" does\n",
    "    point_colors = plt.cm.get_cmap()(Normalize()(all_predicted_labels[-1]))\n",
    "\n",
    "    # plot all points as empty circles\n",
    "    tax.get_axes().scatter(cartesian[:, 0],\n",
    "                           cartesian[:, 1], \n",
    "                           edgecolors=point_colors,\n",
    "                           facecolors='none',\n",
    "                           marker='o')\n",
    "\n",
    "    # fill measured points\n",
    "    tax.get_axes().scatter(cartesian[measured[:-1], 0],\n",
    "                           cartesian[measured[:-1], 1], \n",
    "                           c=point_colors[measured[:-1]],\n",
    "                           marker='o')\n",
    "\n",
    "    # plot next point\n",
    "    tax.get_axes().scatter(cartesian[measured[-1], 0],\n",
    "                           cartesian[measured[-1], 1], \n",
    "                           marker='x', color='m')\n",
    "\n",
    "    logging.info('Background plot drawn')\n",
    "\n",
    "    plt.draw()\n"
   ]
  },
  {
   "cell_type": "code",
   "execution_count": 12,
   "metadata": {},
   "outputs": [],
   "source": [
    "def draw_user_points(tax):\n",
    "    '''\n",
    "    Draw the points where the user has clicked.\n",
    "\n",
    "    Parameters\n",
    "    ----------\n",
    "    tax: the ternary axes on which to draw the points\n",
    "    '''\n",
    "\n",
    "    # create separate x and y coordinate lists for every point in points\n",
    "    x, y = zip(*points)\n",
    "\n",
    "    tax.get_axes().plot(x, y, 'k*-')\n",
    "\n",
    "    logging.info('User points drawn')\n",
    "\n",
    "    plt.draw()"
   ]
  },
  {
   "cell_type": "code",
   "execution_count": 13,
   "metadata": {},
   "outputs": [],
   "source": [
    "def plot_callback(event):\n",
    "    '''\n",
    "    Store the point where the user clicked and add it to the plot.\n",
    "\n",
    "    Parameters\n",
    "    ----------\n",
    "    event: a structure which has information about the mouse event\n",
    "    '''\n",
    "\n",
    "    logging.debug('User clicked on plot')\n",
    "    \n",
    "    if not experiment_lock.is_set():\n",
    "        # add the mouse position (in data coordinates) to the points list\n",
    "        points.append([event.xdata, event.ydata])\n",
    "\n",
    "        logging.info('Point added')\n",
    "\n",
    "        draw_user_points(tax)\n",
    "\n",
    "cid = fig.canvas.mpl_connect('button_press_event', plot_callback)"
   ]
  },
  {
   "cell_type": "markdown",
   "metadata": {},
   "source": [
    "### Button Callbacks"
   ]
  },
  {
   "cell_type": "code",
   "execution_count": 14,
   "metadata": {},
   "outputs": [],
   "source": [
    "def pause_callback(button):\n",
    "    '''\n",
    "    Set the internal flag of the experiment loop threading Event object to false.\n",
    "\n",
    "    Parameters\n",
    "    ----------\n",
    "    button: the instance of button that was clicked\n",
    "    '''\n",
    "\n",
    "    logging.debug('User clicked pause button')\n",
    "    \n",
    "    if experiment_lock.is_set():\n",
    "        experiment_lock.clear()\n",
    "\n",
    "        logging.info('Experiment lock cleared')\n",
    "\n",
    "pause_button.on_click(pause_callback)"
   ]
  },
  {
   "cell_type": "code",
   "execution_count": 15,
   "metadata": {},
   "outputs": [],
   "source": [
    "def undo_callback(button):\n",
    "    '''\n",
    "    Removes the last point where the user clicked and updates the plot.\n",
    "\n",
    "    Parameters\n",
    "    ----------\n",
    "    button: the instance of button that was clicked\n",
    "    '''\n",
    "\n",
    "    logging.debug('User clicked undo button')\n",
    "\n",
    "    removed = points.pop()\n",
    "\n",
    "    # empty the ternary plot\n",
    "    tax.get_axes().clear()\n",
    "    tax.set_background_color()\n",
    "\n",
    "    # re-draw without the deleted point\n",
    "    draw_background_plot(tax)\n",
    "    draw_user_points(tax)\n",
    "\n",
    "    logging.info('Removed point')\n",
    "\n",
    "undo_button.on_click(undo_callback)"
   ]
  },
  {
   "cell_type": "code",
   "execution_count": 16,
   "metadata": {},
   "outputs": [],
   "source": [
    "def continue_callback(button):\n",
    "    '''\n",
    "    Set the internal flag of the experiment loop threading Event object to true.\n",
    "\n",
    "    Parameters\n",
    "    ----------\n",
    "    button: the instance of button that was clicked\n",
    "    '''\n",
    "\n",
    "    logging.debug('User clicked continue button')\n",
    "    \n",
    "    if not experiment_lock.is_set():\n",
    "        experiment_lock.set()\n",
    "\n",
    "        logging.info('Experiment lock set')\n",
    "\n",
    "continue_button.on_click(continue_callback)"
   ]
  },
  {
   "cell_type": "code",
   "execution_count": 17,
   "metadata": {},
   "outputs": [],
   "source": [
    "def quit_callback(button):\n",
    "    '''\n",
    "    Set the internal flag of the quit threading Event object to true, causing the experiment thread to terminate on the next time through the loop.\n",
    "\n",
    "    Parameters\n",
    "    ----------\n",
    "    button: the instance of button that was clicked\n",
    "    '''\n",
    "\n",
    "    logging.debug('User clicked quit button')\n",
    "\n",
    "    quit_lock.set()\n",
    "\n",
    "    logging.info('Quit lock set')\n",
    "\n",
    "quit_button.on_click(quit_callback)"
   ]
  },
  {
   "cell_type": "markdown",
   "metadata": {},
   "source": [
    "## CAMEO"
   ]
  },
  {
   "cell_type": "code",
   "execution_count": 18,
   "metadata": {},
   "outputs": [],
   "source": [
    "# get the simulation test data\n",
    "# !wget -O CAMEO2_support_files_220104a.zip https://drive.google.com/u/0/uc?id=1UnKijzN_6shj-T2r37Jm2V6PSqTJMO-6&export=download\n",
    "# !unzip -o CAMEO2_support_files_220104a.zip"
   ]
  },
  {
   "cell_type": "code",
   "execution_count": 19,
   "metadata": {},
   "outputs": [],
   "source": [
    "import numpy as np\n",
    "import tensorflow as tf\n",
    "import gpflow\n",
    "from sklearn.manifold import spectral_embedding\n",
    "from sklearn.mixture import GaussianMixture\n",
    "from scipy.spatial.distance import pdist, squareform\n",
    "from ternary.helpers import project_sequence\n",
    "from scipy.io import loadmat\n",
    "from scipy.stats import entropy"
   ]
  },
  {
   "cell_type": "code",
   "execution_count": 20,
   "metadata": {},
   "outputs": [],
   "source": [
    "def phase_mapping(X, num_clusters, random_state):\n",
    "    '''\n",
    "    Cluster data using spectral clustering and a Gaussian mixture model\n",
    "\n",
    "    Parameters\n",
    "    ----------\n",
    "    X: m x n matrix - m rows of n dimensional data\n",
    "    num_clusters: number of groups to cluster data into\n",
    "\n",
    "    Returns\n",
    "    -------\n",
    "    cl: clustering labels for each sample\n",
    "    cluster_prob: the probability for each sample to belong to each cluster\n",
    "    '''\n",
    "\n",
    "    K = similarity_matrix(X, 'cosine')\n",
    "\n",
    "    if X.shape[0] <= num_clusters:\n",
    "        # fewer data points than clusters, each point gets its own cluster\n",
    "        cluster_prob = np.eye(X.shape[0])\n",
    "    else:\n",
    "        x_se = spectral_embedding(adjacency=K,\n",
    "                                  n_components=num_clusters,\n",
    "                                  random_state=random_state)\n",
    "        model = GaussianMixture(n_components=num_clusters,\n",
    "                                covariance_type='diag',\n",
    "                                n_init=10,\n",
    "                                random_state=random_state).fit(x_se)\n",
    "\n",
    "        cluster_prob = model.predict_proba(x_se)\n",
    "\n",
    "    cl = np.argmax(cluster_prob, axis=1).flatten()\n",
    "    return cl, cluster_prob\n"
   ]
  },
  {
   "cell_type": "code",
   "execution_count": 21,
   "metadata": {},
   "outputs": [],
   "source": [
    "def similarity_matrix(X, metric, sigma=1):\n",
    "    '''\n",
    "    Calculate and return the similarity matrix used in spectral clustering.\n",
    "\n",
    "    Parameters\n",
    "    ----------\n",
    "    X: m x n matrix - m rows of n dimensional data\n",
    "    metric: distance metric passed to scipy.spatial.distance.pdist()\n",
    "    sigma: scaling factor for Gaussian radial basis function (default=1)\n",
    "    '''\n",
    "\n",
    "    distance = squareform(pdist(X, metric))\n",
    "    W = np.exp(-(distance**2) / (2*sigma**2))\n",
    "    return W"
   ]
  },
  {
   "cell_type": "code",
   "execution_count": 22,
   "metadata": {},
   "outputs": [],
   "source": [
    "def gpc_phasemapping(xy_curr, labels_curr, xy_full, num_clusters,\n",
    "                     weight_prior=None):\n",
    "    '''\n",
    "    Take clustering labels for the samples and then extrapolate them throughout\n",
    "    composition space, segmenting the XY space into 'phase regions'.\n",
    "\n",
    "    Parameters\n",
    "    ----------\n",
    "    xy_curr: cartesian coordinates of measured data points\n",
    "    labels_curr: cluster labels for those data\n",
    "    xy_full: cartesian coordinates of measured and new, query data points\n",
    "    num_clusters: the number of clusters we're assuming exist\n",
    "    weight_prior: variance coefficient factor of (optional) prior kernel\n",
    "\n",
    "    Returns\n",
    "    -------\n",
    "    y_mean: data point label predictions\n",
    "    y_variance: data point label variances\n",
    "    f_mean: data point latent GP predictions\n",
    "    f_variance: data point latent GP variances\n",
    "    '''\n",
    "\n",
    "    data = (xy_curr, labels_curr)\n",
    "\n",
    "    composition_kernel = gpflow.kernels.Matern32(active_dims=[0, 1],\n",
    "                                                 lengthscales=[0.2, 0.2],\n",
    "                                                 variance=1)\n",
    "\n",
    "    gpflow.utilities.set_trainable(composition_kernel.lengthscales, False)\n",
    "    gpflow.utilities.set_trainable(composition_kernel.variance, False)\n",
    "\n",
    "    if weight_prior is None:\n",
    "        kernel = composition_kernel\n",
    "    else:\n",
    "        if len(points) == 2:\n",
    "            # user input was a boundary\n",
    "            prior_kernel = gpflow.kernels.SquaredExponential(\n",
    "                active_dims=[2],\n",
    "                lengthscales=0.001,\n",
    "                variance=weight_prior)\n",
    "\n",
    "            # fix all the kernel hyperparameters\n",
    "            gpflow.utilities.set_trainable(prior_kernel.lengthscales, False)\n",
    "            gpflow.utilities.set_trainable(prior_kernel.variance, False)\n",
    "        else:\n",
    "            # user input was a region\n",
    "            prior_kernel = gpflow.kernels.Linear(active_dims=[2],\n",
    "                                                 variance=weight_prior)\n",
    "\n",
    "            gpflow.utilities.set_trainable(prior_kernel.variance, False)\n",
    "\n",
    "        kernel = composition_kernel + prior_kernel\n",
    "\n",
    "    invlink = gpflow.likelihoods.RobustMax(num_clusters)\n",
    "\n",
    "    gpflow.utilities.set_trainable(invlink.epsilon, True)\n",
    "\n",
    "    likelihood = gpflow.likelihoods.MultiClass(num_clusters, invlink=invlink)\n",
    "\n",
    "    model = gpflow.models.VGP(data=data,\n",
    "                              kernel=kernel,\n",
    "                              likelihood=likelihood,\n",
    "                              num_latent_gps=num_clusters)\n",
    "\n",
    "    # hyperparameter optimization\n",
    "    opt = gpflow.optimizers.Scipy()\n",
    "    opt_result = opt.minimize(model.training_loss,\n",
    "                              model.trainable_variables,\n",
    "                              options={'maxiter': 1000, 'iprint': 100})\n",
    "\n",
    "    # Poisson process for the full XY coordinates\n",
    "    y = model.predict_y(xy_full)\n",
    "    y_mean = y[0].numpy()\n",
    "    y_variance = y[1].numpy()\n",
    "\n",
    "    # (non-squeezed) probabilistic function for class labels\n",
    "    f = model.predict_f(xy_full)\n",
    "    f_mean = f[0].numpy()\n",
    "    f_variance = f[1].numpy()\n",
    "\n",
    "    return y_mean, y_variance, f_mean, f_variance\n"
   ]
  },
  {
   "cell_type": "markdown",
   "metadata": {},
   "source": [
    "## Experiment Loop"
   ]
  },
  {
   "cell_type": "code",
   "execution_count": 23,
   "metadata": {},
   "outputs": [],
   "source": [
    "data = loadmat('FeGaPd_full_data_220104a.mat')\n",
    "\n",
    "# composition data in cartesian coordinates\n",
    "composition = data['C']\n",
    "idx = [1, 2, 0]\n",
    "cartesian = np.array(list(zip(*project_sequence(composition[:, idx]))))\n",
    "\n",
    "# x ray diffraction data\n",
    "xrd = data['X'][:, 631:1181]\n",
    "\n",
    "# true phase mapping labels\n",
    "true_labels = data['labels_col']\n",
    "\n",
    "# list of all the predicted labels to compare to the true labels\n",
    "all_predicted_labels = []\n",
    "\n",
    "measured = [163]\n",
    "initial_num_measurements = len(measured)\n",
    "num_clusters = 5\n",
    "num_total = cartesian.shape[0]"
   ]
  },
  {
   "cell_type": "code",
   "execution_count": 24,
   "metadata": {},
   "outputs": [],
   "source": [
    "# seed the numpy random number generation for reproducability\n",
    "seed = 2\n",
    "rng = np.random.RandomState(seed)\n",
    "tf.random.set_seed(seed)"
   ]
  },
  {
   "cell_type": "code",
   "execution_count": 25,
   "metadata": {},
   "outputs": [],
   "source": [
    "# initialize these variables so we can access them in the main thread\n",
    "labels = []\n",
    "y_mean = []\n",
    "acquisition = []\n",
    "next_sample = None"
   ]
  },
  {
   "cell_type": "code",
   "execution_count": 26,
   "metadata": {},
   "outputs": [],
   "source": [
    "def main():\n",
    "    '''\n",
    "    Run the calculation loop while checking if the user is waiting to\n",
    "    provide input. If so, pause the loop, collect input, then resume.\n",
    "    '''\n",
    "\n",
    "    global all_predict_labels\n",
    "\n",
    "    global measured\n",
    "    global labels\n",
    "    global y_mean\n",
    "    global acquisition\n",
    "    global next_sample\n",
    "\n",
    "    global points\n",
    "\n",
    "    user_labels = None\n",
    "\n",
    "    for i in range(num_total - initial_num_measurements - 1):\n",
    "        if quit_lock.is_set():\n",
    "            logging.info(f'Experiment loop quit on iteration {i+1}')\n",
    "            break\n",
    "\n",
    "        logging.info(f'Begin experiment loop iteration {i+1}')\n",
    "\n",
    "        labels, _ = phase_mapping(xrd[measured, :], num_clusters, rng)\n",
    "\n",
    "        if user_labels is None:\n",
    "            # user didn't provide input last iteration\n",
    "            y_mean, _, _, _ = gpc_phasemapping(cartesian[measured, :],\n",
    "                                               labels,\n",
    "                                               cartesian,\n",
    "                                               num_clusters)\n",
    "\n",
    "            logging.debug('GPC phasemapping WITHOUT user input complete')\n",
    "        else:\n",
    "            # use the user labels as input\n",
    "            data_with_prior = np.column_stack((cartesian, user_labels))\n",
    "\n",
    "            y_mean, _, _, _ = gpc_phasemapping(data_with_prior[measured, :],\n",
    "                                               labels,\n",
    "                                               data_with_prior,\n",
    "                                               num_clusters,\n",
    "                                               weight_prior=1)\n",
    "\n",
    "            logging.debug('GPC phasemapping WITH user input complete')\n",
    "\n",
    "            # reset the user labels for next iteration\n",
    "            user_labels = None\n",
    "\n",
    "            # clear user points\n",
    "            points = []\n",
    "        \n",
    "        # new row of predicted labels\n",
    "        new_label_row = np.argmax(y_mean, 1)\n",
    "        all_predicted_labels.append(new_label_row)\n",
    "\n",
    "        # calculate the next sample point\n",
    "        acquisition = entropy(y_mean, axis=1)\n",
    "        acquisition[measured] = np.nan\n",
    "        next_sample = np.nanargmax(acquisition)\n",
    "        measured = np.append(measured, next_sample)\n",
    "        \n",
    "        draw_background_plot(tax)\n",
    "\n",
    "        if not experiment_lock.is_set():\n",
    "            logging.info('Experiment thread pausing')\n",
    "\n",
    "            experiment_lock.wait()\n",
    "\n",
    "            logging.info('Experiment thread continuing')\n",
    "\n",
    "            if len(points) < 2:\n",
    "                raise ValueError('User didn\\'t add enough points.')\n",
    "            elif len(points) == 2:\n",
    "                # user drew a line\n",
    "                x1, y1 = points[0]\n",
    "                x2, y2 = points[1]\n",
    "\n",
    "                # calculate the distance between each point the line\n",
    "                d = [(x-x1)*(y2-y1)-(y-y1)*(x2-x1) for (x, y) in cartesian]\n",
    "\n",
    "                user_labels = [1 if distance > 0 else 0 for distance in d]\n",
    "            else:\n",
    "                # user draw a polygon\n",
    "                polygon = path.Path(points)\n",
    "\n",
    "                user_labels = polygon.contains_points(cartesian)"
   ]
  },
  {
   "cell_type": "markdown",
   "metadata": {},
   "source": [
    "## Data Analysis Utilities"
   ]
  },
  {
   "cell_type": "code",
   "execution_count": 27,
   "metadata": {},
   "outputs": [],
   "source": [
    "from sklearn.metrics import fowlkes_mallows_score"
   ]
  },
  {
   "cell_type": "markdown",
   "metadata": {},
   "source": [
    "# Putting It Together"
   ]
  },
  {
   "cell_type": "code",
   "execution_count": 28,
   "metadata": {},
   "outputs": [],
   "source": [
    "# begin the experiment in a new thread\n",
    "experiment_thread = threading.Thread(target=main,\n",
    "                                     name='experiment')\n",
    "experiment_thread.start()"
   ]
  },
  {
   "cell_type": "code",
   "execution_count": 29,
   "metadata": {},
   "outputs": [
    {
     "data": {
      "application/vnd.jupyter.widget-view+json": {
       "model_id": "ce6257bfb77f46f4b1eb62c90e145c85",
       "version_major": 2,
       "version_minor": 0
      },
      "text/plain": [
       "VBox(children=(Canvas(toolbar=Toolbar(toolitems=[('Home', 'Reset original view', 'home', 'home'), ('Back', 'Ba…"
      ]
     },
     "metadata": {},
     "output_type": "display_data"
    }
   ],
   "source": [
    "# start the gui\n",
    "gui"
   ]
  },
  {
   "cell_type": "code",
   "execution_count": 30,
   "metadata": {},
   "outputs": [
    {
     "name": "stdout",
     "output_type": "stream",
     "text": [
      "dead\n"
     ]
    }
   ],
   "source": [
    "logging.debug('Checking if experiment thread is alive...')\n",
    "\n",
    "result = 'alive' if experiment_thread.is_alive() else 'dead'\n",
    "\n",
    "logging.debug(f'Experiment thread is {result}')\n",
    "\n",
    "print(result)"
   ]
  },
  {
   "cell_type": "markdown",
   "metadata": {},
   "source": [
    "# Data Analysis"
   ]
  },
  {
   "cell_type": "code",
   "execution_count": 30,
   "metadata": {},
   "outputs": [],
   "source": [
    "# save predicted labels for later comparison\n",
    "header = ['sample order', ' '.join([str(m) for m in measured]), 'labels']\n",
    "np.savetxt(fname=f'labels/predicted_labels_{time_string}.txt',\n",
    "           X=all_predicted_labels, \n",
    "           fmt='%d', \n",
    "           header='\\n'.join(header),\n",
    "           comments='')"
   ]
  },
  {
   "cell_type": "code",
   "execution_count": 31,
   "metadata": {},
   "outputs": [],
   "source": [
    "all_predicted_labels = np.loadtxt(fname='autonomous_predicted_labels.txt',\n",
    "                                  skiprows=3)\n"
   ]
  },
  {
   "cell_type": "code",
   "execution_count": 32,
   "metadata": {},
   "outputs": [],
   "source": [
    "# pick one of the 'true' labels to use for comparison\n",
    "true_labels_set = true_labels[0][1].flatten()"
   ]
  },
  {
   "cell_type": "code",
   "execution_count": 33,
   "metadata": {},
   "outputs": [],
   "source": [
    "num_experiments = len(all_predicted_labels)\n",
    "\n",
    "scores = np.zeros(num_experiments)\n",
    "\n",
    "for i in range(num_experiments):\n",
    "    scores[i] = fowlkes_mallows_score(true_labels_set, all_predicted_labels[i])\n"
   ]
  },
  {
   "cell_type": "code",
   "execution_count": 34,
   "metadata": {},
   "outputs": [
    {
     "data": {
      "application/vnd.jupyter.widget-view+json": {
       "model_id": "6c26876dd84a4229b4b504e709ca0f08",
       "version_major": 2,
       "version_minor": 0
      },
      "image/png": "[encoded data removed]",
      "text/html": [
       "\n",
       "            <div style=\"display: inline-block;\">\n",
       "                <div class=\"jupyter-widgets widget-label\" style=\"text-align: center;\">\n",
       "                    Figure\n",
       "                </div>\n",
       "                <img src='data:image/png;base64,iVBORw0KGgoAAAANSUhEUgAAAoAAAAHgCAYAAAA10dzkAAAAOXRFWHRTb2Z0d2FyZQBNYXRwbG90bGliIHZlcnNpb24zLjUuMiwgaHR0cHM6Ly9tYXRwbG90bGliLm9yZy8qNh9FAAAACXBIWXMAAA9hAAAPYQGoP6dpAAA/IElEQVR4nO3de3RU9b3//9ckQIhoIhcNiUCItAhLlAPBS0Bo8RyjeGkRf8tYvxW11tMcvBSpPYCub62urgY9p64eq2hVxON3WcnyiP5si9qchSIp2i/SoFix9cfFIJ2UE7QThJhIsn9/4Ixz2XvuM3tmf56PtViL7OyZ+czOwH7l/bn5LMuyBAAAAGOUuN0AAAAA5BcBEAAAwDAEQAAAAMMQAAEAAAxDAAQAADAMARAAAMAwBEAAAADDEAABAAAMQwAEAAAwDAEQAADAMARAAAAAwxAAAQAADEMABAAAMAwBEAAAwDAEQAAAAMMQAAEAAAxDAAQAADAMARAAAMAwBEAAAADDEAABAAAMQwAEAAAwDAEQAADAMARAAAAAwxAAAQAADEMABAAAMAwBEAAAwDAEQAAAAMMQAAEAAAxDAAQAADAMARAAAMAwBEAAAADDEAABAAAMQwAEAAAwDAEQAADAMARAAAAAwxAAAQAADEMABAAAMAwBEAAAwDAEQAAAAMMQAAEAAAxDAAQAADAMARAAAMAwBEAAAADDEAABAAAMQwAEAAAwDAEQAADAMARAAAAAwxAAAQAADEMABAAAMAwBEAAAwDAEQAAAAMMQAAEAAAzjmQD4+uuv67LLLlNNTY18Pp9eeOGFhI/ZtGmT6uvrNXz4cJ166ql65JFHct9QAAAAl3kmAB4+fFjTp0/Xgw8+mNT5e/bs0cUXX6y5c+eqo6NDd9xxh2699VY999xzOW4pAACAu3yWZVluNyLbfD6fnn/+eS1cuNDxnOXLl+vFF1/Uzp07Q8eam5v19ttv64033shDKwEAANzhmQpgqt544w01NjZGHLvwwgv11ltv6fPPP3epVQAAALk3xO0GuKWrq0tVVVURx6qqqnT06FF1d3eruro65jF9fX3q6+sLfT04OKiPP/5Yo0ePls/ny3mbAQBA5izL0qFDh1RTU6OSEjNrYcYGQEkxoS3YG+4U5lpaWnT33XfnvF0AACD39u3bp3HjxrndDFcYGwDHjh2rrq6uiGMHDhzQkCFDNHr0aNvHrFy5UsuWLQt9HQgENGHCBO3bt08VFRU5bS8AAMiOnp4ejR8/XieccILbTXGNsQGwoaFBv/71ryOO/e53v9OsWbM0dOhQ28eUlZWprKws5nhFRQUBEACAImPy8C3PdHx/+umn2r59u7Zv3y7p2DIv27dvV2dnp6Rj1bvFixeHzm9ubtaHH36oZcuWaefOnXriiSe0Zs0a3X777W40HwAAIG88UwF86623NH/+/NDXwa7aa6+9Vk8++aT8fn8oDEpSXV2dNmzYoNtuu00PPfSQampq9MADD+iKK67Ie9sBAADyyZPrAOZLT0+PKisrFQgE6AIGAKBIcP/2UBcwAAAAkkMABAAAMAwBEAAAZI0/0Kstu7rlD/S63RTE4ZlJIAAAwF2tWzu1cv0ODVpSiU9qWXSG5k0+SXu6D6tuzAhVV5a73UR8gQAIAAAy5g/0hsKfJA1a0orndsjnU0QgbDprgrsNhSS6gAEAQBbs6T4cCn9BlhQRCO9Y/y5dwwWCCiAAAFnkD/R6osvTH+jVW3s/ls/nU33tSFVXlke8N0mh748fWa6Dn/apxKeYEBhuwLK0t/tIUV8XryAAAgCQJXZj4Iqxy7N1a6dWPLdDwSznk7Ro5il6vmO/Bq1jX9vlPJ8kn0+yrGNdjFbUeaU+nyaOOS63jUdSCIAAgIJQyJWzYNtGDCvV4f4B2zbajYG7Y/27mjf5JEmKeG921TW71wtW2oKv3fnxkbgVObvHHO4fiHjs+JHlEX8Pvp/wx4SHP+lYiHvuj/sjvrZjSSqxpAevnqGZtSP1+l/+R3esf1cDlqVSn08/XTSt4H62piIAAkCOFHKgKTSFXDkLb1uQXRvXtu+J6f4csCytbd+rx9t3h97b5TNO0fo/7o+orq264svnCn893xfnRAcuu4pc8Dynx8QT/fhMtggblDRqRJmqK8vVdNYEzZt8kvZ2H9HEMcfx76CAsBVcBthKBkC0YOjbsT+ge196vyADTaHxB3o1Z9XGiPBU6vOpfcV81wODXduCwtvoD/RqdstG26DmSzAuTjr2Gfn9ivMlyfH1ikWh/Ozi4f7NLGAARS7fi87Ge73WrZ2as2qjrn7sD2rZ8D6zH5NkN3s0OFnAbXZtCwpv457uw7ZVs0vOqE4qzA1a0t7uI3FfL9984X/3SVfMPEWlPl/M98LRzVs86AIG4Lpku0qjz4vuNlx+0RSdMa4y5ecJPxY+xktS3NcLr+pFj/+KxuxHZ3VjRsTMHi2UyQJ2bQsKb6PdeSWSbpxXpw3v+pOqAAafK9FM2nwo9fm0fkmD9n3cK59PmvnFmMPbLzwt1J0rSdv2fiKfTxo3slxH+gfp5i0iBEAArkp27Ff0uKhvnT1e67bui6iytbz0vqTknyd4nqSY8BY+JioYLu99ObaqN2/ySaquLE9YuSmUQFOIqivL1bLojIKcLBDdtqDoNjq9h+njR8YcXzijJnIM4Befw+BzhZ/vk6QvZtWG8/mkRTNO0Qsdf405z+kx8YQ/Jrzt08ePjLke4T+XS6fHTl7Zsqs7pXGvyU54QXYxBjADjCEAMpPs2K9447CcJPs8JZKUzBgtHRvcHu2ZG8/VxDHH6a29H+v767Y7Vop+umgaYwAT8Ad6C3ayQLBtxw0riVvpcnoP0cf9gd5Q9Wymwyzg8Epb8LWjK3J250U/5kj/YMRjx40sj/h78P2EPz6d65/ORJ5kJ7yET5LJBu7fVAABuCje2K/wG1A646KSfZ5BKakpj4P6cn2zcP/nzb16+d2u0A3MF1ZF+deLTtOZ404syEBTiKKrS4Uk2bY5nRd9vLqyPKZ6luh8SQkrck5/j35s9PM4PcaO0xAKpyVwnJ4z+jHxlpZZuX5H3OdC6giAAFyT7NiveOOwnCT7PMlWAEt9PjV//VQ99OquiOMbdnSF/h69BlqublYmLC9jwnssRk5VvmR/mQuXyi92wUkyfBayh1nAAFwTHDcVnFnoNPYreJ7df1glkv7XORNiZizGe57w12u54oyIY3ZKvni+OV8Zk/A9ha+Blg3Rs47DZxrPWbVRrVs7s/I6hcSE91iMnKp8/kBv6JercInGvdo9xkn4JBlkBxVAACnLZnUm0UKxwdeaN/kk/X7l+ZGL6kr6l69P0sObdkV0H/kshXZfSPb15k0+Sdv2fqJb1nVEdPOWSHp+yWxNHz9S/kBvwkpkNid72M1yjjcRxQvS6UrM9PWoNEZyuibxqnwNk0anPJEneuJMvAkv4ZNkkB0EQAApycWODU7jpuxe645Lpmr0CcO06otFlle/titm7NCg4ncX2b1ecEzW4f6jtjM5g+fYzegMzsRMZfZqouDx9r5PtGL9jtDNcNCSVr30fsx79dryMul0JaarkHcfcUu8a5JoyEY6u35EP0ZynvCC7GIWcAaYRQRThK+Rd/nqLRnt2JDKmn92M4TXL2mIaUO0EkkPXD0j7eUjEs1GtZvRmcpNL3rm44oFU/S9r02K+H70XqxOimHXhVTka1eQQt59xC3JXJPWrZ0xvyAVY2jm/k0FECgqbnRXRYeVTCpQqVRctn34iW0laOve2OPSl4vnBtt486860q7qJJrxaTfzMpUAHD3zseWl9yWf9L15k0LfTyb8lTiMdUymDfn8HKXyevlaE9Cp0rht7ydxZ+d6WTLVV/b29Q4CIFAk3OiuSmaZhmTHvKUytitYAbN7rbMmjrTthgruWnDruo6CHCMXDEG7DnxqG2BXbXhf59aN0uH+gaRnRj5w1QxdOr0mpXbk+3OUzuvlI2Q4zSy/dV2HDvcfLcqqVqaSnZVfyMv1IHkEQKAI5HtgfJDTMg3Bm0Sy1Rl/oFe/eeevSY3tcqqABatddjsrBI/bhadCGCMXHoKcWJIWrt6iFRdNibkJ2w2OL/X5VD8xci03ux0VEq3VtvK5HRpRNkTjR5aHdl4YP7Jch/sHInZjSOfY2x/9XXf9v++FfpaDlrTC5vXsuupzHTKClcaVz+2IWOC7kH5pyLdC3pEF2UcABApcKuEp25wqAuuXNCS972e88GNXXbDr+pUiq11OFaJC3FM20R7B4SxLuu/lP2v5gim676U/R9yEJcW9MTvtqJBorbZBHesuz5dg93y4XOz0kIymsyZoRNmQmPYUwi8NbqGL1xwEQKCApRqesi3e/qbJiJ7JGs4pxDh1/UZXu5xm8hZKBSNYjfv4cH9KC1gPWJbOPOVEta+Yb7tUjdM2Y05d9eEVrXQW1M4HN3d6qK+1H1Jg8ppz2aq+Ou3xG101rg/b1o4lefKHAAgkwY3/mOJVjvIZbNKtCMSbyfq/L5mqi8+sTqnrN9nXLYQKRnQ1zm7yjGS/92kwfDgFXLv3k2hHBae12gqJWzs9FNIvDV6SzB6/QT5Ji2aeouc79rMkTx4RAIEE3ForzOmmbheeci34Wnu6D0d87STeTNZSn8+2/U7vN52JDm4OUrerxvkk2ypTMl27yUhU2bNbq23b3k8iJsy4zc2dHgrhl4ZCl8ovwcnu8RtkSXruj/tDX5s8DjOfCIBAHG5NvpCcx7PlO/xJziE4lR0DpPjVPKf3G931W+js3rsl6RdXzdDo48t03LCSmPGTmYaPeDsq2IVKu0Wvc81ns8ND+Pfc3umBma3OUv0lOJU9fp2YPA4zXwiAQBz53JUgWqF0TTmF4L/3fq57v9iNI/qmsOOjQMzzhG+pZqdQ3m+m4gXZVHYmSYU/0Kvxo46LmJwjKWGoDK98he+8MG5kuY70D2bt2MzakaH2BAOw004Pdr9UhC9Enu6sZKdxaMHv2Y1B8wd69dbej2NmKoe3x2k8m9158WZnR7+/ROPi4s34TmfISrzXSfWX4GyMNTV9HGY+EACBONyeVVoIXVNOIXjVS+9HbFMWvClI0r0vvx/zPMsvnpJw8kiu32+8cJGt8Z35DrJ21ZmGSaNDbUmmvcHz7H4+2TwW3Z7o79u9F0lJz6KOJ944tBKfdPmMyDFol884Rev/uD90fnCmcqL2xDvPbna20/PFGxcXb8Z39PtIZshKvApfOr8Ex6tI214zn7RoxilpbamI9LEVXAbYSsYMXtn6KF1220OVSBFrpwU9c+O5smTp6sf+YPu9YDBxQ6Jwke3xnaluDxd8TCrjrN7a+7G+v267J7Yzc/qcqYBmLft0LKwkak+y56X6/pLdCjH6MfE+D4m2f8tky7zwfwNS4gpwOv9m0sX9mwogkFAhVOHyLTqIRFe0/vWi03Tvy+87VkYLbVkNpwWQrbCqRLbHd6barZvKOKt4ywMV69gppzUKk9oTL08sOVex0jkv1fcXbyvEeI+J93lIVOHLpKId/W8gUQWYcZj5RQCEp+Sqi8/pPyYvrlvlFESiQ/CJxw11vCkU2li+ZMOF084kuf4ZpzLOKtHC0m6H7XTZDbegAhjJaSvERI+J93lIZpiLib8Em4AACM/IdxefW8vD5FKiIBL+H3/0BILD/QPyB3pVXVme9RtGpiEs2UHp0UuR5OtnnMo4q3gzLAshbKfLqdIkKSszleONQyv1+bRwRk3EGLSFM2oixwD6pFVf/J8Srz3xzrObne30fE7j4qK3Qox+zuj3kejzkGyFj+qc9zAGMAOMISgcyY4fytb4qEzGxeRKNipVW3Z1247fe/BbX67FF/060QPSVyyYou99bVImbyVCtkJY+FhOpzGM/zz3VN1xyVRJ+f0Zp/JaTp/1X1w9I2I2bTGJntEa/otDcKxjic+ncSPL056V7DQOLXxJnuAYtOAvNCOGlTrOVE52RnP4eU6zs8PPS3ZcnN34uuj3ker4U5MqfNy/qQDCIzLp4svW67k59ipbIcmpUnbrug4d7j8qKbKiuvyiKRFjAS1JLS+9L/mk783LPARmcx3G6Ipl9ED6EknXnzcx9HU+f8apjLNyOveSM1NbLLtQxPvsJvu5TnZWshR/ZnR1Zble/8v/JHxNu2qY3es5Vc3iVdeSHRcXb3xdOtU6KnzmIQDCE5Lt4svW+Ci3l4cJl82QFAwXK5/bEVEhC06aCK+oDlo6tg6gzfPc+9L7+sb0moIL2uE3uUSBK98/41S6zb0yJiveZ1dS1j7X2WhPsV5jwEmJ2w0AsiEYXEp9x1bFKtGX62OF+9cFp2V1rbfg67k59sopJP32Hb/8gd6Un6/prAl64OoZMccHFRuw7cKf9OW+rpkKhrBw2QphTWdNUPuK+XrmxnPVvmK+bZUn3z/j6spyNUwanfQMy2TPLVTxAn6877nRHsBrqADCM8KrIgcP9+nmX3XEnHPmKSfm5PXcrMI4VT9/8tud+umGnUl3B4ePw6qvjZ1p6DSmsvnrp+qhV3dFPFe2QlquF1VO1O1VKD9jr0pUZc13lb2QKvtArhEA4SnBG7o/0JuX/8gLYdxMdEgKl2wXVvREjhvn1mn5gim676U/O87IDF8Uu6J8aGhbuGyHNLdDWCH8jL0qUcDP93JCuf6FAygkzALOALOICptpO3j4A7367Tt+/eS3O2O+F28XDrtZpdKXkzzOHHei7YzFeLMSuWEiFfE+O258rvgsex/3bwJgRvgAFb7opRKcNk/3inSWLnFa+iWZxwJAMeL+TRcwPC7YfRdv83QvLOAclE4XVrwZ1MW6rRjseXHnGgDpIQDC86KXdgjPOV5c5iHVMXNOS79IDID3kl++vkurXnpflod2rkkF4ReIRABE0Qv+xz5iWKkO9w/E/Acfb+ssyZtVrlQnLgRD49r2vXq8fXdGkzm40RaeX27adWyB7i948RefeLy4bSOQKQIgilr4f+xB0f/BJ1okmirXMdWV5brjkqm6/ryJaQ+A50ZbePyBXq0KC39BXvzFxw6LOwP2WAgaRcUf6NWWXd3yB3pj/mMPCv4HH1wEOXpBX5+ObbQuubuAc6FKd4FhpxttOotRZ0P4Z8Vke7oPR++IKOlYQDfhFx8WdwbsUQFE0YiuLn33vDrHql50dSN6XJwUuyE7MlNI+yObXokM74Z3qoAvXzDFiM8+izsD9qgAIu/SqczYVZce37wnZpuwILv/4MMrW17YRqvQ5HLbtlQUWiUy31q3dmrOqo26+rE/aM6qjXr9L/8Ts03iygVT9L15k9xtaJ4U0raNQCGhAoi8Sncmol11aVDSP593qta074nYASMf/8HncqJDJs/t5gSMQtlFoZAqkfnmFH7bV8xX+4r5xla93d5NBihEBEDkTSYzEZ26ca4/b2Jo0sJxw0p0pH8w5//B57J7MZPnLoRuz0K40Zrc5Rcv/Jpe8WZLPyASXcDIi0QzEROJ140T7M6dPn5kzm9y8boXM510kEnXZSF1e7rdvW5yl1+hdMMDKHxUAJEXmc5E9Ad6NX7UcVq/pCEvVT4nThWW8PXz0q2+ZdJ1mexjTVmjrxAqkW4olG54AIWPAIi8yGQmol3XZsOk0TlsrTO791EihcKflP46Y5l0XSbz2ELoIs4nU7v8TA2/AFJDFzDyIrpbLtmZiE5dm2/v+8SVNd7suhe/Ozd2OZp01hnLpOsy0WPtruPK53bo7X2fsF6eB7ndDQ+g8Pksy7LrmUMSenp6VFlZqUAgoIqKCrebUxT8gd6UKhNbdnXr6sf+EHPc55Ore5qGvw9JmrNqY0z1rX3F/KTeY3S3bKrXyKld4Y91uo7SsYWxLZlRFQQAifu3RBcw8izVbjmnrmMrw+7WTEW/j+ULpujel94/1r0q6YbzJib1PE7dsum+F6frG287vOAhr2+RZcr4RwBIBl3AKGh2XcfR3N7WqXVrZyj8SccC1aOb92jOqo1q3drp+Lh8ztwNXsdE/+Ddvpa5Er04cryfixO6ygF4CRVAFLzwQe3HDSvR5au3xEzCcGuZC7v9iJOtqOV7weKmsyZoytgTtHD1FjkN/PDikiFOQTuVSqdpE2gAeB8VQLgumcpK+Fp/LYvOUPhSZ5ak1//yPzlvpx27EBcuXkXNjTXbpo8fqVVhFdVwPp88uWRIvKCdjEJaYxEAsoUACFel0zU3b/JJCs8vltK/IfsDvfr12/v1m3f+mtbj7UJcuHiBLtcLFjsF66azJmj9kgZFZ0Cfdezaek2mQTvTAAkAhYguYORUvIH3yXbNRT9HtrpOW7d2asVzOyIWqP7nuXW6/ry6pJ8neuFdnyR9MUM5mUCXqzXbEnVZHu4fiOkGHpQ8uV9uposjm7y1HADv8lQAXL16tf7t3/5Nfr9fp59+un7+859r7ty5juc//fTTuu+++/TBBx+osrJSF110kf793/9do0e7s8iw1yQKIckEObvnmDf5pIxvyP5Ab0z4k45N3ni8fU9KY7yiQ5yklAJd+MzdbMxUTSZYmxZqMgna7K4BwIs80wXc2tqqpUuX6s4771RHR4fmzp2rBQsWqLPTvkuxvb1dixcv1g033KA//elPevbZZ7V161Z997vfzXPLvSmZcVOJuuacnkNSxl2nTlvTObU1kfCFd9NdhDcbM1Wl5LosTdwvN5PFkZvOmqD2FfP1zI3nqn3FfCaAACh6nqkA3n///brhhhtCAe7nP/+5XnnlFT388MNqaWmJOf/NN9/UxIkTdeutt0qS6urq9L3vfU/33XdfXtvtVclU9xJVVuI9R6Zdp3VjRoQWQLaTy9m4dt7e94lWrN+RlfUNk63usWVYakzdWg6AN3miAtjf369t27apsbEx4nhjY6O2bNli+5jZs2fro48+0oYNG2RZlv72t7/pv/7rv3TJJZfko8mel+zA+3iVlUTPkUlFp7qyXKuuiJxNnKitudK6tVMLH4pdmiXdiQapVPfYMgwAzOSJCmB3d7cGBgZUVVUVcbyqqkpdXV22j5k9e7aefvppNTU16bPPPtPRo0f1jW98Q7/4xS8cX6evr099fX2hr3t6erLzBjwolXFTTpWVXI+9ClbAtu39RG/sPqhn/m+nBpOcvJEN/kCv3tr7sVaujx2LKGUWQqnuAQDi8UQADPJFrWthWVbMsaD33ntPt956q370ox/pwgsvlN/v1w9/+EM1NzdrzZo1to9paWnR3XffnfV2e1U2Qkiug0x1ZbkunV6uS6fX6Obzv5K3wBQ+ucVOSRbW5CuGLku7fZDZrg0Acs9nWU57AhSP/v5+HXfccXr22Wd1+eWXh45///vf1/bt27Vp06aYx1xzzTX67LPP9Oyzz4aOtbe3a+7cufrrX/+q6urqmMfYVQDHjx9v9GbSXpVo+Zp0Q0qw6vf9ddudw5+k52+arenjR6bZ+uIQPcP78hmn6PmO/UW12waBFShOPT09qqysNPr+7YkK4LBhw1RfX6+2traIANjW1qZvfvObto85cuSIhgyJfPulpaWSjlUO7ZSVlamsrCxLrfae4M1wxLBSHe4fiLgpFtONMt7yNZlsCZao6id92f3s9fBnN8P7uT/uD30/k0kwdq+Vi88e28MBKGaeCICStGzZMl1zzTWaNWuWGhoa9Oijj6qzs1PNzc2SpJUrV2r//v166qmnJEmXXXaZbrzxRj388MOhLuClS5fq7LPPVk1NjZtvpSjZhZvgTVFSSjdKN8NivDX0JKW9p6zdnsHhSiT94uoZmlk7suADcjasbd8TNwhL2ZmJnauQlo39hQHATZ4JgE1NTTp48KDuuece+f1+TZs2TRs2bFBtba0kye/3R6wJeN111+nQoUN68MEH9YMf/EAnnniizj//fN17771uvYWi5RRuBi1p5XM7pLAlSRLdKLN1w043RMZbesaSlfYOJPH2DA5W/S4504xfPPyBXj22eU/C8zKdiZ3LkJat3WgAwC2eCYCStGTJEi1ZssT2e08++WTMsVtuuUW33HJLjlvlffHCzaAUs9ie040yWzfsTEJkojX00t09w+55Tav6BTktwj3vq2P0+//vYNZmfOcypJm2kwoA7/HEOoBwl916fUElUlLrAUrJ7WCRSDI7kMQTbw29THbPsHtsyxVn6JIza4wKf5L956VE0r3/z5lZ3W0j2bUo05HqZ8Ef6NWWXd0p7S4DALnkqQog3BG9Xl9Q8KYoKam1/LJRVclG1Sfe0jOZLEvj1tp88SbnuCHR+o7Zalu+1pFM9PNksgiAQuSJZWDcwjTySP5Ar/Z2H9Fxw0p0pH9Qxw0rCQUOSUkFn9atnTE37FRulv5Ar+as2hgTIttXzDeu0ibFn5zjdggJfl5yHYbz9TpOr53q59Fu/GqmSw8Vywx8IF+4f1MBRBaFLzycbtUj0ypZrqs+xSTe5JxCmLGar4Wq3VwQO9WKtN2/Gym1WfSJni/8sYRDwFwEQKTN6eaR6WSOTG/YpmyDlujmHW9yDjNW8yOVYQ12/25SnUWf6PnCH0vXNGA2AiDSEu/mUQhLZBTDNmipiA57v3x9l1a99L6sODdvu/ARxIzV7LML5KlUpO3+3SQzi97pF4FEk6pYxxAwGwEQKUtUWWCJjOyKDtsXnj5WL73bFfq+08070eQcbvTZE+8XomQr0k5LBSnOv6V4rxvv32Eh/JIGwF0EQKQs0c2DcXjZYxe2w8NfkNPNOzx8BCfneLlb3A3JDHlIpiLt9O9Gsp9Fn+h1E/075Jc0wGwEQKQsmQqfKePwci3eOL5wJT453ry91h1eaLJZTXP6d2N3LJnXdXo+fkkDQABEypK9eRA87KUy8zLeOL5wyxdM4Vq7JNtDHuz+3dgdS/Z1nf4d8ksaYDbWAcyA6esIubm+WrFKZ+Zl9NqIC2fU6IWOv2rAslSiY+Hve1+blJ83AFuZrl9ZbK8LFDvT798SATAjfICQikwWqY4O24TvwuPWz4TPApA67t90ASMN+Vo8ttgXqY1ufyZjxaK78eheLzxu/Uz4LABIBwEQKcnX4rHFvkitXfvnTT7J+JmXxR7qAcArStxuAIqH004Fv3nnr/IHenP6Onesfzerr5FLTu2XjgXBUp9Pknnr8bVu7dScVRt19WN/0JxVG9W6tdPtJgGAsagAImlOOxXc/KuOrFbpin2R2njtN3XmZabbAwIAsosKIJIWXHbCTjardHavU0xdpYnaX11ZroZJo40KPom2JQMA5BcBEEkLrv8X7MKMlo0benCM2PIFU4q2qzT6OhVb+3Oh2EM9AHgNXcBISbALc9veT3Truo6sTmiInjix/KIpOnPciUXZVWpqV68Tdp4AgMJCAETSwmdwXjq9Rof7j4Zu6CWSbjhvYkbPHT1G7L6X/5zUGnmFiuU5IhGKAaBwEACRFKdlWeZNPklr2/fq8fbdenTzHj3evietySDFPvEjF7y4ZAqhGAAKAwEQCcWbwSlJj7fvznh2Z7b3Uy12xb4OIgCgsDEJBAmtbd/jWJ3L1uxOr0+c8Ad6tWVXd1KzpIt9HUQAQOGjAoi4/IFePbZ5T8zxEp9C1blsVe68OkYs1Woe3eEAgFyjAoi49nQflmVz/LvnnRoaz5XNyp3X1shLp5rHkikAgFyjAoi47MbmlUi6PmzGr1crd9mQTjWPJVMAALlGAERcyYYRZnfaS3dyC6EaAJBLBEAkRBhJXybVvGRDtReXiwEA5BYBEEmhwpcef6BX40cdp/VLGnSkfzDrAZrlYgAA6SAAAjliF84aJo3O2vPHW5+RsA4AiIdZwEAO5GMtv2ytwQgAMA8BEMiBfIQzlosBAKSLAAjkQD7Cmdd3TwEA5A5jAIEcyNdafszQBgCkgwAI5Ei+whkztAEAqSIAAjlEOAMAFCLGAAIAABiGAAgAAGAYAiCM4g/0asuu7qyuxwcAQLFhDCCMwbZpAAAcQwUQRsjHzhwAABQLAqDhTOkSzcbOHKZcKwCA99EFbCh/oFdPtO/RmvY9RnSJBnfmCA+BqezMQfcxAMBLqAAaqHVrp2a3bNRjm/dEdImufG6HZ6tb6W6b5g/06tdv76f7GADgKVQADRMcC2fZfG9Q0tr2vbrjkqn5blZepLozR3jVL1qw+5hFngEAxYgKoGHsxsKFe7x9t6crW9WV5WqYNDqpyp9T+JNS6z4GAKDQEAANExwL52TQkrbt/SR/DSpQ8YJyst3HAAAUKgKgRznNWI0eC2fnlmc69NPfvufpSmAidkG5RNJDV89Q+4r5TAABABQ1n2VZcToEEU9PT48qKysVCARUUVHhdnNCkpmx6g/0am/3Eb2z/++6d8P7GrR5HtNnu7Zu7dQd69/VgGWFqn6mXgsA8JJCvX/nEwEwA4X4AfIHejVn1caY5U7aV8x37LL8zTt/1c2/6rD9XqLHel0wKCczaQQAUBwK8f6db3QBe0wyCx5Hdw/X1450HBeY6mLJXpPspBEAAIoJy8B4TKIFj526h1sWnaGVz+2I6QpmtisAAN5DBdBj4i14HG8/3KazJuj3K8/XP889NVQNZLYrAADeRAXQg5wWPI7XPVxdWa7qynLdcclUXX/eRMa9AQDgYQRAjwoGunDJ7odr91gAAOAddAEbJN39cAEAgLdQATSIP9Cr8aOO0/olDTrSP0gXLwAAhiIAGsJu9m/DpNFuNwsAALiALmADxJv9CwAAzEMANEAyi0MDAABzEAANEJz9G44FngEAMBcB0ADM/gUAAOGYBGIIp8WhAQCAeTxVAVy9erXq6uo0fPhw1dfXa/PmzXHP7+vr05133qna2lqVlZVp0qRJeuKJJ/LU2vyrrixXw6TRhD8AAAznmQpga2urli5dqtWrV2vOnDn65S9/qQULFui9997ThAkTbB9z5ZVX6m9/+5vWrFmjr3zlKzpw4ICOHj2a55YXNn+gV3u6D6tuzAiCIwAAHuGzLMtKfFrhO+ecczRz5kw9/PDDoWNTp07VwoUL1dLSEnP+yy+/rKuuukq7d+/WqFGj0nrNnp4eVVZWKhAIqKKiIu22Fyq7tQObzrIP0wAAFAuv37+T4Yku4P7+fm3btk2NjY0RxxsbG7Vlyxbbx7z44ouaNWuW7rvvPp1yyimaPHmybr/9dvX2Oq+N19fXp56enog/XpXvtQP9gV5t2dXN2oQAAOSBJ7qAu7u7NTAwoKqqqojjVVVV6urqsn3M7t271d7eruHDh+v5559Xd3e3lixZoo8//thxHGBLS4vuvvvurLe/EMVbOzDbXcFUGgEAyC9PVACDfL7Ixe4sy4o5FjQ4OCifz6enn35aZ599ti6++GLdf//9evLJJx2rgCtXrlQgEAj92bdvX9bfQ6HI19qB7FICAED+eSIAjhkzRqWlpTHVvgMHDsRUBYOqq6t1yimnqLKyMnRs6tSpsixLH330ke1jysrKVFFREfHHq/K1diC7lAAAkH+e6AIeNmyY6uvr1dbWpssvvzx0vK2tTd/85jdtHzNnzhw9++yz+vTTT3X88cdLkv7yl7+opKRE48aNy0u7C10+1g4MVhrDQyC7lAAAkFueqABK0rJly/T444/riSee0M6dO3Xbbbeps7NTzc3Nko513y5evDh0/tVXX63Ro0fr+uuv13vvvafXX39dP/zhD/Wd73xH5eUsdxKU67UD2aUEAID880QFUJKampp08OBB3XPPPfL7/Zo2bZo2bNig2tpaSZLf71dnZ2fo/OOPP15tbW265ZZbNGvWLI0ePVpXXnmlfvKTn7j1FozFLiUAAOSXZ9YBdAPrCAEAUHy4f3uoCxgAAADJIQACAAAYhgAIW+zMAQCAd3lmEgiyh505AADwNiqAiMDOHAAAeB8BEBHYmQMAAO8jAHpINsbt5WsP4ELG+EcAgNcxBtAjsjVuL7gzxx3r39WAZRm3MwfjHwEAJmAh6AwUykKS/kCv5qzaGLOfbvuK+WkHN3+g17idOXJxHQEAhadQ7t9uogLoAfHG7aUbXKory40LPbm4jgAAFCLGAHoA4/ayg+sIADAFAdADguP2Sn3H0otp4/ayhesIADAFYwAzUGhjCEwct5cLXEcA8LZCu3+7gTGAHmLiuL1c4DoCALyOLmAAAADDEAABAAAMQwAEAAAwDAEQAADAMARAAAAAwxAAAQAADEMANIA/0Kstu7rlD/S63RQAAFAAWAfQ41q3dmrl+h0atKQSn9Sy6Aw1nTXB7WYBAAAXuRYAFy1alNR569evz3FLvMsf6A2FP0katKQ71r+reZNPYqFjAAAM5loArKysdOuljbGn+3Ao/AUNWJb2dh8hAAIAYDDXAuDatWvdemlj1I0ZoRKfIkJgqc+niWOOc69RAADAdUwCKRLpTOSorixXy6IzVOrzSToW/n66aBrVPwAADOdaBfA73/lOUuc98cQTOW5J4ctkIkfTWRM0b/JJ2tt9RBPHHEf4AwAA7gXAJ598UrW1tZoxY4Ysy0r8AEOlOpHDH+jVnu7DqhszIvT96spygh8AAAhxLQA2Nzdr3bp12r17t77zne/o29/+tkaNGuVWcwpWKhM5WPIFAAAkw7UxgKtXr5bf79fy5cv161//WuPHj9eVV16pV155hYpgmOBEjnB2EzmcKoUs/gwAAKK5OgmkrKxM3/rWt9TW1qb33ntPp59+upYsWaLa2lp9+umnbjatYCQ7kSNepbBQsUMJAADuKJidQHw+n3w+nyzL0uDgoNvNKSjJTOQotiVf6K4GAMA9rlYA+/r69Mwzz+iCCy7Qaaedph07dujBBx9UZ2enjj/+eDebVnCqK8vVMGm042SOYlryhe5qAADc5VoFcMmSJVq3bp0mTJig66+/XuvWrdPo0aPdao4nFMuSL+xQAgCAu1wLgI888ogmTJiguro6bdq0SZs2bbI9z+S9gO2WdEmkGJZ8KbbuagAAvMa1ALh48WL5fL7EJxoqmTFy6QTEQhDsrr5j/bsasKyC7q4GAMCLfJZLa67s3r1bEydOVElJ8e5G19PTo8rKSgUCAVVUVGTtef2BXs1ZtTGmQta+Yr6kY12oO/YHdO9L7xf1JAp/oLfgu6sBAN6Tq/t3MXGtAvjVr35Vfr9fJ598siSpqalJDzzwgKqqqtxqUsFwGiO3tn2vHm/fHfO9RLuDFKpi6K4GAMCLXCu/RRceN2zYoMOHD7vUmsJit/hziWQb/oKc1vxjrT0AABCtYNYBxJde/8v/KLpj/uIzxuo3O7ocH2M3iYK19gAAgB3XKoDBhZ+jj5kuuEZedKEvUfiLnkTBWnsAAMCJaxVAy7J03XXXqaysTJL02Wefqbm5WSNGjIg4z7RlYOzG/9kp9fn0rxedpjPHnWg7iYK19gAAgBPXAuC1114b8fW3v/1tl1pSWOzWyIv2vy+ZqovPrI4b5FhrDwAAOHEtAK5du9atly5o0WvkRSv1+WLCn916gKy1BwAAnLi2DqAX5HIdoeAaee/s/7vue+nPESEufCJHookerLUHAEAk1gEkAGYkXx8gpxAXb8Fowh4AAPYIgCwDUxScFkxmogcAAEhH8e7DBtsFo5noAQAAEiEAFqngxI/lC6ao9Iv1E5noAQAAkkEXcBGKnvix/KIpjusBAgAARKMCWGTsdvi47+U/E/4AAEDSCIBFJt7EDwAAgGQQAIsMEz8AAECmCIBFJrjDBxM/AABAupgEUoSazpqgeZNPYocPAACQFgJgkXJaHBoAACARuoABAAAMQwAEAAAwDAEQAADAMARAAAAAwxAAAQAADEMABAAAMAwBEAAAwDCeCoCrV69WXV2dhg8frvr6em3evDmpx/3+97/XkCFD9A//8A+5bSAAAEAB8EwAbG1t1dKlS3XnnXeqo6NDc+fO1YIFC9TZ2Rn3cYFAQIsXL9Y//uM/5qmlAAAA7vJZlmW53YhsOOecczRz5kw9/PDDoWNTp07VwoUL1dLS4vi4q666Sl/96ldVWlqqF154Qdu3b0/6NXt6elRZWalAIKCKiopMmg8AAPKE+7dHKoD9/f3atm2bGhsbI443NjZqy5Ytjo9bu3atdu3apbvuuiup1+nr61NPT0/EHwAAgGLjiQDY3d2tgYEBVVVVRRyvqqpSV1eX7WM++OADrVixQk8//bSGDEluS+SWlhZVVlaG/owfPz7jtgMAAOSbJwJgkM/ni/jasqyYY5I0MDCgq6++WnfffbcmT56c9POvXLlSgUAg9Gffvn0ZtxkAACDfkit9FbgxY8aotLQ0ptp34MCBmKqgJB06dEhvvfWWOjo6dPPNN0uSBgcHZVmWhgwZot/97nc6//zzYx5XVlamsrKy3LwJAACAPPFEBXDYsGGqr69XW1tbxPG2tjbNnj075vyKigrt2LFD27dvD/1pbm7Waaedpu3bt+ucc87JV9MBAADyzhMVQElatmyZrrnmGs2aNUsNDQ169NFH1dnZqebmZknHum/379+vp556SiUlJZo2bVrE408++WQNHz485jgAAIDXeCYANjU16eDBg7rnnnvk9/s1bdo0bdiwQbW1tZIkv9+fcE1AAAAAE3hmHUA3sI4QAADFh/u3R8YAAgAAIHkEQAAAAMMQAAEAAAxDAAQAADAMARAAAMAwBEAAAADDEAABAAAMQwAEAAAwDAEQAADAMARAAAAAwxAAAQAADEMABAAAMAwBEAAAwDAEQAAAAMMQAAEAAAxDAAQAADAMARAAAMAwBEAAAADDEAABAAAMQwAEAAAwDAEQAADAMARAAAAAwxAAAQAADEMABAAAMAwBEAAAwDAEQAAAAMMQAAEAAAxDAAQAADAMARAAAMAwBEAAAADDEAABAAAMQwAEAAAwDAEQAADAMARAAAAAwxAAAQAADEMABAAAMAwBEAAAwDAEQAAAAMMQAAEAAAxDAAQAADAMARAAAMAwBEAAAADDEAABAAAMQwAEAAAwDAEQAADAMARAAAAAwxAAAQAADEMABAAAMAwBEAAAwDAEQAAAAMMQAAEAAAxDAAQAADAMARAAAMAwBEAAAADDEAABAAAMQwAEAAAwDAEQAADAMARAAAAAwxAAAQAADEMABAAAMAwBEAAAwDAEQAAAAMMQAAEAAAzjqQC4evVq1dXVafjw4aqvr9fmzZsdz12/fr0uuOACnXTSSaqoqFBDQ4NeeeWVPLYWAADAHZ4JgK2trVq6dKnuvPNOdXR0aO7cuVqwYIE6Ozttz3/99dd1wQUXaMOGDdq2bZvmz5+vyy67TB0dHXluOQAAQH75LMuy3G5ENpxzzjmaOXOmHn744dCxqVOnauHChWppaUnqOU4//XQ1NTXpRz/6UVLn9/T0qLKyUoFAQBUVFWm1GwAA5Bf3b49UAPv7+7Vt2zY1NjZGHG9sbNSWLVuSeo7BwUEdOnRIo0aNcjynr69PPT09EX8AAACKjScCYHd3twYGBlRVVRVxvKqqSl1dXUk9x89+9jMdPnxYV155peM5LS0tqqysDP0ZP358Ru0GAABwgycCYJDP54v42rKsmGN2nnnmGf34xz9Wa2urTj75ZMfzVq5cqUAgEPqzb9++jNsMAACQb0PcbkA2jBkzRqWlpTHVvgMHDsRUBaO1trbqhhtu0LPPPqt/+qd/intuWVmZysrKMm4vAACAmzxRARw2bJjq6+vV1tYWcbytrU2zZ892fNwzzzyj6667Tr/61a90ySWX5LqZAAAABcETFUBJWrZsma655hrNmjVLDQ0NevTRR9XZ2anm5mZJx7pv9+/fr6eeekrSsfC3ePFi/cd//IfOPffcUPWwvLxclZWVrr0PAACAXPNMAGxqatLBgwd1zz33yO/3a9q0adqwYYNqa2slSX6/P2JNwF/+8pc6evSobrrpJt10002h49dee62efPLJfDcfAAAgbzyzDqAbWEcIAIDiw/3bI2MAAQAAkDwCIAAAgGEIgAAAAIYhAAIAABiGAAgAAGAYAiAAAIBhCIAAAACGIQACAAAYhgAIAABgGAIgAACAYQiAAAAAhiEAAgAAGIYACAAAYBgCIAAAgGEIgAAAAIYhAAIAABiGAAgAAGAYAiAAAIBhCIAAAACGIQACAAAYhgAIAABgGAIgAACAYQiAAAAAhiEAAgAAGIYACAAAYBgCIAAAgGEIgAAAAIYhAAIAABiGAAgAAGAYAiAAAIBhCIAAAACGIQACAAAYhgAIAABgGAIgAACAYQiAAAAAhiEAAgAAGIYACAAAYBgCIAAAgGEIgAAAAIYhAAIAABiGAAgAAGAYAiAAAIBhCIAAAACGIQACAAAYhgAIAABgGAIgAACAYQiAAAAAhiEAAgAAGIYACAAAYBgCIAAAgGEIgAAAAIYhAAIAABiGAAgAAGAYAiAAAIBhCIAAAACGIQACAAAYhgAIAABgGAIgAACAYQiAAAAAhiEAAgAAGIYACAAAYBgCIAAAgGEIgAAAAIbxVABcvXq16urqNHz4cNXX12vz5s1xz9+0aZPq6+s1fPhwnXrqqXrkkUfy1FIAAAD3eCYAtra2aunSpbrzzjvV0dGhuXPnasGCBers7LQ9f8+ePbr44os1d+5cdXR06I477tCtt96q5557Ls8tBwAAyC+fZVmW243IhnPOOUczZ87Uww8/HDo2depULVy4UC0tLTHnL1++XC+++KJ27twZOtbc3Ky3335bb7zxRlKv2dPTo8rKSgUCAVVUVGT+JgAAQM5x/5aGuN2AbOjv79e2bdu0YsWKiOONjY3asmWL7WPeeOMNNTY2Rhy78MILtWbNGn3++ecaOnRozGP6+vrU19cX+joQCEg69kECAADFIXjf9kgNLC2eCIDd3d0aGBhQVVVVxPGqqip1dXXZPqarq8v2/KNHj6q7u1vV1dUxj2lpadHdd98dc3z8+PEZtB4AALjh0KFDqqysdLsZrvBEAAzy+XwRX1uWFXMs0fl2x4NWrlypZcuWhb4eHBzUxx9/rNGjR8d9nXT09PRo/Pjx2rdvn7Hl6WzgOmYH1zFzXMPs4Dpmh+nX0bIsHTp0SDU1NW43xTWeCIBjxoxRaWlpTLXvwIEDMVW+oLFjx9qeP2TIEI0ePdr2MWVlZSorK4s4duKJJ6bf8CRUVFQY+Y8z27iO2cF1zBzXMDu4jtlh8nU0tfIX5IlZwMOGDVN9fb3a2toijre1tWn27Nm2j2loaIg5/3e/+51mzZplO/4PAADAKzwRACVp2bJlevzxx/XEE09o586duu2229TZ2anm5mZJx7pvFy9eHDq/ublZH374oZYtW6adO3fqiSee0Jo1a3T77be79RYAAADywhNdwJLU1NSkgwcP6p577pHf79e0adO0YcMG1dbWSpL8fn/EmoB1dXXasGGDbrvtNj300EOqqanRAw88oCuuuMKttxChrKxMd911V0yXM1LDdcwOrmPmuIbZwXXMDq4jPLMOIAAAAJLjmS5gAAAAJIcACAAAYBgCIAAAgGEIgAAAAIYhABag1atXq66uTsOHD1d9fb02b97sdpMK2o9//GP5fL6IP2PHjg1937Is/fjHP1ZNTY3Ky8v19a9/XX/6059cbHFheP3113XZZZeppqZGPp9PL7zwQsT3k7lufX19uuWWWzRmzBiNGDFC3/jGN/TRRx/l8V24L9F1vO6662I+n+eee27EOaZfx5aWFp111lk64YQTdPLJJ2vhwoX685//HHEOn8fEkrmOfB4RRAAsMK2trVq6dKnuvPNOdXR0aO7cuVqwYEHEEjaIdfrpp8vv94f+7NixI/S9++67T/fff78efPBBbd26VWPHjtUFF1ygQ4cOudhi9x0+fFjTp0/Xgw8+aPv9ZK7b0qVL9fzzz2vdunVqb2/Xp59+qksvvVQDAwP5ehuuS3QdJemiiy6K+Hxu2LAh4vumX8dNmzbppptu0ptvvqm2tjYdPXpUjY2NOnz4cOgcPo+JJXMdJT6P+IKFgnL22Wdbzc3NEcemTJlirVixwqUWFb677rrLmj59uu33BgcHrbFjx1qrVq0KHfvss8+syspK65FHHslTCwufJOv5558PfZ3Mdfv73/9uDR061Fq3bl3onP3791slJSXWyy+/nLe2F5Lo62hZlnXttdda3/zmNx0fw3WMdeDAAUuStWnTJsuy+DymK/o6WhafR3yJCmAB6e/v17Zt29TY2BhxvLGxUVu2bHGpVcXhgw8+UE1Njerq6nTVVVdp9+7dkqQ9e/aoq6sr4pqWlZXpa1/7Gtc0jmSu27Zt2/T5559HnFNTU6Np06ZxbaO89tprOvnkkzV58mTdeOONOnDgQOh7XMdYgUBAkjRq1ChJfB7TFX0dg/g8QqILuKB0d3drYGBAVVVVEcerqqrU1dXlUqsK3znnnKOnnnpKr7zyih577DF1dXVp9uzZOnjwYOi6cU1Tk8x16+rq0rBhwzRy5EjHcyAtWLBATz/9tDZu3Kif/exn2rp1q84//3z19fVJ4jpGsyxLy5Yt03nnnadp06ZJ4vOYDrvrKPF5xJc8sxWcl/h8voivLcuKOYYvLViwIPT3M844Qw0NDZo0aZL+8z//MzS4mWuannSuG9c2UlNTU+jv06ZN06xZs1RbW6vf/va3WrRokePjTL2ON998s9555x21t7fHfI/PY/KcriOfRwRRASwgY8aMUWlpacxvWQcOHIj5zRfORowYoTPOOEMffPBBaDYw1zQ1yVy3sWPHqr+/X5988onjOYhVXV2t2tpaffDBB5K4juFuueUWvfjii3r11Vc1bty40HE+j6lxuo52+DyaiwBYQIYNG6b6+nq1tbVFHG9ra9Ps2bNdalXx6evr086dO1VdXa26ujqNHTs24pr29/dr06ZNXNM4krlu9fX1Gjp0aMQ5fr9f7777Ltc2joMHD2rfvn2qrq6WxHWUjlWXbr75Zq1fv14bN25UXV1dxPf5PCYn0XW0w+fRYO7MPYGTdevWWUOHDrXWrFljvffee9bSpUutESNGWHv37nW7aQXrBz/4gfXaa69Zu3fvtt58803r0ksvtU444YTQNVu1apVVWVlprV+/3tqxY4f1rW99y6qurrZ6enpcbrm7Dh06ZHV0dFgdHR2WJOv++++3Ojo6rA8//NCyrOSuW3NzszVu3Djrv//7v60//vGP1vnnn29Nnz7dOnr0qFtvK+/iXcdDhw5ZP/jBD6wtW7ZYe/bssV599VWroaHBOuWUU7iOYf7lX/7FqqystF577TXL7/eH/hw5ciR0Dp/HxBJdRz6PCEcALEAPPfSQVVtbaw0bNsyaOXNmxBR+xGpqarKqq6utoUOHWjU1NdaiRYusP/3pT6HvDw4OWnfddZc1duxYq6yszJo3b561Y8cOF1tcGF599VVLUsyfa6+91rKs5K5bb2+vdfPNN1ujRo2yysvLrUsvvdTq7Ox04d24J951PHLkiNXY2GiddNJJ1tChQ60JEyZY1157bcw1Mv062l0/SdbatWtD5/B5TCzRdeTziHA+y7Ks/NUbAQAA4DbGAAIAABiGAAgAAGAYAiAAAIBhCIAAAACGIQACAAAYhgAIAABgGAIgAACAYQiAAAAAhiEAAgAAGIYACAAAYBgCIAAAgGEIgAAAAIYhAAIAABiGAAgAAGAYAiAAAIBhCIAAAACGIQACAAAYhgAIAABgGAIgAACAYQiAAAAAhiEAAgAAGIYACAAAYBgCIAAAgGEIgAAAAIYhAAIAABiGAAgAAGAYAiAAAIBhCIAAAACGIQACAAAYhgAIAABgGAIgAACAYf5/CwxCEsoiE9AAAAAASUVORK5CYII=' width=640.0/>\n",
       "            </div>\n",
       "        "
      ],
      "text/plain": [
       "Canvas(toolbar=Toolbar(toolitems=[('Home', 'Reset original view', 'home', 'home'), ('Back', 'Back to previous …"
      ]
     },
     "metadata": {},
     "output_type": "display_data"
    }
   ],
   "source": [
    "fig, ax = plt.subplots()\n",
    "ax.plot(scores, '.')\n",
    "ax.set_ylim([0, 1])\n",
    "ax.set_ylabel('FMI')\n",
    "plt.show()"
   ]
  }
 ],
 "metadata": {
  "interpreter": {
   "hash": "d782e3369a9c649e580e37cdd6febd5b59d5ba3ca94b62266a945741e1c35eee"
  },
  "kernelspec": {
   "display_name": "Python 3.9.13 ('hitl')",
   "language": "python",
   "name": "python3"
  },
  "language_info": {
   "codemirror_mode": {
    "name": "ipython",
    "version": 3
   },
   "file_extension": ".py",
   "mimetype": "text/x-python",
   "name": "python",
   "nbconvert_exporter": "python",
   "pygments_lexer": "ipython3",
   "version": "3.9.13"
  }
 },
 "nbformat": 4,
 "nbformat_minor": 2
}
