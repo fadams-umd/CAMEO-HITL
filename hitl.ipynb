{
 "cells": [
  {
   "cell_type": "markdown",
   "metadata": {},
   "source": [
    "# Imports and Setup"
   ]
  },
  {
   "cell_type": "markdown",
   "metadata": {},
   "source": [
    "## Asynchronous Execution"
   ]
  },
  {
   "cell_type": "code",
   "execution_count": 1,
   "metadata": {},
   "outputs": [],
   "source": [
    "import threading"
   ]
  },
  {
   "cell_type": "code",
   "execution_count": 2,
   "metadata": {},
   "outputs": [],
   "source": [
    "# multithreading lock to pause experiment loop during user feedback collection\n",
    "experiment_lock = threading.Event()\n",
    "experiment_lock.set()"
   ]
  },
  {
   "cell_type": "code",
   "execution_count": 3,
   "metadata": {},
   "outputs": [],
   "source": [
    "# multithreading lock to terminate the experiment thread prematurely\n",
    "quit_lock = threading.Event()"
   ]
  },
  {
   "cell_type": "markdown",
   "metadata": {},
   "source": [
    "## Logging"
   ]
  },
  {
   "cell_type": "code",
   "execution_count": 4,
   "metadata": {},
   "outputs": [],
   "source": [
    "import logging\n",
    "from traceback import format_exception\n",
    "import datetime"
   ]
  },
  {
   "cell_type": "code",
   "execution_count": 5,
   "metadata": {},
   "outputs": [],
   "source": [
    "time_string = datetime.datetime.now().strftime('%Y-%m-%d-%H-%M')\n",
    "\n",
    "logging.basicConfig(filename=f'logs/hitl_{time_string}.log',\n",
    "                    format='%(levelname)-8s [%(asctime)s]: %(message)s',\n",
    "                    level=logging.INFO)"
   ]
  },
  {
   "cell_type": "code",
   "execution_count": 6,
   "metadata": {},
   "outputs": [],
   "source": [
    "def my_excepthook(args):\n",
    "    '''\n",
    "    Override the function threading.excepthook(), which handles uncaught \n",
    "    exceptions from threads, with a version that prints the thread information \n",
    "    to the log instead of stderr (because that behavior is a little weird in \n",
    "    notebooks).\n",
    "\n",
    "    Parameters\n",
    "    ----------\n",
    "    args: a structure defined in the threading.excepthook documentation\n",
    "    '''\n",
    "\n",
    "    string = ''.join(format_exception(etype=args.exc_type,\n",
    "                                      value=args.exc_value,\n",
    "                                      tb=args.exc_traceback))\n",
    "\n",
    "    logging.critical(string)\n",
    "\n",
    "\n",
    "threading.excepthook = my_excepthook\n"
   ]
  },
  {
   "cell_type": "markdown",
   "metadata": {},
   "source": [
    "## Graphical User Interface"
   ]
  },
  {
   "cell_type": "code",
   "execution_count": 7,
   "metadata": {},
   "outputs": [
    {
     "data": {
      "text/plain": [
       "<matplotlib.pyplot._IoffContext at 0x2ab5dd0df40>"
      ]
     },
     "execution_count": 7,
     "metadata": {},
     "output_type": "execute_result"
    }
   ],
   "source": [
    "import ipywidgets as ipw\n",
    "import matplotlib.pyplot as plt\n",
    "from matplotlib import path\n",
    "from matplotlib.colors import Normalize\n",
    "import ternary\n",
    "\n",
    "# enable ipympl\n",
    "%matplotlib widget\n",
    "\n",
    "# turn on interactive mode so that plots only appear where we want it to\n",
    "plt.ioff()"
   ]
  },
  {
   "cell_type": "code",
   "execution_count": 8,
   "metadata": {},
   "outputs": [],
   "source": [
    "# create the gui elements\n",
    "fig, tax = ternary.figure(scale=0.6)\n",
    "\n",
    "pause_button = ipw.Button(description='Pause')\n",
    "undo_button = ipw.Button(description='Undo Point')\n",
    "continue_button = ipw.Button(description='Continue')\n",
    "quit_button = ipw.Button(description='Quit')"
   ]
  },
  {
   "cell_type": "code",
   "execution_count": 9,
   "metadata": {},
   "outputs": [],
   "source": [
    "# assemble the gui elements\n",
    "buttons = ipw.HBox([pause_button, undo_button, continue_button, quit_button])\n",
    "gui = ipw.VBox([fig.canvas, buttons])"
   ]
  },
  {
   "cell_type": "code",
   "execution_count": 10,
   "metadata": {},
   "outputs": [],
   "source": [
    "# store a list of points where the user has clicked\n",
    "points = []"
   ]
  },
  {
   "cell_type": "markdown",
   "metadata": {},
   "source": [
    "### Plot Callbacks"
   ]
  },
  {
   "cell_type": "code",
   "execution_count": 11,
   "metadata": {},
   "outputs": [],
   "source": [
    "def draw_background_plot(tax):\n",
    "    '''\n",
    "    Plot the data from the current experiment loop.\n",
    "\n",
    "    Parameters\n",
    "    ----------\n",
    "    tax: the ternary axes on which to plot the data\n",
    "    '''\n",
    "\n",
    "    # empty the ternary plot\n",
    "    tax.get_axes().clear()\n",
    "    tax.set_background_color('white')\n",
    "\n",
    "    # plot decoration\n",
    "    tax.right_corner_label(\"$Fe_{0.4}Ga_{0.6}$\", fontsize=20)\n",
    "    tax.top_corner_label(\"$Fe_{0.4}Pd_{0.6}$\", fontsize=20)\n",
    "    tax.left_corner_label(\"$Fe$\", fontsize=20)\n",
    "\n",
    "    tax.get_axes().axis('off')\n",
    "    tax.clear_matplotlib_ticks()\n",
    "\n",
    "    tax.boundary()\n",
    "\n",
    "    # get all the point colors in advance because the \"edgecolors\" parameter \n",
    "    # doesn't accept a list of values like the parameters \"c\" does\n",
    "    point_colors = plt.cm.get_cmap()(Normalize()(all_predicted_labels[-1]))\n",
    "\n",
    "    # plot all points as empty circles\n",
    "    tax.get_axes().scatter(cartesian[:, 0],\n",
    "                           cartesian[:, 1], \n",
    "                           edgecolors=point_colors,\n",
    "                           facecolors='none',\n",
    "                           marker='o')\n",
    "\n",
    "    # fill measured points\n",
    "    tax.get_axes().scatter(cartesian[measured[:-1], 0],\n",
    "                           cartesian[measured[:-1], 1], \n",
    "                           c=point_colors[measured[:-1]],\n",
    "                           marker='o')\n",
    "\n",
    "    # plot next point\n",
    "    tax.get_axes().scatter(cartesian[measured[-1], 0],\n",
    "                           cartesian[measured[-1], 1], \n",
    "                           marker='x', color='m')\n",
    "\n",
    "    logging.info('Background plot drawn')\n",
    "\n",
    "    plt.draw()\n"
   ]
  },
  {
   "cell_type": "code",
   "execution_count": 12,
   "metadata": {},
   "outputs": [],
   "source": [
    "def draw_user_points(tax):\n",
    "    '''\n",
    "    Draw the points where the user has clicked.\n",
    "\n",
    "    Parameters\n",
    "    ----------\n",
    "    tax: the ternary axes on which to draw the points\n",
    "    '''\n",
    "\n",
    "    # create separate x and y coordinate lists for every point in points\n",
    "    x, y = zip(*points)\n",
    "\n",
    "    tax.get_axes().plot(x, y, 'k*-')\n",
    "\n",
    "    logging.info('User points drawn')\n",
    "\n",
    "    plt.draw()"
   ]
  },
  {
   "cell_type": "code",
   "execution_count": 13,
   "metadata": {},
   "outputs": [],
   "source": [
    "def plot_callback(event):\n",
    "    '''\n",
    "    Store the point where the user clicked and add it to the plot.\n",
    "\n",
    "    Parameters\n",
    "    ----------\n",
    "    event: a structure which has information about the mouse event\n",
    "    '''\n",
    "\n",
    "    logging.debug('User clicked on plot')\n",
    "    \n",
    "    if not experiment_lock.is_set():\n",
    "        # add the mouse position (in data coordinates) to the points list\n",
    "        points.append([event.xdata, event.ydata])\n",
    "\n",
    "        logging.info('Point added')\n",
    "\n",
    "        draw_user_points(tax)\n",
    "\n",
    "cid = fig.canvas.mpl_connect('button_press_event', plot_callback)"
   ]
  },
  {
   "cell_type": "markdown",
   "metadata": {},
   "source": [
    "### Button Callbacks"
   ]
  },
  {
   "cell_type": "code",
   "execution_count": 14,
   "metadata": {},
   "outputs": [],
   "source": [
    "def pause_callback(button):\n",
    "    '''\n",
    "    Set the internal flag of the experiment loop threading Event object to false.\n",
    "\n",
    "    Parameters\n",
    "    ----------\n",
    "    button: the instance of button that was clicked\n",
    "    '''\n",
    "\n",
    "    logging.debug('User clicked pause button')\n",
    "    \n",
    "    if experiment_lock.is_set():\n",
    "        experiment_lock.clear()\n",
    "\n",
    "        logging.info('Experiment lock cleared')\n",
    "\n",
    "pause_button.on_click(pause_callback)"
   ]
  },
  {
   "cell_type": "code",
   "execution_count": 15,
   "metadata": {},
   "outputs": [],
   "source": [
    "def undo_callback(button):\n",
    "    '''\n",
    "    Removes the last point where the user clicked and updates the plot.\n",
    "\n",
    "    Parameters\n",
    "    ----------\n",
    "    button: the instance of button that was clicked\n",
    "    '''\n",
    "\n",
    "    logging.debug('User clicked undo button')\n",
    "\n",
    "    # removed = points.pop()\n",
    "\n",
    "    # empty the ternary plot\n",
    "    tax.get_axes().clear()\n",
    "    tax.set_background_color()\n",
    "\n",
    "    # re-draw without the deleted point\n",
    "    draw_background_plot(tax)\n",
    "    draw_user_points(tax)\n",
    "\n",
    "    logging.info('Removed point')\n",
    "\n",
    "undo_button.on_click(undo_callback)"
   ]
  },
  {
   "cell_type": "code",
   "execution_count": 16,
   "metadata": {},
   "outputs": [],
   "source": [
    "def continue_callback(button):\n",
    "    '''\n",
    "    Set the internal flag of the experiment loop threading Event object to true.\n",
    "\n",
    "    Parameters\n",
    "    ----------\n",
    "    button: the instance of button that was clicked\n",
    "    '''\n",
    "\n",
    "    logging.debug('User clicked continue button')\n",
    "    \n",
    "    if not experiment_lock.is_set():\n",
    "        experiment_lock.set()\n",
    "\n",
    "        logging.info('Experiment lock set')\n",
    "\n",
    "continue_button.on_click(continue_callback)"
   ]
  },
  {
   "cell_type": "code",
   "execution_count": 17,
   "metadata": {},
   "outputs": [],
   "source": [
    "def quit_callback(button):\n",
    "    '''\n",
    "    Set the internal flag of the quit threading Event object to true, causing the experiment thread to terminate on the next time through the loop.\n",
    "\n",
    "    Parameters\n",
    "    ----------\n",
    "    button: the instance of button that was clicked\n",
    "    '''\n",
    "\n",
    "    logging.debug('User clicked quit button')\n",
    "\n",
    "    quit_lock.set()\n",
    "\n",
    "    logging.info('Quit lock set')\n",
    "\n",
    "quit_button.on_click(quit_callback)"
   ]
  },
  {
   "cell_type": "markdown",
   "metadata": {},
   "source": [
    "## CAMEO"
   ]
  },
  {
   "cell_type": "code",
   "execution_count": 18,
   "metadata": {},
   "outputs": [],
   "source": [
    "# get the simulation test data\n",
    "# !wget -O CAMEO2_support_files_220104a.zip https://drive.google.com/u/0/uc?id=1UnKijzN_6shj-T2r37Jm2V6PSqTJMO-6&export=download\n",
    "# !unzip -o CAMEO2_support_files_220104a.zip"
   ]
  },
  {
   "cell_type": "code",
   "execution_count": 19,
   "metadata": {},
   "outputs": [],
   "source": [
    "import numpy as np\n",
    "import tensorflow as tf\n",
    "import gpflow\n",
    "from gpflow.ci_utils import ci_niter\n",
    "from sklearn.manifold import spectral_embedding\n",
    "from sklearn.mixture import GaussianMixture\n",
    "from scipy.spatial import Voronoi\n",
    "from scipy.spatial.distance import pdist, squareform\n",
    "from ternary.helpers import project_sequence\n",
    "from scipy.io import loadmat\n",
    "from scipy.stats import entropy"
   ]
  },
  {
   "cell_type": "code",
   "execution_count": 20,
   "metadata": {},
   "outputs": [],
   "source": [
    "def phase_mapping(X, num_clusters, random_state):\n",
    "    '''\n",
    "    Cluster data using spectral clustering and a Gaussian mixture model\n",
    "\n",
    "    Parameters\n",
    "    ----------\n",
    "    X: m x n matrix - m rows of n dimensional data\n",
    "    num_clusters: number of groups to cluster data into\n",
    "\n",
    "    Returns\n",
    "    -------\n",
    "    cl: clustering labels for each sample\n",
    "    cluster_prob: the probability for each sample to belong to each cluster\n",
    "    '''\n",
    "\n",
    "    K = similarity_matrix(X, 'cosine')\n",
    "\n",
    "    if X.shape[0] <= num_clusters:\n",
    "        # fewer data points than clusters, each point gets its own cluster\n",
    "        cluster_prob = np.eye(X.shape[0])\n",
    "    else:\n",
    "        x_se = spectral_embedding(adjacency=K,\n",
    "                                  n_components=num_clusters,\n",
    "                                  random_state=random_state)\n",
    "        model = GaussianMixture(n_components=num_clusters,\n",
    "                                covariance_type='diag',\n",
    "                                n_init=10,\n",
    "                                random_state=random_state).fit(x_se)\n",
    "\n",
    "        cluster_prob = model.predict_proba(x_se)\n",
    "\n",
    "    cl = np.argmax(cluster_prob, axis=1).flatten()\n",
    "    return cl, cluster_prob\n"
   ]
  },
  {
   "cell_type": "code",
   "execution_count": 21,
   "metadata": {},
   "outputs": [],
   "source": [
    "def composition_to_graph(T):\n",
    "    '''\n",
    "    Use the composition data to identify nearby neighbors graph in\n",
    "    composition-space.\n",
    "\n",
    "    Parameters\n",
    "    ----------\n",
    "    T: n x 3 matrix - n rows of composition data in ternary coordinate space\n",
    "\n",
    "    Returns\n",
    "    -------\n",
    "    S: n x n matrix - symmetric adjacency matrix\n",
    "    '''\n",
    "\n",
    "    N = T.shape[0]\n",
    "    XYc = np.array(list(zip(*project_sequence(T))))\n",
    "    vor = Voronoi(XYc)\n",
    "    points_separated = vor.ridge_points\n",
    "    S = np.zeros((N, N))\n",
    "    for i in range(points_separated.shape[0]):\n",
    "        S[points_separated[i, 0], points_separated[i, 1]] = 1\n",
    "        S[points_separated[i, 1], points_separated[i, 0]] = 1\n",
    "    return S"
   ]
  },
  {
   "cell_type": "code",
   "execution_count": 22,
   "metadata": {},
   "outputs": [],
   "source": [
    "def plot_graph(S, XY):\n",
    "    '''\n",
    "    Plot the graph learned from composition positions.\n",
    "\n",
    "    Parameters\n",
    "    ----------\n",
    "    S: n x n matrix - symmetric adjacency matrix\n",
    "    XY: n x 2 matrix - n rows of composition data in cartesian coordinates\n",
    "    '''\n",
    "\n",
    "    r, c = np.nonzero(S)\n",
    "    for i in range(r.shape[0]):\n",
    "        xx = [XY[r[i], 0], XY[c[i], 0]]\n",
    "        yy = [XY[r[i], 1], XY[c[i], 1]]\n",
    "        plt.plot(xx, yy, c=np.asarray([.8, .8, .8]))\n",
    "        plt.plot(xx, yy, 'k.')"
   ]
  },
  {
   "cell_type": "code",
   "execution_count": 23,
   "metadata": {},
   "outputs": [],
   "source": [
    "def prune_graph(S, XY, dist_ratio, num_nearest_neighbors):\n",
    "    '''\n",
    "    Remove edges from the graph that connect points which are too far away.\n",
    "\n",
    "    Parameters\n",
    "    ----------\n",
    "    S: n x n matrix - symmetric adjacency matrix\n",
    "    XY: n x 2 matrix - n rows of composition data in cartesian coordinates\n",
    "    dist_ratio: adjusts the cutoff distance\n",
    "    num_nearest_neighbors: desired degree for data vertices\n",
    "    '''\n",
    "\n",
    "    D = squareform(pdist(XY))\n",
    "    mD = np.sort(D, 0)\n",
    "    mD = mD[num_nearest_neighbors, :]\n",
    "    S_ = S.copy()\n",
    "    for i in range(S.shape[0]):\n",
    "        d = D[i, :]\n",
    "        S_[i, d > dist_ratio*mD[i]] = 0\n",
    "        S_[d > dist_ratio*mD[i], i] = 0\n",
    "    return S_"
   ]
  },
  {
   "cell_type": "code",
   "execution_count": 24,
   "metadata": {},
   "outputs": [],
   "source": [
    "def similarity_matrix(X, metric, sigma=1):\n",
    "    '''\n",
    "    Calculate and return the similarity matrix used in spectral clustering.\n",
    "\n",
    "    Parameters\n",
    "    ----------\n",
    "    X: m x n matrix - m rows of n dimensional data\n",
    "    metric: distance metric passed to scipy.spatial.distance.pdist()\n",
    "    sigma: scaling factor for Gaussian radial basis function (default=1)\n",
    "    '''\n",
    "\n",
    "    distance = squareform(pdist(X, metric))\n",
    "    W = np.exp(-(distance**2) / (2*sigma**2))\n",
    "    return W"
   ]
  },
  {
   "cell_type": "code",
   "execution_count": 25,
   "metadata": {},
   "outputs": [],
   "source": [
    "def gpc_phasemapping(xy_curr, labels_curr, xy_full, num_clusters,\n",
    "                     weight_prior=None):\n",
    "    '''\n",
    "    Take clustering labels for the samples and then extrapolate them throughout\n",
    "    composition space, segmenting the XY space into 'phase regions'.\n",
    "\n",
    "    Parameters\n",
    "    ----------\n",
    "    xy_curr: cartesian coordinates of measured data points\n",
    "    labels_curr: cluster labels for those data\n",
    "    xy_full: cartesian coordinates of measured and new, query data points\n",
    "    num_clusters: the number of clusters we're assuming exist\n",
    "    weight_prior: variance coefficient of (optional) prior kernel\n",
    "\n",
    "    Returns\n",
    "    -------\n",
    "    y_mean: data point label predictions\n",
    "    y_variance: data point label variances\n",
    "    f_mean: data point latent GP predictions\n",
    "    f_variance: data point latent GP variances\n",
    "    '''\n",
    "\n",
    "    data = (xy_curr, labels_curr)\n",
    "\n",
    "    if weight_prior is None:\n",
    "        kernel = gpflow.kernels.Matern32(lengthscales=[1, 1])\n",
    "    else:\n",
    "        prior_kernel = gpflow.kernels.SquaredExponential(active_dims=[2],\n",
    "                                                         lengthscales=0.001,\n",
    "                                                         variance=weight_prior)\n",
    "\n",
    "        # fix the prior kernel lengthscale and variance\n",
    "        gpflow.utilities.set_trainable(prior_kernel.parameters[1], False)\n",
    "        gpflow.utilities.set_trainable(prior_kernel.parameters[0], False)\n",
    "                                                         \n",
    "        kernel = gpflow.kernels.Matern32(active_dims=[0, 1]) + prior_kernel\n",
    "\n",
    "    invlink = gpflow.likelihoods.RobustMax(num_clusters)\n",
    "\n",
    "    likelihood = gpflow.likelihoods.MultiClass(num_clusters, invlink=invlink)\n",
    "\n",
    "    model = gpflow.models.VGP(data=data,\n",
    "                              kernel=kernel,\n",
    "                              likelihood=likelihood,\n",
    "                              num_latent_gps=num_clusters)\n",
    "\n",
    "    # hyperparameter optimization\n",
    "    opt = gpflow.optimizers.Scipy()\n",
    "    _ = opt.minimize(model.training_loss,\n",
    "                     model.trainable_variables,\n",
    "                     options={'maxiter': ci_niter(1000)})\n",
    "\n",
    "    # Poisson process for the full XY coordinates\n",
    "    y = model.predict_y(xy_full)\n",
    "    y_mean = y[0].numpy()\n",
    "    y_variance = y[1].numpy()\n",
    "\n",
    "    # (non-squeezed) probabilistic function for class labels\n",
    "    f = model.predict_f(xy_full)\n",
    "    f_mean = f[0].numpy()\n",
    "    f_variance = f[1].numpy()\n",
    "\n",
    "    return y_mean, y_variance, f_mean, f_variance"
   ]
  },
  {
   "cell_type": "markdown",
   "metadata": {},
   "source": [
    "## Experiment Loop"
   ]
  },
  {
   "cell_type": "code",
   "execution_count": 26,
   "metadata": {},
   "outputs": [],
   "source": [
    "data = loadmat('FeGaPd_full_data_220104a.mat')\n",
    "\n",
    "# composition data in cartesian coordinates\n",
    "composition = data['C']\n",
    "idx = [1, 2, 0]\n",
    "cartesian = np.array(list(zip(*project_sequence(composition[:, idx]))))\n",
    "\n",
    "# x ray diffraction data\n",
    "xrd = data['X'][:, 631:1181]\n",
    "\n",
    "# true phase mapping labels\n",
    "true_labels = data['labels_col']\n",
    "\n",
    "# list of all the predicted labels to compare to the true labels\n",
    "all_predicted_labels = []\n",
    "\n",
    "measured = [163]\n",
    "initial_num_measurements = len(measured)\n",
    "num_clusters = 5\n",
    "num_total = cartesian.shape[0]"
   ]
  },
  {
   "cell_type": "code",
   "execution_count": 27,
   "metadata": {},
   "outputs": [],
   "source": [
    "# seed the numpy random number generation for reproducability\n",
    "seed = 1\n",
    "rng = np.random.RandomState(seed)\n",
    "tf.random.set_seed(seed)"
   ]
  },
  {
   "cell_type": "code",
   "execution_count": 28,
   "metadata": {},
   "outputs": [],
   "source": [
    "# initialize these variables so we can access them in the main thread\n",
    "labels = []\n",
    "y_mean = []\n",
    "acquisition = []\n",
    "next_sample = None"
   ]
  },
  {
   "cell_type": "code",
   "execution_count": 29,
   "metadata": {},
   "outputs": [],
   "source": [
    "def main():\n",
    "    '''\n",
    "    Run the calculation loop while checking if the user is waiting to\n",
    "    provide input. If so, pause the loop, collect input, then resume.\n",
    "    '''\n",
    "\n",
    "    global all_predict_labels\n",
    "\n",
    "    global measured\n",
    "    global labels\n",
    "    global y_mean\n",
    "    global acquisition\n",
    "    global next_sample\n",
    "\n",
    "    global points\n",
    "\n",
    "    user_labels = None\n",
    "\n",
    "    for i in range(num_total - initial_num_measurements - 1):\n",
    "        if quit_lock.is_set():\n",
    "            logging.info(f'Experiment loop quit on iteration {i+1}')\n",
    "            break\n",
    "\n",
    "        logging.info(f'Begin experiment loop iteration {i+1}')\n",
    "\n",
    "        labels, _ = phase_mapping(xrd[measured, :], num_clusters, rng)\n",
    "\n",
    "        if user_labels is None:\n",
    "            # user didn't provide input last iteration\n",
    "            y_mean, _, _, _ = gpc_phasemapping(cartesian[measured, :],\n",
    "                                               labels,\n",
    "                                               cartesian,\n",
    "                                               num_clusters)\n",
    "\n",
    "            logging.debug('GPC phasemapping WITHOUT user input complete')\n",
    "        else:\n",
    "            # use the user labels as input\n",
    "            data_with_prior = np.column_stack((cartesian, user_labels))\n",
    "\n",
    "            y_mean, _, _, _ = gpc_phasemapping(data_with_prior[measured, :],\n",
    "                                               labels,\n",
    "                                               data_with_prior,\n",
    "                                               num_clusters,\n",
    "                                               weight_prior=1)\n",
    "\n",
    "            logging.debug('GPC phasemapping WITH user input complete')\n",
    "\n",
    "            # reset the user labels for next iteration\n",
    "            user_labels = None\n",
    "        \n",
    "        # new row of predicted labels, with NaN in place of unmeasured samples\n",
    "        new_label_row = np.argmax(y_mean, 1)\n",
    "        all_predicted_labels.append(new_label_row)\n",
    "\n",
    "        # calculate the next sample point\n",
    "        acquisition = entropy(y_mean, axis=1)\n",
    "        next_sample = np.argmax(acquisition)\n",
    "        measured = np.append(measured, next_sample)\n",
    "        \n",
    "        draw_background_plot(tax)\n",
    "\n",
    "        if not experiment_lock.is_set():\n",
    "            logging.info('Experiment thread pausing')\n",
    "\n",
    "            experiment_lock.wait()\n",
    "\n",
    "            logging.info('Experiment thread continuing')\n",
    "\n",
    "            if len(points) < 2:\n",
    "                raise ValueError('User didn\\'t add enough points.')\n",
    "            elif len(points) == 2:\n",
    "                # user drew a line\n",
    "                x1, y1 = points[0]\n",
    "                x2, y2 = points[1]\n",
    "\n",
    "                # calculate the distance between each point the line\n",
    "                d = [(x-x1)*(y2-y1)-(y-y1)*(x2-x1) for (x, y) in cartesian]\n",
    "\n",
    "                user_labels = np.sign(d)\n",
    "            else:\n",
    "                # user draw a polygon\n",
    "                polygon = path.Path(points)\n",
    "\n",
    "                user_labels = polygon.contains_points(cartesian)"
   ]
  },
  {
   "cell_type": "markdown",
   "metadata": {},
   "source": [
    "## Data Analysis Utilities"
   ]
  },
  {
   "cell_type": "code",
   "execution_count": 30,
   "metadata": {},
   "outputs": [],
   "source": [
    "from sklearn.metrics import fowlkes_mallows_score"
   ]
  },
  {
   "cell_type": "markdown",
   "metadata": {},
   "source": [
    "# Putting It Together"
   ]
  },
  {
   "cell_type": "code",
   "execution_count": 31,
   "metadata": {},
   "outputs": [],
   "source": [
    "# begin the experiment in a new thread\n",
    "experiment_thread = threading.Thread(target=main,\n",
    "                                     name='experiment')\n",
    "experiment_thread.start()"
   ]
  },
  {
   "cell_type": "code",
   "execution_count": 32,
   "metadata": {},
   "outputs": [
    {
     "data": {
      "application/vnd.jupyter.widget-view+json": {
       "model_id": "1efbf1a75fba4970b34636b682df933a",
       "version_major": 2,
       "version_minor": 0
      },
      "text/plain": [
       "VBox(children=(Canvas(toolbar=Toolbar(toolitems=[('Home', 'Reset original view', 'home', 'home'), ('Back', 'Ba…"
      ]
     },
     "metadata": {},
     "output_type": "display_data"
    }
   ],
   "source": [
    "# start the gui\n",
    "gui"
   ]
  },
  {
   "cell_type": "code",
   "execution_count": 33,
   "metadata": {},
   "outputs": [
    {
     "name": "stdout",
     "output_type": "stream",
     "text": [
      "dead\n"
     ]
    }
   ],
   "source": [
    "logging.debug('Checking if experiment thread is alive...')\n",
    "\n",
    "result = 'alive' if experiment_thread.is_alive() else 'dead'\n",
    "\n",
    "logging.debug(f'Experiment thread is {result}')\n",
    "\n",
    "print(result)"
   ]
  },
  {
   "cell_type": "markdown",
   "metadata": {},
   "source": [
    "# Data Analysis"
   ]
  },
  {
   "cell_type": "code",
   "execution_count": 32,
   "metadata": {},
   "outputs": [],
   "source": [
    "# save predicted labels for later comparison\n",
    "np.savetxt('predicted_labels.txt', all_predicted_labels)"
   ]
  },
  {
   "cell_type": "code",
   "execution_count": null,
   "metadata": {},
   "outputs": [],
   "source": [
    "# load predicted labels for analysis\n",
    "all_predicted_labels = np.loadtxt('predicted_labels.txt')"
   ]
  },
  {
   "cell_type": "code",
   "execution_count": 37,
   "metadata": {},
   "outputs": [],
   "source": [
    "all_predicted_labels = np.array(all_predicted_labels)"
   ]
  },
  {
   "cell_type": "code",
   "execution_count": 33,
   "metadata": {},
   "outputs": [],
   "source": [
    "# pick one of the 'true' labels to use for comparison\n",
    "true_labels_set = true_labels[0][0].flatten()"
   ]
  },
  {
   "cell_type": "code",
   "execution_count": 34,
   "metadata": {},
   "outputs": [],
   "source": [
    "num_experiments = len(all_predicted_labels)\n",
    "\n",
    "scores = np.zeros(num_experiments)\n",
    "\n",
    "for i in range(num_experiments):\n",
    "    scores[i] = fowlkes_mallows_score(true_labels_set, all_predicted_labels[i])\n"
   ]
  },
  {
   "cell_type": "code",
   "execution_count": 39,
   "metadata": {},
   "outputs": [
    {
     "data": {
      "application/vnd.jupyter.widget-view+json": {
       "model_id": "cc569b1310444e8f8e80a239c6463017",
       "version_major": 2,
       "version_minor": 0
      },
      "image/png": "[encoded data removed]",
      "text/html": [
       "\n",
       "            <div style=\"display: inline-block;\">\n",
       "                <div class=\"jupyter-widgets widget-label\" style=\"text-align: center;\">\n",
       "                    Figure\n",
       "                </div>\n",
       "                <img src='data:image/png;base64,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' width=640.0/>\n",
       "            </div>\n",
       "        "
      ],
      "text/plain": [
       "Canvas(toolbar=Toolbar(toolitems=[('Home', 'Reset original view', 'home', 'home'), ('Back', 'Back to previous …"
      ]
     },
     "metadata": {},
     "output_type": "display_data"
    }
   ],
   "source": [
    "fig, ax = plt.subplots()\n",
    "ax.plot(scores, '.')\n",
    "ax.set_ylim([0, 1])\n",
    "ax.set_ylabel('FMI')\n",
    "plt.show()"
   ]
  }
 ],
 "metadata": {
  "interpreter": {
   "hash": "d782e3369a9c649e580e37cdd6febd5b59d5ba3ca94b62266a945741e1c35eee"
  },
  "kernelspec": {
   "display_name": "Python 3.9.13 ('hitl')",
   "language": "python",
   "name": "python3"
  },
  "language_info": {
   "codemirror_mode": {
    "name": "ipython",
    "version": 3
   },
   "file_extension": ".py",
   "mimetype": "text/x-python",
   "name": "python",
   "nbconvert_exporter": "python",
   "pygments_lexer": "ipython3",
   "version": "3.9.13"
  }
 },
 "nbformat": 4,
 "nbformat_minor": 2
}
