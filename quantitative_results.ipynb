{
 "cells": [
  {
   "attachments": {},
   "cell_type": "markdown",
   "metadata": {},
   "source": [
    "# Imports"
   ]
  },
  {
   "cell_type": "code",
   "execution_count": 1,
   "metadata": {},
   "outputs": [],
   "source": [
    "import numpy as np\n",
    "from scipy.io import loadmat\n",
    "from ternary.helpers import project_sequence\n",
    "\n",
    "import tensorflow as tf\n",
    "\n",
    "from scipy.spatial.distance import pdist, squareform\n",
    "\n",
    "from sklearn.manifold import spectral_embedding\n",
    "from sklearn.mixture import GaussianMixture\n",
    "from matplotlib import path\n",
    "import gpflow\n",
    "\n",
    "import matplotlib.pyplot as plt\n",
    "import matplotlib as mpl\n",
    "import matplotlib.colors as colors\n",
    "import ternary\n",
    "\n",
    "from scipy.stats import entropy\n",
    "\n",
    "from sklearn.metrics import fowlkes_mallows_score"
   ]
  },
  {
   "cell_type": "code",
   "execution_count": 2,
   "metadata": {},
   "outputs": [],
   "source": [
    "# import the experimental data, including the...\n",
    "experimental_data = loadmat('FeGaPd_full_data_220104a.mat')\n",
    "\n",
    "# ...\"true\" labels from the data set, ...\n",
    "true_labels = experimental_data['labels_col'][0][1].flatten()\n",
    "\n",
    "# ...composition data in cartesian coordinates, ...\n",
    "composition = experimental_data['C']\n",
    "idx = [1, 2, 0]\n",
    "cartesian = np.array(list(zip(*project_sequence(composition[:, idx]))))\n",
    "\n",
    "# ...and x ray diffraction data\n",
    "xrd = experimental_data['X'][:, 631:1181]"
   ]
  },
  {
   "attachments": {},
   "cell_type": "markdown",
   "metadata": {},
   "source": [
    "# Gaussian Process Classification Methods"
   ]
  },
  {
   "cell_type": "code",
   "execution_count": 3,
   "metadata": {},
   "outputs": [],
   "source": [
    "def similarity_matrix(X, metric, sigma=1):\n",
    "    '''\n",
    "    Calculate and return the similarity matrix used in spectral clustering.\n",
    "\n",
    "    Parameters\n",
    "    ----------\n",
    "    X: m x n matrix - m rows of n dimensional data\n",
    "    metric: distance metric passed to scipy.spatial.distance.pdist()\n",
    "    sigma: scaling factor for Gaussian radial basis function (default=1)\n",
    "    '''\n",
    "\n",
    "    distance = squareform(pdist(X, metric))\n",
    "    W = np.exp(-(distance**2) / (2*sigma**2))\n",
    "    return W"
   ]
  },
  {
   "cell_type": "code",
   "execution_count": 4,
   "metadata": {},
   "outputs": [],
   "source": [
    "def phase_mapping(X, num_clusters, random_state):\n",
    "    '''\n",
    "    Cluster data using spectral clustering and a Gaussian mixture model\n",
    "\n",
    "    Parameters\n",
    "    ----------\n",
    "    X: m x n matrix - m rows of n dimensional data\n",
    "    num_clusters: number of groups to cluster data into\n",
    "    random_state: a numpy RandomState for reproducibility \n",
    "\n",
    "    Returns\n",
    "    -------\n",
    "    cl: clustering labels for each sample\n",
    "    cluster_prob: the probability for each sample to belong to each cluster\n",
    "    '''\n",
    "\n",
    "    K = similarity_matrix(X, 'cosine')\n",
    "\n",
    "    if X.shape[0] <= num_clusters:\n",
    "        # fewer data points than clusters, each point gets its own cluster\n",
    "        cluster_prob = np.eye(X.shape[0])\n",
    "    else:\n",
    "        x_se = spectral_embedding(adjacency=K,\n",
    "                                  n_components=num_clusters,\n",
    "                                  random_state=random_state)\n",
    "        model = GaussianMixture(n_components=num_clusters,\n",
    "                                covariance_type='diag',\n",
    "                                n_init=10,\n",
    "                                random_state=random_state).fit(x_se)\n",
    "\n",
    "        cluster_prob = model.predict_proba(x_se)\n",
    "\n",
    "    cl = np.argmax(cluster_prob, axis=1).flatten()\n",
    "    return cl, cluster_prob\n"
   ]
  },
  {
   "cell_type": "code",
   "execution_count": 5,
   "metadata": {},
   "outputs": [],
   "source": [
    "def get_user_labels(points):\n",
    "    '''\n",
    "    Return the user labels created using the provided user input\n",
    "    \n",
    "    Parameters\n",
    "    ----------\n",
    "    points: a list of tuples of the user input cartesian coordinates\n",
    "    '''\n",
    "\n",
    "    if len(points) < 2:\n",
    "        raise ValueError('User didn\\'t add enough points.')\n",
    "    elif len(points) == 2:\n",
    "        # user drew a line\n",
    "        x1, y1 = points[0]\n",
    "        x2, y2 = points[1]\n",
    "\n",
    "        # calculate the distance between each point the line\n",
    "        d = [(x-x1)*(y2-y1)-(y-y1)*(x2-x1) for (x, y) in cartesian]\n",
    "\n",
    "        user_labels = [1 if distance > 0 else 0 for distance in d]\n",
    "    else:\n",
    "        # user draw a polygon\n",
    "        polygon = path.Path(points)\n",
    "\n",
    "        user_labels = polygon.contains_points(cartesian)\n",
    "    \n",
    "    return(np.array(user_labels))"
   ]
  },
  {
   "cell_type": "code",
   "execution_count": 6,
   "metadata": {},
   "outputs": [],
   "source": [
    "def phase_mapping_with_input(X, num_clusters, random_state, points, measured):\n",
    "    '''\n",
    "    Cluster data using spectral clustering and a Gaussian mixture model\n",
    "\n",
    "    Parameters\n",
    "    ----------\n",
    "    X: m x n matrix - m rows of n dimensional data\n",
    "    num_clusters: number of groups to cluster data into\n",
    "    random_state: a numpy RandomState for reproducibility\n",
    "    points: a list of tuples of the user input cartesian coordinates\n",
    "    measured: list of samples which have been measured\n",
    "\n",
    "    Returns\n",
    "    -------\n",
    "    cl: clustering labels for each sample\n",
    "    cluster_prob: the probability for each sample to belong to each cluster\n",
    "    '''\n",
    "\n",
    "    K = similarity_matrix(X, 'cosine')\n",
    "\n",
    "    user_labels = np.expand_dims(get_user_labels(points)[measured], 1)\n",
    "\n",
    "    # if len(points) == 2:\n",
    "    if True:\n",
    "        user_kernel = gpflow.kernels.SquaredExponential(lengthscales=0.001)\n",
    "    else:\n",
    "        user_kernel = gpflow.kernels.Linear()\n",
    "\n",
    "    K += user_kernel.K(user_labels).numpy()\n",
    "\n",
    "    if X.shape[0] <= num_clusters:\n",
    "        # fewer data points than clusters, each point gets its own cluster\n",
    "        cluster_prob = np.eye(X.shape[0])\n",
    "    else:\n",
    "        x_se = spectral_embedding(adjacency=K,\n",
    "                                  n_components=num_clusters,\n",
    "                                  random_state=random_state)\n",
    "        model = GaussianMixture(n_components=num_clusters,\n",
    "                                covariance_type='diag',\n",
    "                                n_init=10,\n",
    "                                random_state=random_state).fit(x_se)\n",
    "\n",
    "        cluster_prob = model.predict_proba(x_se)\n",
    "\n",
    "    cl = np.argmax(cluster_prob, axis=1).flatten()\n",
    "    return cl, cluster_prob\n"
   ]
  },
  {
   "cell_type": "code",
   "execution_count": 7,
   "metadata": {},
   "outputs": [],
   "source": [
    "def gpc_phasemapping(xy_curr, labels_curr, xy_full, num_clusters, \n",
    "                     weight_prior=None, points=None):\n",
    "    '''\n",
    "    Take clustering labels for the samples and then extrapolate them throughout\n",
    "    composition space, segmenting the XY space into 'phase regions'.\n",
    "\n",
    "    Parameters\n",
    "    ----------\n",
    "    xy_curr: cartesian coordinates of measured data points\n",
    "    labels_curr: cluster labels for those data\n",
    "    xy_full: cartesian coordinates of measured and new, query data points\n",
    "    num_clusters: the number of clusters we're assuming exist\n",
    "    weight_prior: variance coefficient factor of (optional) prior kernel\n",
    "\n",
    "    Returns\n",
    "    -------\n",
    "    y_mean: data point label predictions\n",
    "    y_variance: data point label variances\n",
    "    f_mean: data point latent GP predictions\n",
    "    f_variance: data point latent GP variances\n",
    "    points: a list of tuples of the user input cartesian coordinates\n",
    "    '''\n",
    "\n",
    "    data = (xy_curr, labels_curr)\n",
    "\n",
    "    composition_kernel = gpflow.kernels.Matern32(active_dims=[0, 1],\n",
    "                                                 lengthscales=[0.2, 0.2],\n",
    "                                                 variance=1)\n",
    "\n",
    "    gpflow.utilities.set_trainable(composition_kernel.lengthscales, False)\n",
    "    gpflow.utilities.set_trainable(composition_kernel.variance, False)\n",
    "\n",
    "    if weight_prior is None:\n",
    "        kernel = composition_kernel\n",
    "    else:\n",
    "        if len(points) == 2:\n",
    "            # user input was a boundary\n",
    "            prior_kernel = gpflow.kernels.SquaredExponential(\n",
    "                active_dims=[2],\n",
    "                lengthscales=0.001,\n",
    "                variance=weight_prior)\n",
    "\n",
    "            # fix all the kernel hyperparameters\n",
    "            gpflow.utilities.set_trainable(prior_kernel.lengthscales, False)\n",
    "            gpflow.utilities.set_trainable(prior_kernel.variance, False)\n",
    "        else:\n",
    "            # user input was a region\n",
    "            prior_kernel = gpflow.kernels.Linear(active_dims=[2],\n",
    "                                                 variance=weight_prior)\n",
    "\n",
    "            gpflow.utilities.set_trainable(prior_kernel.variance, False)\n",
    "\n",
    "        kernel = composition_kernel + prior_kernel\n",
    "\n",
    "    invlink = gpflow.likelihoods.RobustMax(num_clusters)\n",
    "\n",
    "    gpflow.utilities.set_trainable(invlink.epsilon, True)\n",
    "\n",
    "    likelihood = gpflow.likelihoods.MultiClass(num_clusters, invlink=invlink)\n",
    "\n",
    "    model = gpflow.models.VGP(data=data,\n",
    "                              kernel=kernel,\n",
    "                              likelihood=likelihood,\n",
    "                              num_latent_gps=num_clusters)\n",
    "\n",
    "    # hyperparameter optimization\n",
    "    opt = gpflow.optimizers.Scipy()\n",
    "    opt_result = opt.minimize(model.training_loss,\n",
    "                              model.trainable_variables,\n",
    "                              options={'maxiter': 1000})\n",
    "\n",
    "    # Poisson process for the full XY coordinates\n",
    "    y = model.predict_y(xy_full)\n",
    "    y_mean = y[0].numpy()\n",
    "    y_variance = y[1].numpy()\n",
    "\n",
    "    # (non-squeezed) probabilistic function for class labels\n",
    "    f = model.predict_f(xy_full)\n",
    "    f_mean = f[0].numpy()\n",
    "    f_variance = f[1].numpy()\n",
    "\n",
    "    return y_mean, y_variance, f_mean, f_variance\n"
   ]
  },
  {
   "cell_type": "code",
   "execution_count": 8,
   "metadata": {},
   "outputs": [],
   "source": [
    "def get_hitl_labels(user_points, measured_indices):\n",
    "    '''\n",
    "    Return the 5th iteration clustering results using the provided user input\n",
    "    \n",
    "    Parameters\n",
    "    ----------\n",
    "    user_points: a list of tuples of the user input cartesian coordinates\n",
    "    measured_indices: a list of indices of the measured compositions\n",
    "    '''\n",
    "\n",
    "    user_labels = get_user_labels(user_points)\n",
    "\n",
    "    if len(user_points) < 2:\n",
    "        raise ValueError('User didn\\'t add enough points.')\n",
    "    elif len(user_points) == 2:\n",
    "        # user drew a line\n",
    "        x1, y1 = user_points[0]\n",
    "        x2, y2 = user_points[1]\n",
    "\n",
    "        # calculate the distance between each point the line\n",
    "        d = [(x-x1)*(y2-y1)-(y-y1)*(x2-x1) for (x, y) in cartesian]\n",
    "\n",
    "        user_labels = [1 if distance > 0 else 0 for distance in d]\n",
    "    else:\n",
    "        # user draw a polygon\n",
    "        polygon = path.Path(user_points)\n",
    "\n",
    "        user_labels = polygon.contains_points(cartesian)\n",
    "    \n",
    "    labels = [0, 1, 2, 3, 4]\n",
    "\n",
    "    # use the user labels as input\n",
    "    data_with_prior = np.column_stack((cartesian, user_labels))\n",
    "\n",
    "    y_mean, _, _, _ = gpc_phasemapping(data_with_prior[measured_indices, :],\n",
    "                                       labels,\n",
    "                                       data_with_prior,\n",
    "                                       5,\n",
    "                                       weight_prior=1,\n",
    "                                       points=user_points)\n",
    "\n",
    "    return(y_mean)\n"
   ]
  },
  {
   "attachments": {},
   "cell_type": "markdown",
   "metadata": {},
   "source": [
    "# Random Samples"
   ]
  },
  {
   "cell_type": "code",
   "execution_count": 17,
   "metadata": {},
   "outputs": [],
   "source": [
    "# user_points = [(0.2, 0.3), (0.4, 0.3)]\n",
    "user_points = [(0.07, 0.05), (0.16, 0.25), (0.3, 0.25), (0.1, 0.03)]\n",
    "\n",
    "num_samples = 500\n",
    "num_compositions = composition.shape[0]"
   ]
  },
  {
   "cell_type": "code",
   "execution_count": 18,
   "metadata": {},
   "outputs": [],
   "source": [
    "# initialize result arrays\n",
    "measured_indices = np.zeros((num_samples, 5), np.int16)\n",
    "\n",
    "control_labels = np.zeros((num_samples, num_compositions))\n",
    "control_acquisition = np.zeros((num_samples, num_compositions))\n",
    "\n",
    "hitl_labels = np.zeros((num_samples, num_compositions))\n",
    "hitl_acquisition = np.zeros((num_samples, num_compositions))\n",
    "\n",
    "# perform random experiments\n",
    "for i in range(num_samples):\n",
    "    # generate random measurements\n",
    "    measured_indices[i, :] = np.random.choice(a=num_compositions, \n",
    "                                              size=(1, 5),\n",
    "                                              replace=False)\n",
    "\n",
    "    # compute control prediction and acquisition function values \n",
    "    y_mean, _, _, _ = gpc_phasemapping(cartesian[measured_indices[i, :], :],\n",
    "                                       [0, 1, 2, 3, 4],\n",
    "                                       cartesian,\n",
    "                                       5)\n",
    "    control_labels[i, :] = np.argmax(y_mean, 1)\n",
    "\n",
    "    control_acquisition[i, :] = entropy(y_mean, axis=1)\n",
    "\n",
    "    # compute the hitl prediction and acquisition function values\n",
    "    input_y_mean = get_hitl_labels(user_points, measured_indices[i, :])\n",
    "    hitl_labels[i, :] = np.argmax(input_y_mean, 1)\n",
    "\n",
    "    hitl_acquisition[i, :] = entropy(input_y_mean, axis=1)"
   ]
  },
  {
   "attachments": {},
   "cell_type": "markdown",
   "metadata": {},
   "source": [
    "# Save Results"
   ]
  },
  {
   "cell_type": "code",
   "execution_count": 19,
   "metadata": {},
   "outputs": [],
   "source": [
    "prefix = 'region'\n",
    "\n",
    "np.savetxt(fname='quantitative_results/' + prefix + '_measured_indices.txt',\n",
    "           X=measured_indices,\n",
    "           fmt='%d')\n",
    "np.savetxt(fname='quantitative_results/' + prefix + '_control_acquisition.txt',\n",
    "           X=control_acquisition,\n",
    "           fmt='%f')\n",
    "np.savetxt(fname='quantitative_results/' + prefix + '_control_labels.txt',\n",
    "           X=control_labels,\n",
    "           fmt='%f')\n",
    "np.savetxt(fname='quantitative_results/' + prefix + '_hitl_acquisition.txt',\n",
    "           X=hitl_acquisition,\n",
    "           fmt='%f')\n",
    "np.savetxt(fname='quantitative_results/' + prefix + '_hitl_labels.txt',\n",
    "           X=hitl_labels,\n",
    "           fmt='%f')"
   ]
  },
  {
   "attachments": {},
   "cell_type": "markdown",
   "metadata": {},
   "source": [
    "# Samples From File"
   ]
  },
  {
   "cell_type": "code",
   "execution_count": 50,
   "metadata": {},
   "outputs": [],
   "source": [
    "user_points = [(0.07, 0.05), (0.16, 0.25), (0.3, 0.25), (0.1, 0.03)]\n",
    "\n",
    "# initialize result arrays\n",
    "folder = './quantitative_results/'\n",
    "measured_indices = np.loadtxt(folder + 'boundary_measured_indices.txt',\n",
    "                              dtype=np.int16)\n",
    "\n",
    "control_acquisition = np.zeros((num_samples, num_compositions))\n",
    "\n",
    "hitl_labels = np.zeros((num_samples, num_compositions))\n",
    "hitl_acquisition = np.zeros((num_samples, num_compositions))\n",
    "\n",
    "# perform random experiments\n",
    "for i in range(num_samples):\n",
    "    # compute the hitl prediction and acquisition function values\n",
    "    input_y_mean = get_hitl_labels(user_points, measured_indices[i, :])\n",
    "    hitl_labels[i, :] = np.argmax(input_y_mean, 1)\n",
    "\n",
    "    hitl_acquisition[i, :] = entropy(input_y_mean, axis=1)"
   ]
  },
  {
   "attachments": {},
   "cell_type": "markdown",
   "metadata": {},
   "source": [
    "# Save Results (Again)"
   ]
  },
  {
   "cell_type": "code",
   "execution_count": 51,
   "metadata": {},
   "outputs": [],
   "source": [
    "prefix = 'region'\n",
    "np.savetxt(fname='quantitative_results/' + prefix + '_hitl_acquisition_2.txt',\n",
    "           X=hitl_acquisition,\n",
    "           fmt='%f')\n",
    "np.savetxt(fname='quantitative_results/' + prefix + '_hitl_labels_2.txt',\n",
    "           X=hitl_labels,\n",
    "           fmt='%f')"
   ]
  },
  {
   "attachments": {},
   "cell_type": "markdown",
   "metadata": {},
   "source": [
    "# Compute FMI"
   ]
  },
  {
   "cell_type": "code",
   "execution_count": 20,
   "metadata": {},
   "outputs": [],
   "source": [
    "# get \"true\" labels\n",
    "true_labels = experimental_data['labels_col'][0][1].flatten()"
   ]
  },
  {
   "cell_type": "code",
   "execution_count": 21,
   "metadata": {},
   "outputs": [],
   "source": [
    "control_scores = np.zeros(num_samples)\n",
    "hitl_scores = np.zeros(num_samples)\n",
    "\n",
    "for i in range(num_samples):\n",
    "    control_scores[i] = fowlkes_mallows_score(true_labels, control_labels[i])\n",
    "    hitl_scores[i] = fowlkes_mallows_score(true_labels, hitl_labels[i])"
   ]
  },
  {
   "cell_type": "code",
   "execution_count": 22,
   "metadata": {},
   "outputs": [
    {
     "data": {
      "image/png": "[encoded data removed]",
      "text/plain": [
       "<Figure size 432x288 with 1 Axes>"
      ]
     },
     "metadata": {
      "needs_background": "light"
     },
     "output_type": "display_data"
    }
   ],
   "source": [
    "fig, ax = plt.subplots()\n",
    "\n",
    "ax.hist([control_scores, hitl_scores], label=['control', prefix])\n",
    "\n",
    "ax.legend()\n",
    "\n",
    "plt.show()"
   ]
  },
  {
   "cell_type": "code",
   "execution_count": 23,
   "metadata": {},
   "outputs": [],
   "source": [
    "np.savetxt(fname='quantitative_results/' + prefix + '_control_scores.txt',\n",
    "           X=control_scores,\n",
    "           fmt='%f')\n",
    "np.savetxt(fname='quantitative_results/' + prefix + '_hitl_scores.txt',\n",
    "           X=hitl_scores,\n",
    "           fmt='%f')"
   ]
  }
 ],
 "metadata": {
  "kernelspec": {
   "display_name": "hitl",
   "language": "python",
   "name": "python3"
  },
  "language_info": {
   "codemirror_mode": {
    "name": "ipython",
    "version": 3
   },
   "file_extension": ".py",
   "mimetype": "text/x-python",
   "name": "python",
   "nbconvert_exporter": "python",
   "pygments_lexer": "ipython3",
   "version": "3.9.13"
  },
  "orig_nbformat": 4,
  "vscode": {
   "interpreter": {
    "hash": "d782e3369a9c649e580e37cdd6febd5b59d5ba3ca94b62266a945741e1c35eee"
   }
  }
 },
 "nbformat": 4,
 "nbformat_minor": 2
}
